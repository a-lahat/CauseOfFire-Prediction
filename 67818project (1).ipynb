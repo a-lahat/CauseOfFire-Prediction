{
 "cells": [
  {
   "cell_type": "code",
   "execution_count": 31,
   "id": "c34f07b6",
   "metadata": {},
   "outputs": [],
   "source": [
    "import sqlite3\n",
    "import pandas as pd\n",
    "import numpy as np\n",
    "from datetime import datetime as dt\n",
    "from matplotlib import pyplot as plt\n",
    "import seaborn as sns"
   ]
  },
  {
   "cell_type": "code",
   "execution_count": 17,
   "id": "b4fc0bc5",
   "metadata": {},
   "outputs": [],
   "source": [
    "conn = sqlite3.connect('C:\\\\Users\\\\lahat\\\\Downloads\\\\FPA_FOD_20170508.sqlite')\n",
    "df = pd.read_sql_query(\"SELECT * from Fires\", conn)"
   ]
  },
  {
   "cell_type": "code",
   "execution_count": 18,
   "id": "6080d9bf",
   "metadata": {},
   "outputs": [
    {
     "data": {
      "text/html": [
       "<div>\n",
       "<style scoped>\n",
       "    .dataframe tbody tr th:only-of-type {\n",
       "        vertical-align: middle;\n",
       "    }\n",
       "\n",
       "    .dataframe tbody tr th {\n",
       "        vertical-align: top;\n",
       "    }\n",
       "\n",
       "    .dataframe thead th {\n",
       "        text-align: right;\n",
       "    }\n",
       "</style>\n",
       "<table border=\"1\" class=\"dataframe\">\n",
       "  <thead>\n",
       "    <tr style=\"text-align: right;\">\n",
       "      <th></th>\n",
       "      <th>OBJECTID</th>\n",
       "      <th>FOD_ID</th>\n",
       "      <th>FPA_ID</th>\n",
       "      <th>SOURCE_SYSTEM_TYPE</th>\n",
       "      <th>SOURCE_SYSTEM</th>\n",
       "      <th>NWCG_REPORTING_AGENCY</th>\n",
       "      <th>NWCG_REPORTING_UNIT_ID</th>\n",
       "      <th>NWCG_REPORTING_UNIT_NAME</th>\n",
       "      <th>SOURCE_REPORTING_UNIT</th>\n",
       "      <th>SOURCE_REPORTING_UNIT_NAME</th>\n",
       "      <th>...</th>\n",
       "      <th>FIRE_SIZE_CLASS</th>\n",
       "      <th>LATITUDE</th>\n",
       "      <th>LONGITUDE</th>\n",
       "      <th>OWNER_CODE</th>\n",
       "      <th>OWNER_DESCR</th>\n",
       "      <th>STATE</th>\n",
       "      <th>COUNTY</th>\n",
       "      <th>FIPS_CODE</th>\n",
       "      <th>FIPS_NAME</th>\n",
       "      <th>Shape</th>\n",
       "    </tr>\n",
       "  </thead>\n",
       "  <tbody>\n",
       "    <tr>\n",
       "      <th>0</th>\n",
       "      <td>463445</td>\n",
       "      <td>497959</td>\n",
       "      <td>SFO-ID0043_3101998026</td>\n",
       "      <td>NONFED</td>\n",
       "      <td>ST-NASF</td>\n",
       "      <td>ST/C&amp;L</td>\n",
       "      <td>USIDIDS</td>\n",
       "      <td>Idaho Department of Lands</td>\n",
       "      <td>ID310</td>\n",
       "      <td>IDS District 310</td>\n",
       "      <td>...</td>\n",
       "      <td>B</td>\n",
       "      <td>47.600845</td>\n",
       "      <td>-116.306789</td>\n",
       "      <td>14.0</td>\n",
       "      <td>MISSING/NOT SPECIFIED</td>\n",
       "      <td>ID</td>\n",
       "      <td>Kootenai</td>\n",
       "      <td>055</td>\n",
       "      <td>Kootenai</td>\n",
       "      <td>b'\\x00\\x01\\xad\\x10\\x00\\x00pqTn\\xa2\\x13]\\xc0\\x9...</td>\n",
       "    </tr>\n",
       "    <tr>\n",
       "      <th>1</th>\n",
       "      <td>1464479</td>\n",
       "      <td>201104109</td>\n",
       "      <td>W-626311</td>\n",
       "      <td>FED</td>\n",
       "      <td>DOI-WFMI</td>\n",
       "      <td>BIA</td>\n",
       "      <td>USMTFBA</td>\n",
       "      <td>Fort Belknap Agency</td>\n",
       "      <td>MTFBA</td>\n",
       "      <td>Fort Belknap Agency</td>\n",
       "      <td>...</td>\n",
       "      <td>A</td>\n",
       "      <td>48.403300</td>\n",
       "      <td>-108.289600</td>\n",
       "      <td>8.0</td>\n",
       "      <td>PRIVATE</td>\n",
       "      <td>MT</td>\n",
       "      <td>None</td>\n",
       "      <td>None</td>\n",
       "      <td>None</td>\n",
       "      <td>b'\\x00\\x01\\xad\\x10\\x00\\x00\\xf8:p\\xce\\x88\\x12[\\...</td>\n",
       "    </tr>\n",
       "    <tr>\n",
       "      <th>2</th>\n",
       "      <td>1591094</td>\n",
       "      <td>201608816</td>\n",
       "      <td>SFO-NE-2012-16029</td>\n",
       "      <td>NONFED</td>\n",
       "      <td>ST-NASF</td>\n",
       "      <td>ST/C&amp;L</td>\n",
       "      <td>USNENES</td>\n",
       "      <td>Nebraska Department of Forestry</td>\n",
       "      <td>NENFS</td>\n",
       "      <td>Nebraska Forest Service</td>\n",
       "      <td>...</td>\n",
       "      <td>B</td>\n",
       "      <td>40.668460</td>\n",
       "      <td>-99.089130</td>\n",
       "      <td>14.0</td>\n",
       "      <td>MISSING/NOT SPECIFIED</td>\n",
       "      <td>NE</td>\n",
       "      <td>None</td>\n",
       "      <td>None</td>\n",
       "      <td>None</td>\n",
       "      <td>b'\\x00\\x01\\xad\\x10\\x00\\x00\\xe8\\xc5PN\\xb4\\xc5X\\...</td>\n",
       "    </tr>\n",
       "    <tr>\n",
       "      <th>3</th>\n",
       "      <td>944726</td>\n",
       "      <td>1072277</td>\n",
       "      <td>SWRA_VA_11300</td>\n",
       "      <td>NONFED</td>\n",
       "      <td>ST-VAVAS</td>\n",
       "      <td>ST/C&amp;L</td>\n",
       "      <td>USVAVAS</td>\n",
       "      <td>Virginia Department of Forestry</td>\n",
       "      <td>VAVAS3</td>\n",
       "      <td>Farmville District</td>\n",
       "      <td>...</td>\n",
       "      <td>B</td>\n",
       "      <td>39.000000</td>\n",
       "      <td>-78.269200</td>\n",
       "      <td>14.0</td>\n",
       "      <td>MISSING/NOT SPECIFIED</td>\n",
       "      <td>VA</td>\n",
       "      <td>None</td>\n",
       "      <td>None</td>\n",
       "      <td>None</td>\n",
       "      <td>b'\\x00\\x01\\xad\\x10\\x00\\x00P\\x05\\xa3\\x92:\\x91S\\...</td>\n",
       "    </tr>\n",
       "    <tr>\n",
       "      <th>4</th>\n",
       "      <td>896277</td>\n",
       "      <td>1022153</td>\n",
       "      <td>SWRA_LA_24392</td>\n",
       "      <td>NONFED</td>\n",
       "      <td>ST-LALAS</td>\n",
       "      <td>ST/C&amp;L</td>\n",
       "      <td>USLALAS</td>\n",
       "      <td>Louisiana Office of Forestry</td>\n",
       "      <td>LALAS1</td>\n",
       "      <td>LAS District 1</td>\n",
       "      <td>...</td>\n",
       "      <td>B</td>\n",
       "      <td>30.993300</td>\n",
       "      <td>-89.863900</td>\n",
       "      <td>14.0</td>\n",
       "      <td>MISSING/NOT SPECIFIED</td>\n",
       "      <td>LA</td>\n",
       "      <td>None</td>\n",
       "      <td>None</td>\n",
       "      <td>None</td>\n",
       "      <td>b'\\x00\\x01\\xad\\x10\\x00\\x00\\xe8\\xc09#JwV\\xc0\\xf...</td>\n",
       "    </tr>\n",
       "  </tbody>\n",
       "</table>\n",
       "<p>5 rows × 39 columns</p>\n",
       "</div>"
      ],
      "text/plain": [
       "   OBJECTID     FOD_ID                 FPA_ID SOURCE_SYSTEM_TYPE  \\\n",
       "0    463445     497959  SFO-ID0043_3101998026             NONFED   \n",
       "1   1464479  201104109               W-626311                FED   \n",
       "2   1591094  201608816      SFO-NE-2012-16029             NONFED   \n",
       "3    944726    1072277          SWRA_VA_11300             NONFED   \n",
       "4    896277    1022153          SWRA_LA_24392             NONFED   \n",
       "\n",
       "  SOURCE_SYSTEM NWCG_REPORTING_AGENCY NWCG_REPORTING_UNIT_ID  \\\n",
       "0       ST-NASF                ST/C&L                USIDIDS   \n",
       "1      DOI-WFMI                   BIA                USMTFBA   \n",
       "2       ST-NASF                ST/C&L                USNENES   \n",
       "3      ST-VAVAS                ST/C&L                USVAVAS   \n",
       "4      ST-LALAS                ST/C&L                USLALAS   \n",
       "\n",
       "          NWCG_REPORTING_UNIT_NAME SOURCE_REPORTING_UNIT  \\\n",
       "0        Idaho Department of Lands                 ID310   \n",
       "1              Fort Belknap Agency                 MTFBA   \n",
       "2  Nebraska Department of Forestry                 NENFS   \n",
       "3  Virginia Department of Forestry                VAVAS3   \n",
       "4     Louisiana Office of Forestry                LALAS1   \n",
       "\n",
       "  SOURCE_REPORTING_UNIT_NAME  ... FIRE_SIZE_CLASS   LATITUDE   LONGITUDE  \\\n",
       "0           IDS District 310  ...               B  47.600845 -116.306789   \n",
       "1        Fort Belknap Agency  ...               A  48.403300 -108.289600   \n",
       "2    Nebraska Forest Service  ...               B  40.668460  -99.089130   \n",
       "3         Farmville District  ...               B  39.000000  -78.269200   \n",
       "4             LAS District 1  ...               B  30.993300  -89.863900   \n",
       "\n",
       "  OWNER_CODE            OWNER_DESCR STATE    COUNTY FIPS_CODE FIPS_NAME  \\\n",
       "0       14.0  MISSING/NOT SPECIFIED    ID  Kootenai       055  Kootenai   \n",
       "1        8.0                PRIVATE    MT      None      None      None   \n",
       "2       14.0  MISSING/NOT SPECIFIED    NE      None      None      None   \n",
       "3       14.0  MISSING/NOT SPECIFIED    VA      None      None      None   \n",
       "4       14.0  MISSING/NOT SPECIFIED    LA      None      None      None   \n",
       "\n",
       "                                               Shape  \n",
       "0  b'\\x00\\x01\\xad\\x10\\x00\\x00pqTn\\xa2\\x13]\\xc0\\x9...  \n",
       "1  b'\\x00\\x01\\xad\\x10\\x00\\x00\\xf8:p\\xce\\x88\\x12[\\...  \n",
       "2  b'\\x00\\x01\\xad\\x10\\x00\\x00\\xe8\\xc5PN\\xb4\\xc5X\\...  \n",
       "3  b'\\x00\\x01\\xad\\x10\\x00\\x00P\\x05\\xa3\\x92:\\x91S\\...  \n",
       "4  b'\\x00\\x01\\xad\\x10\\x00\\x00\\xe8\\xc09#JwV\\xc0\\xf...  \n",
       "\n",
       "[5 rows x 39 columns]"
      ]
     },
     "execution_count": 18,
     "metadata": {},
     "output_type": "execute_result"
    }
   ],
   "source": [
    "df.head()"
   ]
  },
  {
   "cell_type": "code",
   "execution_count": 19,
   "id": "3a01cde8",
   "metadata": {},
   "outputs": [
    {
     "data": {
      "text/plain": [
       "Index(['OBJECTID', 'FOD_ID', 'FPA_ID', 'SOURCE_SYSTEM_TYPE', 'SOURCE_SYSTEM',\n",
       "       'NWCG_REPORTING_AGENCY', 'NWCG_REPORTING_UNIT_ID',\n",
       "       'NWCG_REPORTING_UNIT_NAME', 'SOURCE_REPORTING_UNIT',\n",
       "       'SOURCE_REPORTING_UNIT_NAME', 'LOCAL_FIRE_REPORT_ID',\n",
       "       'LOCAL_INCIDENT_ID', 'FIRE_CODE', 'FIRE_NAME',\n",
       "       'ICS_209_INCIDENT_NUMBER', 'ICS_209_NAME', 'MTBS_ID', 'MTBS_FIRE_NAME',\n",
       "       'COMPLEX_NAME', 'FIRE_YEAR', 'DISCOVERY_DATE', 'DISCOVERY_DOY',\n",
       "       'DISCOVERY_TIME', 'STAT_CAUSE_CODE', 'STAT_CAUSE_DESCR', 'CONT_DATE',\n",
       "       'CONT_DOY', 'CONT_TIME', 'FIRE_SIZE', 'FIRE_SIZE_CLASS', 'LATITUDE',\n",
       "       'LONGITUDE', 'OWNER_CODE', 'OWNER_DESCR', 'STATE', 'COUNTY',\n",
       "       'FIPS_CODE', 'FIPS_NAME', 'Shape'],\n",
       "      dtype='object')"
      ]
     },
     "execution_count": 19,
     "metadata": {},
     "output_type": "execute_result"
    }
   ],
   "source": [
    "df.columns"
   ]
  },
  {
   "cell_type": "code",
   "execution_count": 20,
   "id": "bd052e12",
   "metadata": {},
   "outputs": [
    {
     "data": {
      "text/html": [
       "<div>\n",
       "<style scoped>\n",
       "    .dataframe tbody tr th:only-of-type {\n",
       "        vertical-align: middle;\n",
       "    }\n",
       "\n",
       "    .dataframe tbody tr th {\n",
       "        vertical-align: top;\n",
       "    }\n",
       "\n",
       "    .dataframe thead th {\n",
       "        text-align: right;\n",
       "    }\n",
       "</style>\n",
       "<table border=\"1\" class=\"dataframe\">\n",
       "  <thead>\n",
       "    <tr style=\"text-align: right;\">\n",
       "      <th></th>\n",
       "      <th>STAT_CAUSE_CODE</th>\n",
       "      <th>STAT_CAUSE_DESCR</th>\n",
       "    </tr>\n",
       "  </thead>\n",
       "  <tbody>\n",
       "    <tr>\n",
       "      <th>0</th>\n",
       "      <td>13.0</td>\n",
       "      <td>Missing/Undefined</td>\n",
       "    </tr>\n",
       "    <tr>\n",
       "      <th>1</th>\n",
       "      <td>9.0</td>\n",
       "      <td>Miscellaneous</td>\n",
       "    </tr>\n",
       "    <tr>\n",
       "      <th>4</th>\n",
       "      <td>7.0</td>\n",
       "      <td>Arson</td>\n",
       "    </tr>\n",
       "    <tr>\n",
       "      <th>5</th>\n",
       "      <td>5.0</td>\n",
       "      <td>Debris Burning</td>\n",
       "    </tr>\n",
       "    <tr>\n",
       "      <th>6</th>\n",
       "      <td>3.0</td>\n",
       "      <td>Smoking</td>\n",
       "    </tr>\n",
       "    <tr>\n",
       "      <th>8</th>\n",
       "      <td>4.0</td>\n",
       "      <td>Campfire</td>\n",
       "    </tr>\n",
       "    <tr>\n",
       "      <th>12</th>\n",
       "      <td>2.0</td>\n",
       "      <td>Equipment Use</td>\n",
       "    </tr>\n",
       "    <tr>\n",
       "      <th>17</th>\n",
       "      <td>11.0</td>\n",
       "      <td>Powerline</td>\n",
       "    </tr>\n",
       "    <tr>\n",
       "      <th>22</th>\n",
       "      <td>1.0</td>\n",
       "      <td>Lightning</td>\n",
       "    </tr>\n",
       "    <tr>\n",
       "      <th>33</th>\n",
       "      <td>6.0</td>\n",
       "      <td>Railroad</td>\n",
       "    </tr>\n",
       "    <tr>\n",
       "      <th>45</th>\n",
       "      <td>8.0</td>\n",
       "      <td>Children</td>\n",
       "    </tr>\n",
       "    <tr>\n",
       "      <th>146</th>\n",
       "      <td>10.0</td>\n",
       "      <td>Fireworks</td>\n",
       "    </tr>\n",
       "    <tr>\n",
       "      <th>397</th>\n",
       "      <td>12.0</td>\n",
       "      <td>Structure</td>\n",
       "    </tr>\n",
       "  </tbody>\n",
       "</table>\n",
       "</div>"
      ],
      "text/plain": [
       "     STAT_CAUSE_CODE   STAT_CAUSE_DESCR\n",
       "0               13.0  Missing/Undefined\n",
       "1                9.0      Miscellaneous\n",
       "4                7.0              Arson\n",
       "5                5.0     Debris Burning\n",
       "6                3.0            Smoking\n",
       "8                4.0           Campfire\n",
       "12               2.0      Equipment Use\n",
       "17              11.0          Powerline\n",
       "22               1.0          Lightning\n",
       "33               6.0           Railroad\n",
       "45               8.0           Children\n",
       "146             10.0          Fireworks\n",
       "397             12.0          Structure"
      ]
     },
     "execution_count": 20,
     "metadata": {},
     "output_type": "execute_result"
    }
   ],
   "source": [
    "### Cause and code are injective (one-to-one)\n",
    "df[['STAT_CAUSE_CODE', 'STAT_CAUSE_DESCR']].drop_duplicates()"
   ]
  },
  {
   "cell_type": "code",
   "execution_count": 21,
   "id": "97351323",
   "metadata": {},
   "outputs": [
    {
     "data": {
      "text/html": [
       "<div>\n",
       "<style scoped>\n",
       "    .dataframe tbody tr th:only-of-type {\n",
       "        vertical-align: middle;\n",
       "    }\n",
       "\n",
       "    .dataframe tbody tr th {\n",
       "        vertical-align: top;\n",
       "    }\n",
       "\n",
       "    .dataframe thead th {\n",
       "        text-align: right;\n",
       "    }\n",
       "</style>\n",
       "<table border=\"1\" class=\"dataframe\">\n",
       "  <thead>\n",
       "    <tr style=\"text-align: right;\">\n",
       "      <th></th>\n",
       "      <th>CONT_DOY</th>\n",
       "      <th>CONT_TIME</th>\n",
       "      <th>FIRE_SIZE</th>\n",
       "      <th>FIRE_SIZE_CLASS</th>\n",
       "      <th>LATITUDE</th>\n",
       "      <th>LONGITUDE</th>\n",
       "      <th>OWNER_CODE</th>\n",
       "      <th>OWNER_DESCR</th>\n",
       "      <th>STATE</th>\n",
       "      <th>COUNTY</th>\n",
       "      <th>FIPS_CODE</th>\n",
       "      <th>FIPS_NAME</th>\n",
       "      <th>Shape</th>\n",
       "    </tr>\n",
       "  </thead>\n",
       "  <tbody>\n",
       "    <tr>\n",
       "      <th>0</th>\n",
       "      <td>NaN</td>\n",
       "      <td>None</td>\n",
       "      <td>2.0</td>\n",
       "      <td>B</td>\n",
       "      <td>47.600845</td>\n",
       "      <td>-116.306789</td>\n",
       "      <td>14.0</td>\n",
       "      <td>MISSING/NOT SPECIFIED</td>\n",
       "      <td>ID</td>\n",
       "      <td>Kootenai</td>\n",
       "      <td>055</td>\n",
       "      <td>Kootenai</td>\n",
       "      <td>b'\\x00\\x01\\xad\\x10\\x00\\x00pqTn\\xa2\\x13]\\xc0\\x9...</td>\n",
       "    </tr>\n",
       "    <tr>\n",
       "      <th>1</th>\n",
       "      <td>234.0</td>\n",
       "      <td>1800</td>\n",
       "      <td>0.1</td>\n",
       "      <td>A</td>\n",
       "      <td>48.403300</td>\n",
       "      <td>-108.289600</td>\n",
       "      <td>8.0</td>\n",
       "      <td>PRIVATE</td>\n",
       "      <td>MT</td>\n",
       "      <td>None</td>\n",
       "      <td>None</td>\n",
       "      <td>None</td>\n",
       "      <td>b'\\x00\\x01\\xad\\x10\\x00\\x00\\xf8:p\\xce\\x88\\x12[\\...</td>\n",
       "    </tr>\n",
       "    <tr>\n",
       "      <th>2</th>\n",
       "      <td>140.0</td>\n",
       "      <td>1630</td>\n",
       "      <td>1.5</td>\n",
       "      <td>B</td>\n",
       "      <td>40.668460</td>\n",
       "      <td>-99.089130</td>\n",
       "      <td>14.0</td>\n",
       "      <td>MISSING/NOT SPECIFIED</td>\n",
       "      <td>NE</td>\n",
       "      <td>None</td>\n",
       "      <td>None</td>\n",
       "      <td>None</td>\n",
       "      <td>b'\\x00\\x01\\xad\\x10\\x00\\x00\\xe8\\xc5PN\\xb4\\xc5X\\...</td>\n",
       "    </tr>\n",
       "    <tr>\n",
       "      <th>3</th>\n",
       "      <td>NaN</td>\n",
       "      <td>None</td>\n",
       "      <td>2.0</td>\n",
       "      <td>B</td>\n",
       "      <td>39.000000</td>\n",
       "      <td>-78.269200</td>\n",
       "      <td>14.0</td>\n",
       "      <td>MISSING/NOT SPECIFIED</td>\n",
       "      <td>VA</td>\n",
       "      <td>None</td>\n",
       "      <td>None</td>\n",
       "      <td>None</td>\n",
       "      <td>b'\\x00\\x01\\xad\\x10\\x00\\x00P\\x05\\xa3\\x92:\\x91S\\...</td>\n",
       "    </tr>\n",
       "    <tr>\n",
       "      <th>4</th>\n",
       "      <td>NaN</td>\n",
       "      <td>None</td>\n",
       "      <td>5.0</td>\n",
       "      <td>B</td>\n",
       "      <td>30.993300</td>\n",
       "      <td>-89.863900</td>\n",
       "      <td>14.0</td>\n",
       "      <td>MISSING/NOT SPECIFIED</td>\n",
       "      <td>LA</td>\n",
       "      <td>None</td>\n",
       "      <td>None</td>\n",
       "      <td>None</td>\n",
       "      <td>b'\\x00\\x01\\xad\\x10\\x00\\x00\\xe8\\xc09#JwV\\xc0\\xf...</td>\n",
       "    </tr>\n",
       "  </tbody>\n",
       "</table>\n",
       "</div>"
      ],
      "text/plain": [
       "   CONT_DOY CONT_TIME  FIRE_SIZE FIRE_SIZE_CLASS   LATITUDE   LONGITUDE  \\\n",
       "0       NaN      None        2.0               B  47.600845 -116.306789   \n",
       "1     234.0      1800        0.1               A  48.403300 -108.289600   \n",
       "2     140.0      1630        1.5               B  40.668460  -99.089130   \n",
       "3       NaN      None        2.0               B  39.000000  -78.269200   \n",
       "4       NaN      None        5.0               B  30.993300  -89.863900   \n",
       "\n",
       "   OWNER_CODE            OWNER_DESCR STATE    COUNTY FIPS_CODE FIPS_NAME  \\\n",
       "0        14.0  MISSING/NOT SPECIFIED    ID  Kootenai       055  Kootenai   \n",
       "1         8.0                PRIVATE    MT      None      None      None   \n",
       "2        14.0  MISSING/NOT SPECIFIED    NE      None      None      None   \n",
       "3        14.0  MISSING/NOT SPECIFIED    VA      None      None      None   \n",
       "4        14.0  MISSING/NOT SPECIFIED    LA      None      None      None   \n",
       "\n",
       "                                               Shape  \n",
       "0  b'\\x00\\x01\\xad\\x10\\x00\\x00pqTn\\xa2\\x13]\\xc0\\x9...  \n",
       "1  b'\\x00\\x01\\xad\\x10\\x00\\x00\\xf8:p\\xce\\x88\\x12[\\...  \n",
       "2  b'\\x00\\x01\\xad\\x10\\x00\\x00\\xe8\\xc5PN\\xb4\\xc5X\\...  \n",
       "3  b'\\x00\\x01\\xad\\x10\\x00\\x00P\\x05\\xa3\\x92:\\x91S\\...  \n",
       "4  b'\\x00\\x01\\xad\\x10\\x00\\x00\\xe8\\xc09#JwV\\xc0\\xf...  "
      ]
     },
     "execution_count": 21,
     "metadata": {},
     "output_type": "execute_result"
    }
   ],
   "source": [
    "### Each team member got 1/3 of the columns to decide which to keep/drop and why\n",
    "df.iloc[:, 26:].head()"
   ]
  },
  {
   "cell_type": "code",
   "execution_count": 22,
   "id": "8cd9aea3",
   "metadata": {},
   "outputs": [
    {
     "data": {
      "text/html": [
       "<div>\n",
       "<style scoped>\n",
       "    .dataframe tbody tr th:only-of-type {\n",
       "        vertical-align: middle;\n",
       "    }\n",
       "\n",
       "    .dataframe tbody tr th {\n",
       "        vertical-align: top;\n",
       "    }\n",
       "\n",
       "    .dataframe thead th {\n",
       "        text-align: right;\n",
       "    }\n",
       "</style>\n",
       "<table border=\"1\" class=\"dataframe\">\n",
       "  <thead>\n",
       "    <tr style=\"text-align: right;\">\n",
       "      <th></th>\n",
       "      <th>COUNTY</th>\n",
       "      <th>FIPS_NAME</th>\n",
       "      <th>FIPS_CODE</th>\n",
       "    </tr>\n",
       "  </thead>\n",
       "  <tbody>\n",
       "    <tr>\n",
       "      <th>9</th>\n",
       "      <td>31</td>\n",
       "      <td>cook</td>\n",
       "      <td>031</td>\n",
       "    </tr>\n",
       "    <tr>\n",
       "      <th>22</th>\n",
       "      <td>17</td>\n",
       "      <td>navajo</td>\n",
       "      <td>017</td>\n",
       "    </tr>\n",
       "    <tr>\n",
       "      <th>25</th>\n",
       "      <td>orangeburg county</td>\n",
       "      <td>orangeburg</td>\n",
       "      <td>075</td>\n",
       "    </tr>\n",
       "    <tr>\n",
       "      <th>32</th>\n",
       "      <td>19</td>\n",
       "      <td>douglas</td>\n",
       "      <td>019</td>\n",
       "    </tr>\n",
       "    <tr>\n",
       "      <th>35</th>\n",
       "      <td>st lawrence</td>\n",
       "      <td>st. lawrence</td>\n",
       "      <td>089</td>\n",
       "    </tr>\n",
       "    <tr>\n",
       "      <th>53</th>\n",
       "      <td>jf</td>\n",
       "      <td>jefferson</td>\n",
       "      <td>073</td>\n",
       "    </tr>\n",
       "    <tr>\n",
       "      <th>56</th>\n",
       "      <td>5</td>\n",
       "      <td>coconino</td>\n",
       "      <td>005</td>\n",
       "    </tr>\n",
       "    <tr>\n",
       "      <th>66</th>\n",
       "      <td>47</td>\n",
       "      <td>okanogan</td>\n",
       "      <td>047</td>\n",
       "    </tr>\n",
       "    <tr>\n",
       "      <th>71</th>\n",
       "      <td>69</td>\n",
       "      <td>waupaca</td>\n",
       "      <td>135</td>\n",
       "    </tr>\n",
       "    <tr>\n",
       "      <th>72</th>\n",
       "      <td>stevens county</td>\n",
       "      <td>stevens</td>\n",
       "      <td>065</td>\n",
       "    </tr>\n",
       "  </tbody>\n",
       "</table>\n",
       "</div>"
      ],
      "text/plain": [
       "               COUNTY     FIPS_NAME FIPS_CODE\n",
       "9                  31          cook       031\n",
       "22                 17        navajo       017\n",
       "25  orangeburg county    orangeburg       075\n",
       "32                 19       douglas       019\n",
       "35        st lawrence  st. lawrence       089\n",
       "53                 jf     jefferson       073\n",
       "56                  5      coconino       005\n",
       "66                 47      okanogan       047\n",
       "71                 69       waupaca       135\n",
       "72     stevens county       stevens       065"
      ]
     },
     "execution_count": 22,
     "metadata": {},
     "output_type": "execute_result"
    }
   ],
   "source": [
    "## these are the same, and if one is none the rest are also none\n",
    "df['COUNTY'] = df['COUNTY'].str.lower().str.strip()\n",
    "df['FIPS_NAME'] = df['FIPS_NAME'].str.lower().str.strip()\n",
    "df['FIPS_CODE'] = df['FIPS_CODE'].str.lower().str.strip()\n",
    "count_fips = df[['COUNTY','FIPS_NAME', 'FIPS_CODE']].dropna()\n",
    "count_fips[(count_fips['COUNTY']!=count_fips['FIPS_NAME'])&\n",
    "           (count_fips['COUNTY']!=count_fips['FIPS_CODE'])&\n",
    "           (count_fips['FIPS_CODE']!=count_fips['FIPS_NAME'])].head(10)"
   ]
  },
  {
   "cell_type": "code",
   "execution_count": 23,
   "id": "60c87968",
   "metadata": {},
   "outputs": [
    {
     "data": {
      "text/plain": [
       "Index(['SOURCE_SYSTEM_TYPE', 'SOURCE_SYSTEM', 'NWCG_REPORTING_AGENCY',\n",
       "       'NWCG_REPORTING_UNIT_ID', 'NWCG_REPORTING_UNIT_NAME',\n",
       "       'SOURCE_REPORTING_UNIT', 'COMPLEX_NAME', 'FIRE_YEAR', 'DISCOVERY_DOY',\n",
       "       'DISCOVERY_TIME', 'STAT_CAUSE_CODE', 'STAT_CAUSE_DESCR', 'CONT_DOY',\n",
       "       'CONT_TIME', 'FIRE_SIZE', 'FIRE_SIZE_CLASS', 'LATITUDE', 'LONGITUDE',\n",
       "       'OWNER_CODE', 'OWNER_DESCR', 'STATE', 'COUNTY'],\n",
       "      dtype='object')"
      ]
     },
     "execution_count": 23,
     "metadata": {},
     "output_type": "execute_result"
    }
   ],
   "source": [
    "df_fires = df.drop(columns=['OBJECTID','FOD_ID', 'FPA_ID', 'SOURCE_REPORTING_UNIT_NAME', \n",
    "                      'LOCAL_FIRE_REPORT_ID','LOCAL_INCIDENT_ID','FIRE_CODE', \n",
    "                      'FIRE_NAME','ICS_209_INCIDENT_NUMBER','ICS_209_NAME', \n",
    "                      'MTBS_ID', 'MTBS_FIRE_NAME', 'DISCOVERY_DATE', 'CONT_DATE',\n",
    "                      'FIPS_CODE', 'FIPS_NAME', 'Shape'\n",
    "                     ])\n",
    "df_fires.columns"
   ]
  },
  {
   "cell_type": "code",
   "execution_count": 24,
   "id": "b1fa76cd",
   "metadata": {},
   "outputs": [],
   "source": [
    "## basic string cleaning\n",
    "df_fires = df_fires.fillna(value=np.nan)\n",
    "df_fires = df_fires.replace(to_replace='', value=np.nan)"
   ]
  },
  {
   "cell_type": "code",
   "execution_count": 25,
   "id": "5231cdd3",
   "metadata": {},
   "outputs": [
    {
     "data": {
      "text/plain": [
       "52"
      ]
     },
     "execution_count": 25,
     "metadata": {},
     "output_type": "execute_result"
    }
   ],
   "source": [
    "## state exploration\n",
    "df_fires['STATE'] = df_fires['STATE'].str.upper()\n",
    "lst_states = list(df_fires['STATE'].unique())\n",
    "len(lst_states)"
   ]
  },
  {
   "cell_type": "code",
   "execution_count": 26,
   "id": "c71e950f",
   "metadata": {},
   "outputs": [
    {
     "data": {
      "text/plain": [
       "51"
      ]
     },
     "execution_count": 26,
     "metadata": {},
     "output_type": "execute_result"
    }
   ],
   "source": [
    "states = [ 'AK', 'AL', 'AR', 'AZ', 'CA', 'CO', 'CT', 'DC', 'DE', 'FL', 'GA',\n",
    "           'HI', 'IA', 'ID', 'IL', 'IN', 'KS', 'KY', 'LA', 'MA', 'MD', 'ME',\n",
    "           'MI', 'MN', 'MO', 'MS', 'MT', 'NC', 'ND', 'NE', 'NH', 'NJ', 'NM',\n",
    "           'NV', 'NY', 'OH', 'OK', 'OR', 'PA', 'RI', 'SC', 'SD', 'TN', 'TX',\n",
    "           'UT', 'VA', 'VT', 'WA', 'WI', 'WV', 'WY']\n",
    "len(states)"
   ]
  },
  {
   "cell_type": "code",
   "execution_count": 27,
   "id": "c4769bf2",
   "metadata": {},
   "outputs": [
    {
     "name": "stdout",
     "output_type": "stream",
     "text": [
      "PR\n"
     ]
    }
   ],
   "source": [
    "## PR state is not existing (ask shifter if its real). If it is, we will remove the rows with PR\n",
    "for state in lst_states:\n",
    "    if state not in states:\n",
    "        print(state)"
   ]
  },
  {
   "cell_type": "code",
   "execution_count": 38,
   "id": "d1c8803e",
   "metadata": {},
   "outputs": [
    {
     "data": {
      "image/png": "[encoded data removed]",
      "text/plain": [
       "<Figure size 2232x360 with 1 Axes>"
      ]
     },
     "metadata": {
      "needs_background": "light"
     },
     "output_type": "display_data"
    }
   ],
   "source": [
    "plt.figure(figsize=(31,5))\n",
    "sns.countplot(data=df_fires, x=df_fires['STATE'], order=np.sort(df_fires['STATE'].unique()))\n",
    "plt.xticks(rotation = 90)\n",
    "plt.xlabel(\"States\")\n",
    "plt.ylabel(\"Number of fires\")\n",
    "plt.title(\"Fires disribution in different states\")\n",
    "plt.show()"
   ]
  },
  {
   "cell_type": "code",
   "execution_count": 39,
   "id": "31933b36",
   "metadata": {},
   "outputs": [
    {
     "data": {
      "text/plain": [
       "3"
      ]
     },
     "execution_count": 39,
     "metadata": {},
     "output_type": "execute_result"
    }
   ],
   "source": [
    "## overseeing staff exploration\n",
    "SST = \"SOURCE_SYSTEM_TYPE\"\n",
    "NRA = \"NWCG_REPORTING_AGENCY\"\n",
    "df_fires[SST].nunique()  # categorial feature - NON FED, FED, INT AGNCY"
   ]
  },
  {
   "cell_type": "code",
   "execution_count": 40,
   "id": "dce096fb",
   "metadata": {},
   "outputs": [
    {
     "data": {
      "text/plain": [
       "11"
      ]
     },
     "execution_count": 40,
     "metadata": {},
     "output_type": "execute_result"
    }
   ],
   "source": [
    "df_fires[NRA].nunique()"
   ]
  },
  {
   "cell_type": "code",
   "execution_count": 41,
   "id": "bbb34d4e",
   "metadata": {},
   "outputs": [
    {
     "data": {
      "text/plain": [
       "array(['BIA', 'BLM', 'BOR', 'DOD', 'DOE', 'FS', 'FWS', 'IA', 'NPS',\n",
       "       'ST/C&L', 'TRIBE'], dtype=object)"
      ]
     },
     "execution_count": 41,
     "metadata": {},
     "output_type": "execute_result"
    }
   ],
   "source": [
    "NRA_VALUES = np.unique(df_fires[NRA])\n",
    "NRA_VALUES"
   ]
  },
  {
   "cell_type": "code",
   "execution_count": 42,
   "id": "8d9101ee",
   "metadata": {},
   "outputs": [
    {
     "data": {
      "image/png": "[encoded data removed]",
      "text/plain": [
       "<Figure size 432x288 with 1 Axes>"
      ]
     },
     "metadata": {
      "needs_background": "light"
     },
     "output_type": "display_data"
    },
    {
     "data": {
      "image/png": "[encoded data removed]",
      "text/plain": [
       "<Figure size 432x288 with 1 Axes>"
      ]
     },
     "metadata": {
      "needs_background": "light"
     },
     "output_type": "display_data"
    }
   ],
   "source": [
    "## the majority of NWCG REPORTING AGENCY is a State.\n",
    "for col in [SST, NRA]:\n",
    "    df_fires[col].value_counts().sort_index().plot(kind='bar', rot=0, ylabel='count', title=col)\n",
    "    plt.show()"
   ]
  },
  {
   "cell_type": "code",
   "execution_count": 43,
   "id": "b256b9fd",
   "metadata": {},
   "outputs": [
    {
     "data": {
      "image/png": "[encoded data removed]",
      "text/plain": [
       "<Figure size 432x288 with 1 Axes>"
      ]
     },
     "metadata": {
      "needs_background": "light"
     },
     "output_type": "display_data"
    },
    {
     "data": {
      "image/png": "[encoded data removed]",
      "text/plain": [
       "<Figure size 432x288 with 1 Axes>"
      ]
     },
     "metadata": {
      "needs_background": "light"
     },
     "output_type": "display_data"
    },
    {
     "data": {
      "image/png": "[encoded data removed]",
      "text/plain": [
       "<Figure size 432x288 with 1 Axes>"
      ]
     },
     "metadata": {
      "needs_background": "light"
     },
     "output_type": "display_data"
    },
    {
     "data": {
      "image/png": "[encoded data removed]",
      "text/plain": [
       "<Figure size 432x288 with 1 Axes>"
      ]
     },
     "metadata": {
      "needs_background": "light"
     },
     "output_type": "display_data"
    },
    {
     "data": {
      "image/png": "[encoded data removed]",
      "text/plain": [
       "<Figure size 432x288 with 1 Axes>"
      ]
     },
     "metadata": {
      "needs_background": "light"
     },
     "output_type": "display_data"
    },
    {
     "data": {
      "image/png": "[encoded data removed]",
      "text/plain": [
       "<Figure size 432x288 with 1 Axes>"
      ]
     },
     "metadata": {
      "needs_background": "light"
     },
     "output_type": "display_data"
    },
    {
     "data": {
      "image/png": "[encoded data removed]",
      "text/plain": [
       "<Figure size 432x288 with 1 Axes>"
      ]
     },
     "metadata": {
      "needs_background": "light"
     },
     "output_type": "display_data"
    },
    {
     "data": {
      "image/png": "[encoded data removed]",
      "text/plain": [
       "<Figure size 432x288 with 1 Axes>"
      ]
     },
     "metadata": {
      "needs_background": "light"
     },
     "output_type": "display_data"
    },
    {
     "data": {
      "image/png": "[encoded data removed]",
      "text/plain": [
       "<Figure size 432x288 with 1 Axes>"
      ]
     },
     "metadata": {
      "needs_background": "light"
     },
     "output_type": "display_data"
    },
    {
     "data": {
      "image/png": "[encoded data removed]",
      "text/plain": [
       "<Figure size 432x288 with 1 Axes>"
      ]
     },
     "metadata": {
      "needs_background": "light"
     },
     "output_type": "display_data"
    },
    {
     "data": {
      "image/png": "[encoded data removed]",
      "text/plain": [
       "<Figure size 432x288 with 1 Axes>"
      ]
     },
     "metadata": {
      "needs_background": "light"
     },
     "output_type": "display_data"
    }
   ],
   "source": [
    "## the most SOURCE SYSTEM TYPE of ST/C&L (State unit reporting the fire report) is NONFED, maybe see the connection with nonfed to cause fire and see if it is the same in this case\n",
    "for val in NRA_VALUES:\n",
    "    df_fires[df_fires[NRA] == val][SST].value_counts().sort_index().plot(kind='bar', rot=0, ylabel='count', title=val)\n",
    "    plt.show()"
   ]
  },
  {
   "cell_type": "code",
   "execution_count": 45,
   "id": "c504dc8c",
   "metadata": {},
   "outputs": [],
   "source": [
    "## datetime formatsssss\n",
    "df_fires['FIRE_YEAR'] = pd.to_datetime(df_fires.FIRE_YEAR, format='%Y').dt.year\n",
    "\n",
    "df_fires['DISCOVERY_TIME'] = df_fires['DISCOVERY_TIME'].apply(lambda x: ''.join([str(x)[:2],':',str(x)[2:]]) if pd.notnull(x) else np.nan)\n",
    "df_fires['DISCOVERY_TIME'] = pd.to_datetime(df_fires['DISCOVERY_TIME'], format=\"%H:%M\").dt.time\n",
    "\n",
    "df_fires['CONT_TIME'] = df_fires['CONT_TIME'].apply(lambda x: ''.join([str(x)[:2],':',str(x)[2:]]) if pd.notnull(x) else np.nan)\n",
    "df_fires['CONT_TIME'] = pd.to_datetime(df_fires['CONT_TIME'], format=\"%H:%M\").dt.time\n",
    "\n",
    "## how to use this day of year?\n",
    "#df_fires['DISCOVERY_DOY'] = pd.to_datetime(df_fires['DISCOVERY_DOY'], format=\"%j\")\n",
    "#dt(df_fires['FIRE_YEAR'], 1, 1) + dt.timedelta(df_fires['DISCOVERY_DOY'] - 1)\n"
   ]
  },
  {
   "cell_type": "code",
   "execution_count": 46,
   "id": "da33b8c8",
   "metadata": {},
   "outputs": [
    {
     "data": {
      "text/html": [
       "<div>\n",
       "<style scoped>\n",
       "    .dataframe tbody tr th:only-of-type {\n",
       "        vertical-align: middle;\n",
       "    }\n",
       "\n",
       "    .dataframe tbody tr th {\n",
       "        vertical-align: top;\n",
       "    }\n",
       "\n",
       "    .dataframe thead th {\n",
       "        text-align: right;\n",
       "    }\n",
       "</style>\n",
       "<table border=\"1\" class=\"dataframe\">\n",
       "  <thead>\n",
       "    <tr style=\"text-align: right;\">\n",
       "      <th></th>\n",
       "      <th>DISCOVERY_DOY</th>\n",
       "      <th>DISCOVERY_TIME</th>\n",
       "      <th>CONT_DOY</th>\n",
       "      <th>CONT_TIME</th>\n",
       "      <th>FIRE_SIZE</th>\n",
       "      <th>FIRE_SIZE_CLASS</th>\n",
       "    </tr>\n",
       "  </thead>\n",
       "  <tbody>\n",
       "    <tr>\n",
       "      <th>19</th>\n",
       "      <td>240</td>\n",
       "      <td>13:25:00</td>\n",
       "      <td>240.0</td>\n",
       "      <td>NaT</td>\n",
       "      <td>1.00</td>\n",
       "      <td>B</td>\n",
       "    </tr>\n",
       "    <tr>\n",
       "      <th>75</th>\n",
       "      <td>71</td>\n",
       "      <td>18:08:00</td>\n",
       "      <td>72.0</td>\n",
       "      <td>NaT</td>\n",
       "      <td>0.01</td>\n",
       "      <td>A</td>\n",
       "    </tr>\n",
       "    <tr>\n",
       "      <th>90</th>\n",
       "      <td>73</td>\n",
       "      <td>NaT</td>\n",
       "      <td>73.0</td>\n",
       "      <td>NaT</td>\n",
       "      <td>36.00</td>\n",
       "      <td>C</td>\n",
       "    </tr>\n",
       "    <tr>\n",
       "      <th>217</th>\n",
       "      <td>103</td>\n",
       "      <td>NaT</td>\n",
       "      <td>103.0</td>\n",
       "      <td>NaT</td>\n",
       "      <td>5.00</td>\n",
       "      <td>B</td>\n",
       "    </tr>\n",
       "    <tr>\n",
       "      <th>223</th>\n",
       "      <td>181</td>\n",
       "      <td>NaT</td>\n",
       "      <td>181.0</td>\n",
       "      <td>NaT</td>\n",
       "      <td>2.00</td>\n",
       "      <td>B</td>\n",
       "    </tr>\n",
       "    <tr>\n",
       "      <th>258</th>\n",
       "      <td>236</td>\n",
       "      <td>13:00:00</td>\n",
       "      <td>236.0</td>\n",
       "      <td>NaT</td>\n",
       "      <td>19.00</td>\n",
       "      <td>C</td>\n",
       "    </tr>\n",
       "    <tr>\n",
       "      <th>261</th>\n",
       "      <td>136</td>\n",
       "      <td>00:00:00</td>\n",
       "      <td>136.0</td>\n",
       "      <td>NaT</td>\n",
       "      <td>0.13</td>\n",
       "      <td>A</td>\n",
       "    </tr>\n",
       "    <tr>\n",
       "      <th>286</th>\n",
       "      <td>148</td>\n",
       "      <td>NaT</td>\n",
       "      <td>149.0</td>\n",
       "      <td>NaT</td>\n",
       "      <td>0.15</td>\n",
       "      <td>A</td>\n",
       "    </tr>\n",
       "    <tr>\n",
       "      <th>290</th>\n",
       "      <td>69</td>\n",
       "      <td>18:30:00</td>\n",
       "      <td>70.0</td>\n",
       "      <td>NaT</td>\n",
       "      <td>20.00</td>\n",
       "      <td>C</td>\n",
       "    </tr>\n",
       "    <tr>\n",
       "      <th>292</th>\n",
       "      <td>206</td>\n",
       "      <td>12:14:00</td>\n",
       "      <td>213.0</td>\n",
       "      <td>NaT</td>\n",
       "      <td>200.00</td>\n",
       "      <td>D</td>\n",
       "    </tr>\n",
       "    <tr>\n",
       "      <th>358</th>\n",
       "      <td>116</td>\n",
       "      <td>NaT</td>\n",
       "      <td>116.0</td>\n",
       "      <td>NaT</td>\n",
       "      <td>16.00</td>\n",
       "      <td>C</td>\n",
       "    </tr>\n",
       "    <tr>\n",
       "      <th>378</th>\n",
       "      <td>170</td>\n",
       "      <td>NaT</td>\n",
       "      <td>170.0</td>\n",
       "      <td>NaT</td>\n",
       "      <td>0.10</td>\n",
       "      <td>A</td>\n",
       "    </tr>\n",
       "    <tr>\n",
       "      <th>440</th>\n",
       "      <td>174</td>\n",
       "      <td>18:24:00</td>\n",
       "      <td>174.0</td>\n",
       "      <td>NaT</td>\n",
       "      <td>0.10</td>\n",
       "      <td>A</td>\n",
       "    </tr>\n",
       "    <tr>\n",
       "      <th>482</th>\n",
       "      <td>88</td>\n",
       "      <td>17:10:00</td>\n",
       "      <td>89.0</td>\n",
       "      <td>NaT</td>\n",
       "      <td>40.00</td>\n",
       "      <td>C</td>\n",
       "    </tr>\n",
       "    <tr>\n",
       "      <th>498</th>\n",
       "      <td>71</td>\n",
       "      <td>NaT</td>\n",
       "      <td>72.0</td>\n",
       "      <td>NaT</td>\n",
       "      <td>100.00</td>\n",
       "      <td>D</td>\n",
       "    </tr>\n",
       "    <tr>\n",
       "      <th>527</th>\n",
       "      <td>222</td>\n",
       "      <td>17:25:00</td>\n",
       "      <td>222.0</td>\n",
       "      <td>NaT</td>\n",
       "      <td>0.01</td>\n",
       "      <td>A</td>\n",
       "    </tr>\n",
       "    <tr>\n",
       "      <th>531</th>\n",
       "      <td>215</td>\n",
       "      <td>NaT</td>\n",
       "      <td>215.0</td>\n",
       "      <td>NaT</td>\n",
       "      <td>0.50</td>\n",
       "      <td>B</td>\n",
       "    </tr>\n",
       "    <tr>\n",
       "      <th>555</th>\n",
       "      <td>53</td>\n",
       "      <td>21:30:00</td>\n",
       "      <td>53.0</td>\n",
       "      <td>NaT</td>\n",
       "      <td>12.00</td>\n",
       "      <td>C</td>\n",
       "    </tr>\n",
       "    <tr>\n",
       "      <th>559</th>\n",
       "      <td>134</td>\n",
       "      <td>16:00:00</td>\n",
       "      <td>173.0</td>\n",
       "      <td>NaT</td>\n",
       "      <td>0.01</td>\n",
       "      <td>A</td>\n",
       "    </tr>\n",
       "    <tr>\n",
       "      <th>582</th>\n",
       "      <td>137</td>\n",
       "      <td>NaT</td>\n",
       "      <td>137.0</td>\n",
       "      <td>NaT</td>\n",
       "      <td>3.00</td>\n",
       "      <td>B</td>\n",
       "    </tr>\n",
       "  </tbody>\n",
       "</table>\n",
       "</div>"
      ],
      "text/plain": [
       "     DISCOVERY_DOY DISCOVERY_TIME  CONT_DOY CONT_TIME  FIRE_SIZE  \\\n",
       "19             240       13:25:00     240.0       NaT       1.00   \n",
       "75              71       18:08:00      72.0       NaT       0.01   \n",
       "90              73            NaT      73.0       NaT      36.00   \n",
       "217            103            NaT     103.0       NaT       5.00   \n",
       "223            181            NaT     181.0       NaT       2.00   \n",
       "258            236       13:00:00     236.0       NaT      19.00   \n",
       "261            136       00:00:00     136.0       NaT       0.13   \n",
       "286            148            NaT     149.0       NaT       0.15   \n",
       "290             69       18:30:00      70.0       NaT      20.00   \n",
       "292            206       12:14:00     213.0       NaT     200.00   \n",
       "358            116            NaT     116.0       NaT      16.00   \n",
       "378            170            NaT     170.0       NaT       0.10   \n",
       "440            174       18:24:00     174.0       NaT       0.10   \n",
       "482             88       17:10:00      89.0       NaT      40.00   \n",
       "498             71            NaT      72.0       NaT     100.00   \n",
       "527            222       17:25:00     222.0       NaT       0.01   \n",
       "531            215            NaT     215.0       NaT       0.50   \n",
       "555             53       21:30:00      53.0       NaT      12.00   \n",
       "559            134       16:00:00     173.0       NaT       0.01   \n",
       "582            137            NaT     137.0       NaT       3.00   \n",
       "\n",
       "    FIRE_SIZE_CLASS  \n",
       "19                B  \n",
       "75                A  \n",
       "90                C  \n",
       "217               B  \n",
       "223               B  \n",
       "258               C  \n",
       "261               A  \n",
       "286               A  \n",
       "290               C  \n",
       "292               D  \n",
       "358               C  \n",
       "378               A  \n",
       "440               A  \n",
       "482               C  \n",
       "498               D  \n",
       "527               A  \n",
       "531               B  \n",
       "555               C  \n",
       "559               A  \n",
       "582               B  "
      ]
     },
     "execution_count": 46,
     "metadata": {},
     "output_type": "execute_result"
    }
   ],
   "source": [
    "## no NaNs - fire size, fire size class, lat, long, state, fire year, owner code, owner desc, discovery doy\n",
    "\n",
    "## maybe fill in contatinment times by avg of cont_time per fire_size_class\n",
    "df_fires[df_fires['CONT_DOY'].notnull() & df_fires['CONT_TIME'].isna()][['DISCOVERY_DOY', 'DISCOVERY_TIME', 'CONT_DOY', 'CONT_TIME', 'FIRE_SIZE', 'FIRE_SIZE_CLASS']].head(20)"
   ]
  },
  {
   "cell_type": "code",
   "execution_count": null,
   "id": "0a1d21d7",
   "metadata": {},
   "outputs": [],
   "source": []
  }
 ],
 "metadata": {
  "kernelspec": {
   "display_name": "Python 3 (ipykernel)",
   "language": "python",
   "name": "python3"
  },
  "language_info": {
   "codemirror_mode": {
    "name": "ipython",
    "version": 3
   },
   "file_extension": ".py",
   "mimetype": "text/x-python",
   "name": "python",
   "nbconvert_exporter": "python",
   "pygments_lexer": "ipython3",
   "version": "3.7.11"
  }
 },
 "nbformat": 4,
 "nbformat_minor": 5
}
