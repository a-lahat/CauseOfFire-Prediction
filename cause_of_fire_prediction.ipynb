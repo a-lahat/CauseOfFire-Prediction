{
 "cells": [
  {
   "cell_type": "code",
   "execution_count": 1,
   "id": "852e418e",
   "metadata": {},
   "outputs": [],
   "source": [
    "import sqlite3\n",
    "import pandas as pd\n",
    "import numpy as np\n",
    "from datetime import datetime as dt\n",
    "from matplotlib import pyplot as plt\n",
    "import sklearn\n",
    "from sklearn.model_selection import train_test_split\n",
    "import seaborn as sns\n",
    "from datetime import *; from dateutil.relativedelta import *"
   ]
  },
  {
   "cell_type": "code",
   "execution_count": 2,
   "id": "e7b9ced9",
   "metadata": {},
   "outputs": [],
   "source": [
    "conn = sqlite3.connect('/Users/elichouatt/Downloads/FPA_FOD_20170508.sqlite')\n",
    "# df = pd.read_sql_query(\"SELECT * from Fires\", conn)\n",
    "# conn = sqlite3.connect('FPA_FOD_20170508.sqlite')\n",
    "# conn = sqlite3.connect('/Users/lahat/Downloads/FPA_FOD_20170508.sqlite')\n",
    "df = pd.read_sql_query(\"SELECT * from Fires\", conn)"
   ]
  },
  {
   "cell_type": "markdown",
   "id": "b9766c1d",
   "metadata": {},
   "source": [
    "## Data Exploration"
   ]
  },
  {
   "cell_type": "code",
   "execution_count": 3,
   "id": "0b3949ce",
   "metadata": {},
   "outputs": [
    {
     "data": {
      "text/plain": [
       "Index(['OBJECTID', 'FOD_ID', 'FPA_ID', 'SOURCE_SYSTEM_TYPE', 'SOURCE_SYSTEM',\n",
       "       'NWCG_REPORTING_AGENCY', 'NWCG_REPORTING_UNIT_ID',\n",
       "       'NWCG_REPORTING_UNIT_NAME', 'SOURCE_REPORTING_UNIT',\n",
       "       'SOURCE_REPORTING_UNIT_NAME', 'LOCAL_FIRE_REPORT_ID',\n",
       "       'LOCAL_INCIDENT_ID', 'FIRE_CODE', 'FIRE_NAME',\n",
       "       'ICS_209_INCIDENT_NUMBER', 'ICS_209_NAME', 'MTBS_ID', 'MTBS_FIRE_NAME',\n",
       "       'COMPLEX_NAME', 'FIRE_YEAR', 'DISCOVERY_DATE', 'DISCOVERY_DOY',\n",
       "       'DISCOVERY_TIME', 'STAT_CAUSE_CODE', 'STAT_CAUSE_DESCR', 'CONT_DATE',\n",
       "       'CONT_DOY', 'CONT_TIME', 'FIRE_SIZE', 'FIRE_SIZE_CLASS', 'LATITUDE',\n",
       "       'LONGITUDE', 'OWNER_CODE', 'OWNER_DESCR', 'STATE', 'COUNTY',\n",
       "       'FIPS_CODE', 'FIPS_NAME', 'Shape'],\n",
       "      dtype='object')"
      ]
     },
     "execution_count": 3,
     "metadata": {},
     "output_type": "execute_result"
    }
   ],
   "source": [
    "df.columns"
   ]
  },
  {
   "cell_type": "code",
   "execution_count": 4,
   "id": "b4deac67",
   "metadata": {},
   "outputs": [
    {
     "data": {
      "text/html": [
       "<div>\n",
       "<style scoped>\n",
       "    .dataframe tbody tr th:only-of-type {\n",
       "        vertical-align: middle;\n",
       "    }\n",
       "\n",
       "    .dataframe tbody tr th {\n",
       "        vertical-align: top;\n",
       "    }\n",
       "\n",
       "    .dataframe thead th {\n",
       "        text-align: right;\n",
       "    }\n",
       "</style>\n",
       "<table border=\"1\" class=\"dataframe\">\n",
       "  <thead>\n",
       "    <tr style=\"text-align: right;\">\n",
       "      <th></th>\n",
       "      <th>STAT_CAUSE_CODE</th>\n",
       "      <th>STAT_CAUSE_DESCR</th>\n",
       "    </tr>\n",
       "  </thead>\n",
       "  <tbody>\n",
       "    <tr>\n",
       "      <th>22</th>\n",
       "      <td>1.0</td>\n",
       "      <td>Lightning</td>\n",
       "    </tr>\n",
       "    <tr>\n",
       "      <th>12</th>\n",
       "      <td>2.0</td>\n",
       "      <td>Equipment Use</td>\n",
       "    </tr>\n",
       "    <tr>\n",
       "      <th>6</th>\n",
       "      <td>3.0</td>\n",
       "      <td>Smoking</td>\n",
       "    </tr>\n",
       "    <tr>\n",
       "      <th>8</th>\n",
       "      <td>4.0</td>\n",
       "      <td>Campfire</td>\n",
       "    </tr>\n",
       "    <tr>\n",
       "      <th>5</th>\n",
       "      <td>5.0</td>\n",
       "      <td>Debris Burning</td>\n",
       "    </tr>\n",
       "    <tr>\n",
       "      <th>33</th>\n",
       "      <td>6.0</td>\n",
       "      <td>Railroad</td>\n",
       "    </tr>\n",
       "    <tr>\n",
       "      <th>4</th>\n",
       "      <td>7.0</td>\n",
       "      <td>Arson</td>\n",
       "    </tr>\n",
       "    <tr>\n",
       "      <th>45</th>\n",
       "      <td>8.0</td>\n",
       "      <td>Children</td>\n",
       "    </tr>\n",
       "    <tr>\n",
       "      <th>1</th>\n",
       "      <td>9.0</td>\n",
       "      <td>Miscellaneous</td>\n",
       "    </tr>\n",
       "    <tr>\n",
       "      <th>146</th>\n",
       "      <td>10.0</td>\n",
       "      <td>Fireworks</td>\n",
       "    </tr>\n",
       "    <tr>\n",
       "      <th>17</th>\n",
       "      <td>11.0</td>\n",
       "      <td>Powerline</td>\n",
       "    </tr>\n",
       "    <tr>\n",
       "      <th>397</th>\n",
       "      <td>12.0</td>\n",
       "      <td>Structure</td>\n",
       "    </tr>\n",
       "    <tr>\n",
       "      <th>0</th>\n",
       "      <td>13.0</td>\n",
       "      <td>Missing/Undefined</td>\n",
       "    </tr>\n",
       "  </tbody>\n",
       "</table>\n",
       "</div>"
      ],
      "text/plain": [
       "     STAT_CAUSE_CODE   STAT_CAUSE_DESCR\n",
       "22               1.0          Lightning\n",
       "12               2.0      Equipment Use\n",
       "6                3.0            Smoking\n",
       "8                4.0           Campfire\n",
       "5                5.0     Debris Burning\n",
       "33               6.0           Railroad\n",
       "4                7.0              Arson\n",
       "45               8.0           Children\n",
       "1                9.0      Miscellaneous\n",
       "146             10.0          Fireworks\n",
       "17              11.0          Powerline\n",
       "397             12.0          Structure\n",
       "0               13.0  Missing/Undefined"
      ]
     },
     "execution_count": 4,
     "metadata": {},
     "output_type": "execute_result"
    }
   ],
   "source": [
    "### Cause and code are injective (one-to-one)\n",
    "df[['STAT_CAUSE_CODE', 'STAT_CAUSE_DESCR']].drop_duplicates().sort_values(by='STAT_CAUSE_CODE')"
   ]
  },
  {
   "cell_type": "code",
   "execution_count": 5,
   "id": "8ab33d47",
   "metadata": {},
   "outputs": [
    {
     "data": {
      "text/html": [
       "<div>\n",
       "<style scoped>\n",
       "    .dataframe tbody tr th:only-of-type {\n",
       "        vertical-align: middle;\n",
       "    }\n",
       "\n",
       "    .dataframe tbody tr th {\n",
       "        vertical-align: top;\n",
       "    }\n",
       "\n",
       "    .dataframe thead th {\n",
       "        text-align: right;\n",
       "    }\n",
       "</style>\n",
       "<table border=\"1\" class=\"dataframe\">\n",
       "  <thead>\n",
       "    <tr style=\"text-align: right;\">\n",
       "      <th></th>\n",
       "      <th>CONT_DOY</th>\n",
       "      <th>CONT_TIME</th>\n",
       "      <th>FIRE_SIZE</th>\n",
       "      <th>FIRE_SIZE_CLASS</th>\n",
       "      <th>LATITUDE</th>\n",
       "      <th>LONGITUDE</th>\n",
       "      <th>OWNER_CODE</th>\n",
       "      <th>OWNER_DESCR</th>\n",
       "      <th>STATE</th>\n",
       "      <th>COUNTY</th>\n",
       "      <th>FIPS_CODE</th>\n",
       "      <th>FIPS_NAME</th>\n",
       "      <th>Shape</th>\n",
       "    </tr>\n",
       "  </thead>\n",
       "  <tbody>\n",
       "    <tr>\n",
       "      <th>0</th>\n",
       "      <td>NaN</td>\n",
       "      <td>None</td>\n",
       "      <td>2.0</td>\n",
       "      <td>B</td>\n",
       "      <td>47.600845</td>\n",
       "      <td>-116.306789</td>\n",
       "      <td>14.0</td>\n",
       "      <td>MISSING/NOT SPECIFIED</td>\n",
       "      <td>ID</td>\n",
       "      <td>Kootenai</td>\n",
       "      <td>055</td>\n",
       "      <td>Kootenai</td>\n",
       "      <td>b'\\x00\\x01\\xad\\x10\\x00\\x00pqTn\\xa2\\x13]\\xc0\\x9...</td>\n",
       "    </tr>\n",
       "    <tr>\n",
       "      <th>1</th>\n",
       "      <td>234.0</td>\n",
       "      <td>1800</td>\n",
       "      <td>0.1</td>\n",
       "      <td>A</td>\n",
       "      <td>48.403300</td>\n",
       "      <td>-108.289600</td>\n",
       "      <td>8.0</td>\n",
       "      <td>PRIVATE</td>\n",
       "      <td>MT</td>\n",
       "      <td>None</td>\n",
       "      <td>None</td>\n",
       "      <td>None</td>\n",
       "      <td>b'\\x00\\x01\\xad\\x10\\x00\\x00\\xf8:p\\xce\\x88\\x12[\\...</td>\n",
       "    </tr>\n",
       "    <tr>\n",
       "      <th>2</th>\n",
       "      <td>140.0</td>\n",
       "      <td>1630</td>\n",
       "      <td>1.5</td>\n",
       "      <td>B</td>\n",
       "      <td>40.668460</td>\n",
       "      <td>-99.089130</td>\n",
       "      <td>14.0</td>\n",
       "      <td>MISSING/NOT SPECIFIED</td>\n",
       "      <td>NE</td>\n",
       "      <td>None</td>\n",
       "      <td>None</td>\n",
       "      <td>None</td>\n",
       "      <td>b'\\x00\\x01\\xad\\x10\\x00\\x00\\xe8\\xc5PN\\xb4\\xc5X\\...</td>\n",
       "    </tr>\n",
       "    <tr>\n",
       "      <th>3</th>\n",
       "      <td>NaN</td>\n",
       "      <td>None</td>\n",
       "      <td>2.0</td>\n",
       "      <td>B</td>\n",
       "      <td>39.000000</td>\n",
       "      <td>-78.269200</td>\n",
       "      <td>14.0</td>\n",
       "      <td>MISSING/NOT SPECIFIED</td>\n",
       "      <td>VA</td>\n",
       "      <td>None</td>\n",
       "      <td>None</td>\n",
       "      <td>None</td>\n",
       "      <td>b'\\x00\\x01\\xad\\x10\\x00\\x00P\\x05\\xa3\\x92:\\x91S\\...</td>\n",
       "    </tr>\n",
       "    <tr>\n",
       "      <th>4</th>\n",
       "      <td>NaN</td>\n",
       "      <td>None</td>\n",
       "      <td>5.0</td>\n",
       "      <td>B</td>\n",
       "      <td>30.993300</td>\n",
       "      <td>-89.863900</td>\n",
       "      <td>14.0</td>\n",
       "      <td>MISSING/NOT SPECIFIED</td>\n",
       "      <td>LA</td>\n",
       "      <td>None</td>\n",
       "      <td>None</td>\n",
       "      <td>None</td>\n",
       "      <td>b'\\x00\\x01\\xad\\x10\\x00\\x00\\xe8\\xc09#JwV\\xc0\\xf...</td>\n",
       "    </tr>\n",
       "  </tbody>\n",
       "</table>\n",
       "</div>"
      ],
      "text/plain": [
       "   CONT_DOY CONT_TIME  FIRE_SIZE FIRE_SIZE_CLASS   LATITUDE   LONGITUDE  \\\n",
       "0       NaN      None        2.0               B  47.600845 -116.306789   \n",
       "1     234.0      1800        0.1               A  48.403300 -108.289600   \n",
       "2     140.0      1630        1.5               B  40.668460  -99.089130   \n",
       "3       NaN      None        2.0               B  39.000000  -78.269200   \n",
       "4       NaN      None        5.0               B  30.993300  -89.863900   \n",
       "\n",
       "   OWNER_CODE            OWNER_DESCR STATE    COUNTY FIPS_CODE FIPS_NAME  \\\n",
       "0        14.0  MISSING/NOT SPECIFIED    ID  Kootenai       055  Kootenai   \n",
       "1         8.0                PRIVATE    MT      None      None      None   \n",
       "2        14.0  MISSING/NOT SPECIFIED    NE      None      None      None   \n",
       "3        14.0  MISSING/NOT SPECIFIED    VA      None      None      None   \n",
       "4        14.0  MISSING/NOT SPECIFIED    LA      None      None      None   \n",
       "\n",
       "                                               Shape  \n",
       "0  b'\\x00\\x01\\xad\\x10\\x00\\x00pqTn\\xa2\\x13]\\xc0\\x9...  \n",
       "1  b'\\x00\\x01\\xad\\x10\\x00\\x00\\xf8:p\\xce\\x88\\x12[\\...  \n",
       "2  b'\\x00\\x01\\xad\\x10\\x00\\x00\\xe8\\xc5PN\\xb4\\xc5X\\...  \n",
       "3  b'\\x00\\x01\\xad\\x10\\x00\\x00P\\x05\\xa3\\x92:\\x91S\\...  \n",
       "4  b'\\x00\\x01\\xad\\x10\\x00\\x00\\xe8\\xc09#JwV\\xc0\\xf...  "
      ]
     },
     "execution_count": 5,
     "metadata": {},
     "output_type": "execute_result"
    }
   ],
   "source": [
    "### Each team member got 1/3 of the columns to decide which to keep/drop and why\n",
    "df.iloc[:, 26:].head()"
   ]
  },
  {
   "cell_type": "code",
   "execution_count": 6,
   "id": "fd9658cc",
   "metadata": {},
   "outputs": [
    {
     "data": {
      "text/html": [
       "<div>\n",
       "<style scoped>\n",
       "    .dataframe tbody tr th:only-of-type {\n",
       "        vertical-align: middle;\n",
       "    }\n",
       "\n",
       "    .dataframe tbody tr th {\n",
       "        vertical-align: top;\n",
       "    }\n",
       "\n",
       "    .dataframe thead th {\n",
       "        text-align: right;\n",
       "    }\n",
       "</style>\n",
       "<table border=\"1\" class=\"dataframe\">\n",
       "  <thead>\n",
       "    <tr style=\"text-align: right;\">\n",
       "      <th></th>\n",
       "      <th>COUNTY</th>\n",
       "      <th>FIPS_NAME</th>\n",
       "      <th>FIPS_CODE</th>\n",
       "    </tr>\n",
       "  </thead>\n",
       "  <tbody>\n",
       "    <tr>\n",
       "      <th>9</th>\n",
       "      <td>31</td>\n",
       "      <td>cook</td>\n",
       "      <td>031</td>\n",
       "    </tr>\n",
       "    <tr>\n",
       "      <th>22</th>\n",
       "      <td>17</td>\n",
       "      <td>navajo</td>\n",
       "      <td>017</td>\n",
       "    </tr>\n",
       "    <tr>\n",
       "      <th>25</th>\n",
       "      <td>orangeburg county</td>\n",
       "      <td>orangeburg</td>\n",
       "      <td>075</td>\n",
       "    </tr>\n",
       "    <tr>\n",
       "      <th>32</th>\n",
       "      <td>19</td>\n",
       "      <td>douglas</td>\n",
       "      <td>019</td>\n",
       "    </tr>\n",
       "    <tr>\n",
       "      <th>35</th>\n",
       "      <td>st lawrence</td>\n",
       "      <td>st. lawrence</td>\n",
       "      <td>089</td>\n",
       "    </tr>\n",
       "    <tr>\n",
       "      <th>53</th>\n",
       "      <td>jf</td>\n",
       "      <td>jefferson</td>\n",
       "      <td>073</td>\n",
       "    </tr>\n",
       "    <tr>\n",
       "      <th>56</th>\n",
       "      <td>5</td>\n",
       "      <td>coconino</td>\n",
       "      <td>005</td>\n",
       "    </tr>\n",
       "    <tr>\n",
       "      <th>66</th>\n",
       "      <td>47</td>\n",
       "      <td>okanogan</td>\n",
       "      <td>047</td>\n",
       "    </tr>\n",
       "    <tr>\n",
       "      <th>71</th>\n",
       "      <td>69</td>\n",
       "      <td>waupaca</td>\n",
       "      <td>135</td>\n",
       "    </tr>\n",
       "    <tr>\n",
       "      <th>72</th>\n",
       "      <td>stevens county</td>\n",
       "      <td>stevens</td>\n",
       "      <td>065</td>\n",
       "    </tr>\n",
       "  </tbody>\n",
       "</table>\n",
       "</div>"
      ],
      "text/plain": [
       "               COUNTY     FIPS_NAME FIPS_CODE\n",
       "9                  31          cook       031\n",
       "22                 17        navajo       017\n",
       "25  orangeburg county    orangeburg       075\n",
       "32                 19       douglas       019\n",
       "35        st lawrence  st. lawrence       089\n",
       "53                 jf     jefferson       073\n",
       "56                  5      coconino       005\n",
       "66                 47      okanogan       047\n",
       "71                 69       waupaca       135\n",
       "72     stevens county       stevens       065"
      ]
     },
     "execution_count": 6,
     "metadata": {},
     "output_type": "execute_result"
    }
   ],
   "source": [
    "## these are the same, and if one is none the rest are also none\n",
    "df['COUNTY'] = df['COUNTY'].str.lower().str.strip()\n",
    "df['FIPS_NAME'] = df['FIPS_NAME'].str.lower().str.strip()\n",
    "# df['FIPS_CODE'] = df['FIPS_CODE'].str.lower().str.strip()\n",
    "count_fips = df[['COUNTY','FIPS_NAME', 'FIPS_CODE']].dropna()\n",
    "count_fips[(count_fips['COUNTY']!=count_fips['FIPS_NAME'])&\n",
    "           (count_fips['COUNTY']!=count_fips['FIPS_CODE'])&\n",
    "           (count_fips['FIPS_CODE']!=count_fips['FIPS_NAME'])].head(10)"
   ]
  },
  {
   "cell_type": "code",
   "execution_count": 7,
   "id": "31a1f095",
   "metadata": {},
   "outputs": [
    {
     "data": {
      "text/plain": [
       "23"
      ]
     },
     "execution_count": 7,
     "metadata": {},
     "output_type": "execute_result"
    }
   ],
   "source": [
    "df_fires = df.drop(columns=['OBJECTID','FOD_ID', 'FPA_ID', 'SOURCE_REPORTING_UNIT_NAME', \n",
    "                      'LOCAL_FIRE_REPORT_ID','LOCAL_INCIDENT_ID','FIRE_CODE', \n",
    "                      'FIRE_NAME','ICS_209_INCIDENT_NUMBER','ICS_209_NAME', \n",
    "                      'MTBS_ID', 'MTBS_FIRE_NAME', 'OWNER_DESCR',\n",
    "                      'FIPS_CODE', 'FIPS_NAME', 'Shape'\n",
    "                     ])\n",
    "len(df_fires.columns)"
   ]
  },
  {
   "cell_type": "code",
   "execution_count": 8,
   "id": "fab4db42",
   "metadata": {},
   "outputs": [],
   "source": [
    "## basic string cleaning\n",
    "# df_fires = df_fires.fillna(value=np.nan)\n",
    "# df_fires = df_fires.replace(to_replace='', value=np.nan)"
   ]
  },
  {
   "cell_type": "code",
   "execution_count": 9,
   "id": "b835ba53",
   "metadata": {},
   "outputs": [
    {
     "data": {
      "text/plain": [
       "52"
      ]
     },
     "execution_count": 9,
     "metadata": {},
     "output_type": "execute_result"
    }
   ],
   "source": [
    "## state exploration\n",
    "df_fires['STATE'] = df_fires['STATE'].str.upper()\n",
    "lst_states = list(df_fires['STATE'].unique())\n",
    "len(lst_states)"
   ]
  },
  {
   "cell_type": "code",
   "execution_count": 10,
   "id": "57f97f74",
   "metadata": {},
   "outputs": [
    {
     "data": {
      "text/plain": [
       "52"
      ]
     },
     "execution_count": 10,
     "metadata": {},
     "output_type": "execute_result"
    }
   ],
   "source": [
    "states = [ 'AK', 'AL', 'AR', 'AZ', 'CA', 'CO', 'CT', 'DC', 'DE', 'FL', 'GA',\n",
    "           'HI', 'IA', 'ID', 'IL', 'IN', 'KS', 'KY', 'LA', 'MA', 'MD', 'ME',\n",
    "           'MI', 'MN', 'MO', 'MS', 'MT', 'NC', 'ND', 'NE', 'NH', 'NJ', 'NM',\n",
    "           'NV', 'NY', 'OH', 'OK', 'OR', 'PA', 'RI', 'SC', 'SD', 'TN', 'TX',\n",
    "           'UT', 'VA', 'VT', 'WA', 'WI', 'WV', 'WY', 'PR']\n",
    "len(states)"
   ]
  },
  {
   "cell_type": "code",
   "execution_count": 11,
   "id": "6efdb2cb",
   "metadata": {},
   "outputs": [],
   "source": [
    "## PR state is not existing (ask shifter if its real). If it is, we will remove the rows with PR\n",
    "for state in lst_states:\n",
    "    if state not in states:\n",
    "        print(state)"
   ]
  },
  {
   "cell_type": "code",
   "execution_count": 12,
   "id": "b2dc6fb1",
   "metadata": {},
   "outputs": [
    {
     "data": {
      "image/png": "[encoded data removed]",
      "text/plain": [
       "<Figure size 2232x360 with 1 Axes>"
      ]
     },
     "metadata": {
      "needs_background": "light"
     },
     "output_type": "display_data"
    }
   ],
   "source": [
    "plt.figure(figsize=(31,5))\n",
    "sns.countplot(data=df_fires, x=df_fires['STATE'], order=np.sort(df_fires['STATE'].unique()))\n",
    "plt.xticks(rotation = 90)\n",
    "plt.xlabel(\"States\")\n",
    "plt.ylabel(\"Number of fires\")\n",
    "plt.title(\"Fires disribution in different states\")\n",
    "plt.show()"
   ]
  },
  {
   "cell_type": "code",
   "execution_count": 13,
   "id": "81147a4e",
   "metadata": {},
   "outputs": [
    {
     "data": {
      "text/plain": [
       "226115"
      ]
     },
     "execution_count": 13,
     "metadata": {},
     "output_type": "execute_result"
    }
   ],
   "source": [
    "df_fires[\"COUNTY\"].isnull().sum()"
   ]
  },
  {
   "cell_type": "markdown",
   "id": "6e860c0c",
   "metadata": {},
   "source": [
    "We can constat that there are 226115 NaN values among more than 600K. We will replace each Nan value by the state  corresponding to its latitude/longitude coordinate\n",
    "\n",
    "To not have conflicts we put all current county names in lower cases"
   ]
  },
  {
   "cell_type": "code",
   "execution_count": 14,
   "id": "86e57209",
   "metadata": {},
   "outputs": [],
   "source": [
    "df_fires[\"COUNTY\"] = df_fires[\"COUNTY\"].str.lower()\n",
    "df_fires.loc[df_fires['COUNTY'].isnull(), 'COUNTY'] = df_fires.loc[df_fires['COUNTY'].isnull(),'STATE']"
   ]
  },
  {
   "cell_type": "code",
   "execution_count": 15,
   "id": "92d65899",
   "metadata": {},
   "outputs": [
    {
     "data": {
      "text/plain": [
       "3"
      ]
     },
     "execution_count": 15,
     "metadata": {},
     "output_type": "execute_result"
    }
   ],
   "source": [
    "## overseeing staff exploration\n",
    "SST = \"SOURCE_SYSTEM_TYPE\"\n",
    "NRA = \"NWCG_REPORTING_AGENCY\"\n",
    "df_fires[SST].nunique()  # categorial feature - NON FED, FED, INT AGNCY"
   ]
  },
  {
   "cell_type": "code",
   "execution_count": 16,
   "id": "13879a34",
   "metadata": {},
   "outputs": [
    {
     "data": {
      "text/plain": [
       "11"
      ]
     },
     "execution_count": 16,
     "metadata": {},
     "output_type": "execute_result"
    }
   ],
   "source": [
    "df_fires[NRA].nunique()"
   ]
  },
  {
   "cell_type": "code",
   "execution_count": 17,
   "id": "05642435",
   "metadata": {},
   "outputs": [
    {
     "data": {
      "text/plain": [
       "array(['BIA', 'BLM', 'BOR', 'DOD', 'DOE', 'FS', 'FWS', 'IA', 'NPS',\n",
       "       'ST/C&L', 'TRIBE'], dtype=object)"
      ]
     },
     "execution_count": 17,
     "metadata": {},
     "output_type": "execute_result"
    }
   ],
   "source": [
    "NRA_VALUES = np.unique(df_fires[NRA])\n",
    "NRA_VALUES"
   ]
  },
  {
   "cell_type": "code",
   "execution_count": 18,
   "id": "c3eea7d6",
   "metadata": {},
   "outputs": [
    {
     "data": {
      "image/png": "[encoded data removed]",
      "text/plain": [
       "<Figure size 432x288 with 1 Axes>"
      ]
     },
     "metadata": {
      "needs_background": "light"
     },
     "output_type": "display_data"
    },
    {
     "data": {
      "image/png": "[encoded data removed]",
      "text/plain": [
       "<Figure size 432x288 with 1 Axes>"
      ]
     },
     "metadata": {
      "needs_background": "light"
     },
     "output_type": "display_data"
    }
   ],
   "source": [
    "## the majority of NWCG REPORTING AGENCY is a State.\n",
    "for col in [SST, NRA]:\n",
    "    df_fires[col].value_counts().sort_index().plot(kind='bar', rot=0, ylabel='count', title=col)\n",
    "    plt.show()"
   ]
  },
  {
   "cell_type": "code",
   "execution_count": 19,
   "id": "6ece2fd2",
   "metadata": {},
   "outputs": [
    {
     "data": {
      "image/png": "[encoded data removed]",
      "text/plain": [
       "<Figure size 432x288 with 1 Axes>"
      ]
     },
     "metadata": {
      "needs_background": "light"
     },
     "output_type": "display_data"
    },
    {
     "data": {
      "image/png": "[encoded data removed]",
      "text/plain": [
       "<Figure size 432x288 with 1 Axes>"
      ]
     },
     "metadata": {
      "needs_background": "light"
     },
     "output_type": "display_data"
    },
    {
     "data": {
      "image/png": "[encoded data removed]",
      "text/plain": [
       "<Figure size 432x288 with 1 Axes>"
      ]
     },
     "metadata": {
      "needs_background": "light"
     },
     "output_type": "display_data"
    },
    {
     "data": {
      "image/png": "[encoded data removed]",
      "text/plain": [
       "<Figure size 432x288 with 1 Axes>"
      ]
     },
     "metadata": {
      "needs_background": "light"
     },
     "output_type": "display_data"
    },
    {
     "data": {
      "image/png": "[encoded data removed]",
      "text/plain": [
       "<Figure size 432x288 with 1 Axes>"
      ]
     },
     "metadata": {
      "needs_background": "light"
     },
     "output_type": "display_data"
    },
    {
     "data": {
      "image/png": "[encoded data removed]",
      "text/plain": [
       "<Figure size 432x288 with 1 Axes>"
      ]
     },
     "metadata": {
      "needs_background": "light"
     },
     "output_type": "display_data"
    },
    {
     "data": {
      "image/png": "[encoded data removed]",
      "text/plain": [
       "<Figure size 432x288 with 1 Axes>"
      ]
     },
     "metadata": {
      "needs_background": "light"
     },
     "output_type": "display_data"
    },
    {
     "data": {
      "image/png": "[encoded data removed]",
      "text/plain": [
       "<Figure size 432x288 with 1 Axes>"
      ]
     },
     "metadata": {
      "needs_background": "light"
     },
     "output_type": "display_data"
    },
    {
     "data": {
      "image/png": "[encoded data removed]",
      "text/plain": [
       "<Figure size 432x288 with 1 Axes>"
      ]
     },
     "metadata": {
      "needs_background": "light"
     },
     "output_type": "display_data"
    },
    {
     "data": {
      "image/png": "[encoded data removed]",
      "text/plain": [
       "<Figure size 432x288 with 1 Axes>"
      ]
     },
     "metadata": {
      "needs_background": "light"
     },
     "output_type": "display_data"
    },
    {
     "data": {
      "image/png": "[encoded data removed]",
      "text/plain": [
       "<Figure size 432x288 with 1 Axes>"
      ]
     },
     "metadata": {
      "needs_background": "light"
     },
     "output_type": "display_data"
    }
   ],
   "source": [
    "## the most SOURCE SYSTEM TYPE of ST/C&L (State unit reporting the fire report) is NONFED, maybe see the connection with nonfed to cause fire and see if it is the same in this case\n",
    "for val in NRA_VALUES:\n",
    "    df_fires[df_fires[NRA] == val][SST].value_counts().sort_index().plot(kind='bar', rot=0, ylabel='count', title=val)\n",
    "    plt.show()"
   ]
  },
  {
   "cell_type": "markdown",
   "id": "ff6d844a",
   "metadata": {},
   "source": [
    "## Data Cleaning"
   ]
  },
  {
   "cell_type": "code",
   "execution_count": 20,
   "id": "7e637b7b",
   "metadata": {},
   "outputs": [
    {
     "data": {
      "text/plain": [
       "SOURCE_SYSTEM_TYPE               0\n",
       "SOURCE_SYSTEM                    0\n",
       "NWCG_REPORTING_AGENCY            0\n",
       "NWCG_REPORTING_UNIT_ID           0\n",
       "NWCG_REPORTING_UNIT_NAME         0\n",
       "SOURCE_REPORTING_UNIT            0\n",
       "COMPLEX_NAME                625075\n",
       "FIRE_YEAR                        0\n",
       "DISCOVERY_DATE                   0\n",
       "DISCOVERY_DOY                    0\n",
       "DISCOVERY_TIME              294076\n",
       "STAT_CAUSE_CODE                  0\n",
       "STAT_CAUSE_DESCR                 0\n",
       "CONT_DATE                   297088\n",
       "CONT_DOY                    297088\n",
       "CONT_TIME                   323724\n",
       "FIRE_SIZE                        0\n",
       "FIRE_SIZE_CLASS                  0\n",
       "LATITUDE                         0\n",
       "LONGITUDE                        0\n",
       "OWNER_CODE                       0\n",
       "STATE                            0\n",
       "COUNTY                           0\n",
       "dtype: int64"
      ]
     },
     "execution_count": 20,
     "metadata": {},
     "output_type": "execute_result"
    }
   ],
   "source": [
    "df_fires.isna().sum(axis = 0)  # check wich columns still have null values. maybe will not be good to be in model"
   ]
  },
  {
   "cell_type": "code",
   "execution_count": 21,
   "id": "ee433b43",
   "metadata": {
    "scrolled": true
   },
   "outputs": [
    {
     "data": {
      "text/plain": [
       "(626822, 23)"
      ]
     },
     "execution_count": 21,
     "metadata": {},
     "output_type": "execute_result"
    }
   ],
   "source": [
    "df_fires.shape"
   ]
  },
  {
   "cell_type": "markdown",
   "id": "4cedbfe0",
   "metadata": {},
   "source": [
    "### Time Features engineering"
   ]
  },
  {
   "cell_type": "code",
   "execution_count": 22,
   "id": "e8dabc18",
   "metadata": {},
   "outputs": [],
   "source": [
    "epoch = pd.to_datetime(0, unit='s').to_julian_date()"
   ]
  },
  {
   "cell_type": "code",
   "execution_count": 23,
   "id": "bc7d8230",
   "metadata": {},
   "outputs": [
    {
     "data": {
      "text/html": [
       "<div>\n",
       "<style scoped>\n",
       "    .dataframe tbody tr th:only-of-type {\n",
       "        vertical-align: middle;\n",
       "    }\n",
       "\n",
       "    .dataframe tbody tr th {\n",
       "        vertical-align: top;\n",
       "    }\n",
       "\n",
       "    .dataframe thead th {\n",
       "        text-align: right;\n",
       "    }\n",
       "</style>\n",
       "<table border=\"1\" class=\"dataframe\">\n",
       "  <thead>\n",
       "    <tr style=\"text-align: right;\">\n",
       "      <th></th>\n",
       "      <th>SOURCE_SYSTEM_TYPE</th>\n",
       "      <th>SOURCE_SYSTEM</th>\n",
       "      <th>NWCG_REPORTING_AGENCY</th>\n",
       "      <th>NWCG_REPORTING_UNIT_ID</th>\n",
       "      <th>NWCG_REPORTING_UNIT_NAME</th>\n",
       "      <th>SOURCE_REPORTING_UNIT</th>\n",
       "      <th>COMPLEX_NAME</th>\n",
       "      <th>FIRE_YEAR</th>\n",
       "      <th>DISCOVERY_DATE</th>\n",
       "      <th>DISCOVERY_DOY</th>\n",
       "      <th>...</th>\n",
       "      <th>STATE</th>\n",
       "      <th>COUNTY</th>\n",
       "      <th>FULL_DISCOVERY_DATE</th>\n",
       "      <th>FULL_CONT_DATE</th>\n",
       "      <th>DELTA_TIME</th>\n",
       "      <th>DELTA_TIME_HOUR</th>\n",
       "      <th>DAY_OF_WEEK</th>\n",
       "      <th>MONTH</th>\n",
       "      <th>DISCOVERY_TIME_FRM</th>\n",
       "      <th>CONT_TIME_FRM</th>\n",
       "    </tr>\n",
       "  </thead>\n",
       "  <tbody>\n",
       "    <tr>\n",
       "      <th>0</th>\n",
       "      <td>NONFED</td>\n",
       "      <td>ST-NASF</td>\n",
       "      <td>ST/C&amp;L</td>\n",
       "      <td>USIDIDS</td>\n",
       "      <td>Idaho Department of Lands</td>\n",
       "      <td>ID310</td>\n",
       "      <td>None</td>\n",
       "      <td>1998</td>\n",
       "      <td>1998-09-17</td>\n",
       "      <td>260</td>\n",
       "      <td>...</td>\n",
       "      <td>ID</td>\n",
       "      <td>kootenai</td>\n",
       "      <td>NaT</td>\n",
       "      <td>NaT</td>\n",
       "      <td>None</td>\n",
       "      <td>None</td>\n",
       "      <td>3</td>\n",
       "      <td>9</td>\n",
       "      <td>NaN</td>\n",
       "      <td>NaN</td>\n",
       "    </tr>\n",
       "    <tr>\n",
       "      <th>1</th>\n",
       "      <td>FED</td>\n",
       "      <td>DOI-WFMI</td>\n",
       "      <td>BIA</td>\n",
       "      <td>USMTFBA</td>\n",
       "      <td>Fort Belknap Agency</td>\n",
       "      <td>MTFBA</td>\n",
       "      <td>None</td>\n",
       "      <td>2011</td>\n",
       "      <td>2011-08-22</td>\n",
       "      <td>234</td>\n",
       "      <td>...</td>\n",
       "      <td>MT</td>\n",
       "      <td>MT</td>\n",
       "      <td>2011-08-22 16:45:00</td>\n",
       "      <td>2011-08-22 18:00:00</td>\n",
       "      <td>0 days 01:15:00</td>\n",
       "      <td>1.25</td>\n",
       "      <td>0</td>\n",
       "      <td>8</td>\n",
       "      <td>16.750000</td>\n",
       "      <td>18.0</td>\n",
       "    </tr>\n",
       "    <tr>\n",
       "      <th>2</th>\n",
       "      <td>NONFED</td>\n",
       "      <td>ST-NASF</td>\n",
       "      <td>ST/C&amp;L</td>\n",
       "      <td>USNENES</td>\n",
       "      <td>Nebraska Department of Forestry</td>\n",
       "      <td>NENFS</td>\n",
       "      <td>None</td>\n",
       "      <td>2012</td>\n",
       "      <td>2012-05-19</td>\n",
       "      <td>140</td>\n",
       "      <td>...</td>\n",
       "      <td>NE</td>\n",
       "      <td>NE</td>\n",
       "      <td>2012-05-19 15:47:00</td>\n",
       "      <td>2012-05-19 16:30:00</td>\n",
       "      <td>0 days 00:43:00</td>\n",
       "      <td>0.716667</td>\n",
       "      <td>5</td>\n",
       "      <td>5</td>\n",
       "      <td>15.783333</td>\n",
       "      <td>16.5</td>\n",
       "    </tr>\n",
       "    <tr>\n",
       "      <th>3</th>\n",
       "      <td>NONFED</td>\n",
       "      <td>ST-VAVAS</td>\n",
       "      <td>ST/C&amp;L</td>\n",
       "      <td>USVAVAS</td>\n",
       "      <td>Virginia Department of Forestry</td>\n",
       "      <td>VAVAS3</td>\n",
       "      <td>None</td>\n",
       "      <td>2002</td>\n",
       "      <td>2002-01-04</td>\n",
       "      <td>4</td>\n",
       "      <td>...</td>\n",
       "      <td>VA</td>\n",
       "      <td>VA</td>\n",
       "      <td>NaT</td>\n",
       "      <td>NaT</td>\n",
       "      <td>None</td>\n",
       "      <td>None</td>\n",
       "      <td>4</td>\n",
       "      <td>1</td>\n",
       "      <td>NaN</td>\n",
       "      <td>NaN</td>\n",
       "    </tr>\n",
       "    <tr>\n",
       "      <th>4</th>\n",
       "      <td>NONFED</td>\n",
       "      <td>ST-LALAS</td>\n",
       "      <td>ST/C&amp;L</td>\n",
       "      <td>USLALAS</td>\n",
       "      <td>Louisiana Office of Forestry</td>\n",
       "      <td>LALAS1</td>\n",
       "      <td>None</td>\n",
       "      <td>2002</td>\n",
       "      <td>2002-05-16</td>\n",
       "      <td>136</td>\n",
       "      <td>...</td>\n",
       "      <td>LA</td>\n",
       "      <td>LA</td>\n",
       "      <td>NaT</td>\n",
       "      <td>NaT</td>\n",
       "      <td>None</td>\n",
       "      <td>None</td>\n",
       "      <td>3</td>\n",
       "      <td>5</td>\n",
       "      <td>NaN</td>\n",
       "      <td>NaN</td>\n",
       "    </tr>\n",
       "  </tbody>\n",
       "</table>\n",
       "<p>5 rows × 31 columns</p>\n",
       "</div>"
      ],
      "text/plain": [
       "  SOURCE_SYSTEM_TYPE SOURCE_SYSTEM NWCG_REPORTING_AGENCY  \\\n",
       "0             NONFED       ST-NASF                ST/C&L   \n",
       "1                FED      DOI-WFMI                   BIA   \n",
       "2             NONFED       ST-NASF                ST/C&L   \n",
       "3             NONFED      ST-VAVAS                ST/C&L   \n",
       "4             NONFED      ST-LALAS                ST/C&L   \n",
       "\n",
       "  NWCG_REPORTING_UNIT_ID         NWCG_REPORTING_UNIT_NAME  \\\n",
       "0                USIDIDS        Idaho Department of Lands   \n",
       "1                USMTFBA              Fort Belknap Agency   \n",
       "2                USNENES  Nebraska Department of Forestry   \n",
       "3                USVAVAS  Virginia Department of Forestry   \n",
       "4                USLALAS     Louisiana Office of Forestry   \n",
       "\n",
       "  SOURCE_REPORTING_UNIT COMPLEX_NAME  FIRE_YEAR DISCOVERY_DATE  DISCOVERY_DOY  \\\n",
       "0                 ID310         None       1998     1998-09-17            260   \n",
       "1                 MTFBA         None       2011     2011-08-22            234   \n",
       "2                 NENFS         None       2012     2012-05-19            140   \n",
       "3                VAVAS3         None       2002     2002-01-04              4   \n",
       "4                LALAS1         None       2002     2002-05-16            136   \n",
       "\n",
       "   ... STATE    COUNTY FULL_DISCOVERY_DATE      FULL_CONT_DATE  \\\n",
       "0  ...    ID  kootenai                 NaT                 NaT   \n",
       "1  ...    MT        MT 2011-08-22 16:45:00 2011-08-22 18:00:00   \n",
       "2  ...    NE        NE 2012-05-19 15:47:00 2012-05-19 16:30:00   \n",
       "3  ...    VA        VA                 NaT                 NaT   \n",
       "4  ...    LA        LA                 NaT                 NaT   \n",
       "\n",
       "        DELTA_TIME DELTA_TIME_HOUR  DAY_OF_WEEK MONTH  DISCOVERY_TIME_FRM  \\\n",
       "0             None            None            3     9                 NaN   \n",
       "1  0 days 01:15:00            1.25            0     8           16.750000   \n",
       "2  0 days 00:43:00        0.716667            5     5           15.783333   \n",
       "3             None            None            4     1                 NaN   \n",
       "4             None            None            3     5                 NaN   \n",
       "\n",
       "   CONT_TIME_FRM  \n",
       "0            NaN  \n",
       "1           18.0  \n",
       "2           16.5  \n",
       "3            NaN  \n",
       "4            NaN  \n",
       "\n",
       "[5 rows x 31 columns]"
      ]
     },
     "execution_count": 23,
     "metadata": {},
     "output_type": "execute_result"
    }
   ],
   "source": [
    "seconds_per_min = 60 \n",
    "min_per_hour = 60\n",
    "# Arrange the dates for the Model Data Frame.\n",
    "df_fires[\"DISCOVERY_DATE\"] = pd.to_datetime(df_fires['DISCOVERY_DATE'] - epoch, unit='D')\n",
    "df_fires[\"FULL_DISCOVERY_DATE\"] = pd.to_datetime(df_fires['DISCOVERY_DATE'], format = \"%Y%j\",errors=\"ignore\")\n",
    "df_fires[\"FULL_DISCOVERY_DATE\"] = df_fires.FULL_DISCOVERY_DATE.astype(str) + \" \" + df_fires.DISCOVERY_TIME.str[:2] + \":\" + df_fires.DISCOVERY_TIME.str[2:]\n",
    "df_fires[\"FULL_DISCOVERY_DATE\"] = pd.to_datetime(df_fires[\"FULL_DISCOVERY_DATE\"])\n",
    "df_fires[\"CONT_DATE\"] = pd.to_datetime(df_fires['CONT_DATE'] - epoch, unit='D')\n",
    "df_fires[\"FULL_CONT_DATE\"] = pd.to_datetime(df_fires[\"CONT_DATE\"], format = \"%Y%j\",errors=\"ignore\")\n",
    "df_fires[\"FULL_CONT_DATE\"] = df_fires.FULL_CONT_DATE.astype(str) + \" \" + df_fires.CONT_TIME.str[:2] + \":\" + df_fires.CONT_TIME.str[2:]\n",
    "df_fires[\"FULL_CONT_DATE\"] = pd.to_datetime(df_fires[\"FULL_CONT_DATE\"], errors='coerce')\n",
    "# Calculate the durations of the fire from substraction of discovery and control time.\n",
    "df_fires[\"DELTA_TIME\"] = None\n",
    "df_fires[\"DELTA_TIME_HOUR\"] = None\n",
    "df_fires.loc[df_fires['FULL_CONT_DATE'].notna(), 'DELTA_TIME'] = (df_fires[\"FULL_CONT_DATE\"] - df_fires[\"FULL_DISCOVERY_DATE\"])\n",
    "df_fires.loc[df_fires['FULL_CONT_DATE'].notna(), 'DELTA_TIME_HOUR'] = (df_fires[\"FULL_CONT_DATE\"] - df_fires[\"FULL_DISCOVERY_DATE\"]).dt.days*24 + ((df_fires[\"FULL_CONT_DATE\"] - df_fires[\"FULL_DISCOVERY_DATE\"]).dt.seconds/seconds_per_min)/min_per_hour\n",
    "# Extract week day and the month for each fire.\n",
    "df_fires[\"DAY_OF_WEEK\"] = df_fires.DISCOVERY_DATE.dt.weekday\n",
    "df_fires[\"MONTH\"] = df_fires.DISCOVERY_DATE.dt.month\n",
    "# float hour feature\n",
    "df_fires['DISCOVERY_TIME_FRM'] = df_fires['DISCOVERY_TIME'].apply(lambda row : datetime.strptime(str(row), \"%H%M\").hour + datetime.strptime(str(row), \"%H%M\").minute/min_per_hour  if row else np.nan)\n",
    "df_fires['CONT_TIME_FRM'] = df_fires['CONT_TIME'].apply(lambda row : datetime.strptime(str(row), \"%H%M\").hour + datetime.strptime(str(row), \"%H%M\").minute/min_per_hour  if row else np.nan)\n",
    "df_fires.head()"
   ]
  },
  {
   "cell_type": "code",
   "execution_count": 24,
   "id": "2e1c2ff5",
   "metadata": {},
   "outputs": [
    {
     "data": {
      "text/plain": [
       "87673.0"
      ]
     },
     "execution_count": 24,
     "metadata": {},
     "output_type": "execute_result"
    }
   ],
   "source": [
    "np.max(df_fires['DELTA_TIME_HOUR'])"
   ]
  },
  {
   "cell_type": "code",
   "execution_count": 25,
   "id": "5968aea3",
   "metadata": {},
   "outputs": [],
   "source": [
    "# drop outiliners\n",
    "df_fires.drop(df_fires.loc[(df_fires['DELTA_TIME_HOUR'] > 10000) & (df_fires['FIRE_SIZE'] < 5)].index, inplace=True)"
   ]
  },
  {
   "cell_type": "code",
   "execution_count": 26,
   "id": "173d9e09",
   "metadata": {},
   "outputs": [
    {
     "data": {
      "text/html": [
       "<div>\n",
       "<style scoped>\n",
       "    .dataframe tbody tr th:only-of-type {\n",
       "        vertical-align: middle;\n",
       "    }\n",
       "\n",
       "    .dataframe tbody tr th {\n",
       "        vertical-align: top;\n",
       "    }\n",
       "\n",
       "    .dataframe thead th {\n",
       "        text-align: right;\n",
       "    }\n",
       "</style>\n",
       "<table border=\"1\" class=\"dataframe\">\n",
       "  <thead>\n",
       "    <tr style=\"text-align: right;\">\n",
       "      <th></th>\n",
       "      <th>DELTA_TIME</th>\n",
       "      <th>DELTA_TIME_HOUR</th>\n",
       "    </tr>\n",
       "  </thead>\n",
       "  <tbody>\n",
       "    <tr>\n",
       "      <th>0</th>\n",
       "      <td>None</td>\n",
       "      <td>None</td>\n",
       "    </tr>\n",
       "    <tr>\n",
       "      <th>1</th>\n",
       "      <td>0 days 01:15:00</td>\n",
       "      <td>1.25</td>\n",
       "    </tr>\n",
       "    <tr>\n",
       "      <th>2</th>\n",
       "      <td>0 days 00:43:00</td>\n",
       "      <td>0.716667</td>\n",
       "    </tr>\n",
       "    <tr>\n",
       "      <th>3</th>\n",
       "      <td>None</td>\n",
       "      <td>None</td>\n",
       "    </tr>\n",
       "    <tr>\n",
       "      <th>4</th>\n",
       "      <td>None</td>\n",
       "      <td>None</td>\n",
       "    </tr>\n",
       "    <tr>\n",
       "      <th>...</th>\n",
       "      <td>...</td>\n",
       "      <td>...</td>\n",
       "    </tr>\n",
       "    <tr>\n",
       "      <th>626817</th>\n",
       "      <td>0 days 00:00:00</td>\n",
       "      <td>0.0</td>\n",
       "    </tr>\n",
       "    <tr>\n",
       "      <th>626818</th>\n",
       "      <td>0 days 00:00:00</td>\n",
       "      <td>0.0</td>\n",
       "    </tr>\n",
       "    <tr>\n",
       "      <th>626819</th>\n",
       "      <td>0 days 00:00:00</td>\n",
       "      <td>0.0</td>\n",
       "    </tr>\n",
       "    <tr>\n",
       "      <th>626820</th>\n",
       "      <td>None</td>\n",
       "      <td>None</td>\n",
       "    </tr>\n",
       "    <tr>\n",
       "      <th>626821</th>\n",
       "      <td>None</td>\n",
       "      <td>None</td>\n",
       "    </tr>\n",
       "  </tbody>\n",
       "</table>\n",
       "<p>626815 rows × 2 columns</p>\n",
       "</div>"
      ],
      "text/plain": [
       "             DELTA_TIME DELTA_TIME_HOUR\n",
       "0                  None            None\n",
       "1       0 days 01:15:00            1.25\n",
       "2       0 days 00:43:00        0.716667\n",
       "3                  None            None\n",
       "4                  None            None\n",
       "...                 ...             ...\n",
       "626817  0 days 00:00:00             0.0\n",
       "626818  0 days 00:00:00             0.0\n",
       "626819  0 days 00:00:00             0.0\n",
       "626820             None            None\n",
       "626821             None            None\n",
       "\n",
       "[626815 rows x 2 columns]"
      ]
     },
     "execution_count": 26,
     "metadata": {},
     "output_type": "execute_result"
    }
   ],
   "source": [
    "df_fires[[\"DELTA_TIME\", \"DELTA_TIME_HOUR\"]]"
   ]
  },
  {
   "cell_type": "code",
   "execution_count": 27,
   "id": "85ed8853",
   "metadata": {},
   "outputs": [
    {
     "data": {
      "text/plain": [
       "29.526126613407378"
      ]
     },
     "execution_count": 27,
     "metadata": {},
     "output_type": "execute_result"
    }
   ],
   "source": [
    "average_duration = df_fires['DELTA_TIME_HOUR'].mean()\n",
    "average_duration"
   ]
  },
  {
   "cell_type": "code",
   "execution_count": 28,
   "id": "8cff2c49",
   "metadata": {},
   "outputs": [
    {
     "data": {
      "text/html": [
       "<div>\n",
       "<style scoped>\n",
       "    .dataframe tbody tr th:only-of-type {\n",
       "        vertical-align: middle;\n",
       "    }\n",
       "\n",
       "    .dataframe tbody tr th {\n",
       "        vertical-align: top;\n",
       "    }\n",
       "\n",
       "    .dataframe thead th {\n",
       "        text-align: right;\n",
       "    }\n",
       "</style>\n",
       "<table border=\"1\" class=\"dataframe\">\n",
       "  <thead>\n",
       "    <tr style=\"text-align: right;\">\n",
       "      <th></th>\n",
       "      <th>DISCOVERY_DATE</th>\n",
       "      <th>CONT_DATE</th>\n",
       "      <th>DELTA_TIME</th>\n",
       "    </tr>\n",
       "  </thead>\n",
       "  <tbody>\n",
       "    <tr>\n",
       "      <th>0</th>\n",
       "      <td>1998-09-17</td>\n",
       "      <td>NaT</td>\n",
       "      <td>None</td>\n",
       "    </tr>\n",
       "    <tr>\n",
       "      <th>1</th>\n",
       "      <td>2011-08-22</td>\n",
       "      <td>2011-08-22</td>\n",
       "      <td>0 days 01:15:00</td>\n",
       "    </tr>\n",
       "    <tr>\n",
       "      <th>2</th>\n",
       "      <td>2012-05-19</td>\n",
       "      <td>2012-05-19</td>\n",
       "      <td>0 days 00:43:00</td>\n",
       "    </tr>\n",
       "    <tr>\n",
       "      <th>3</th>\n",
       "      <td>2002-01-04</td>\n",
       "      <td>NaT</td>\n",
       "      <td>None</td>\n",
       "    </tr>\n",
       "    <tr>\n",
       "      <th>4</th>\n",
       "      <td>2002-05-16</td>\n",
       "      <td>NaT</td>\n",
       "      <td>None</td>\n",
       "    </tr>\n",
       "    <tr>\n",
       "      <th>...</th>\n",
       "      <td>...</td>\n",
       "      <td>...</td>\n",
       "      <td>...</td>\n",
       "    </tr>\n",
       "    <tr>\n",
       "      <th>626817</th>\n",
       "      <td>2005-05-29</td>\n",
       "      <td>2005-05-29</td>\n",
       "      <td>0 days 00:00:00</td>\n",
       "    </tr>\n",
       "    <tr>\n",
       "      <th>626818</th>\n",
       "      <td>2000-07-12</td>\n",
       "      <td>2000-07-12</td>\n",
       "      <td>0 days 00:00:00</td>\n",
       "    </tr>\n",
       "    <tr>\n",
       "      <th>626819</th>\n",
       "      <td>2001-05-03</td>\n",
       "      <td>2001-05-03</td>\n",
       "      <td>0 days 00:00:00</td>\n",
       "    </tr>\n",
       "    <tr>\n",
       "      <th>626820</th>\n",
       "      <td>2007-07-13</td>\n",
       "      <td>NaT</td>\n",
       "      <td>None</td>\n",
       "    </tr>\n",
       "    <tr>\n",
       "      <th>626821</th>\n",
       "      <td>2002-03-25</td>\n",
       "      <td>NaT</td>\n",
       "      <td>None</td>\n",
       "    </tr>\n",
       "  </tbody>\n",
       "</table>\n",
       "<p>626815 rows × 3 columns</p>\n",
       "</div>"
      ],
      "text/plain": [
       "       DISCOVERY_DATE  CONT_DATE       DELTA_TIME\n",
       "0          1998-09-17        NaT             None\n",
       "1          2011-08-22 2011-08-22  0 days 01:15:00\n",
       "2          2012-05-19 2012-05-19  0 days 00:43:00\n",
       "3          2002-01-04        NaT             None\n",
       "4          2002-05-16        NaT             None\n",
       "...               ...        ...              ...\n",
       "626817     2005-05-29 2005-05-29  0 days 00:00:00\n",
       "626818     2000-07-12 2000-07-12  0 days 00:00:00\n",
       "626819     2001-05-03 2001-05-03  0 days 00:00:00\n",
       "626820     2007-07-13        NaT             None\n",
       "626821     2002-03-25        NaT             None\n",
       "\n",
       "[626815 rows x 3 columns]"
      ]
     },
     "execution_count": 28,
     "metadata": {},
     "output_type": "execute_result"
    }
   ],
   "source": [
    "df_fires[['DISCOVERY_DATE', 'CONT_DATE', 'DELTA_TIME']]"
   ]
  },
  {
   "cell_type": "code",
   "execution_count": 29,
   "id": "48240acb",
   "metadata": {},
   "outputs": [],
   "source": [
    "# df_fires = df_fires.drop(df_fires[df_fires['DELTA_TIME_HOUR']==0].index).reset_index(drop=True)"
   ]
  },
  {
   "cell_type": "code",
   "execution_count": 30,
   "id": "0d4ebd48",
   "metadata": {
    "scrolled": true
   },
   "outputs": [
    {
     "data": {
      "text/plain": [
       "(array([246562.,  24897.,   4696.,   5038.,   2689.,   1217.,   1685.,\n",
       "           841.,    767.,    848.]),\n",
       " array([0.0, 14.996666666666666, 29.993333333333332, 44.989999999999995,\n",
       "        59.986666666666665, 74.98333333333333, 89.97999999999999,\n",
       "        104.97666666666666, 119.97333333333333, 134.97, 149.96666666666667],\n",
       "       dtype=object),\n",
       " <BarContainer object of 10 artists>)"
      ]
     },
     "execution_count": 30,
     "metadata": {},
     "output_type": "execute_result"
    },
    {
     "data": {
      "image/png": "[encoded data removed]",
      "text/plain": [
       "<Figure size 432x288 with 1 Axes>"
      ]
     },
     "metadata": {
      "needs_background": "light"
     },
     "output_type": "display_data"
    }
   ],
   "source": [
    "plt.hist(df_fires.loc[df_fires['DELTA_TIME_HOUR'] < 150]['DELTA_TIME_HOUR'], bins=10)"
   ]
  },
  {
   "cell_type": "markdown",
   "id": "2b77a7a7",
   "metadata": {},
   "source": [
    "transform columns (cyclic transformation on the hours, days (is it useful), months (for seasons))\n",
    "complete null values"
   ]
  },
  {
   "cell_type": "markdown",
   "id": "6ea6d5e0",
   "metadata": {},
   "source": [
    "## Geographic Features engineering"
   ]
  },
  {
   "cell_type": "markdown",
   "id": "078be8de",
   "metadata": {},
   "source": [
    "We want to fill the missing Delta Time values with the median of the Delta Time per Fire Class."
   ]
  },
  {
   "cell_type": "code",
   "execution_count": 31,
   "id": "001423d5",
   "metadata": {},
   "outputs": [
    {
     "data": {
      "text/html": [
       "<div>\n",
       "<style scoped>\n",
       "    .dataframe tbody tr th:only-of-type {\n",
       "        vertical-align: middle;\n",
       "    }\n",
       "\n",
       "    .dataframe tbody tr th {\n",
       "        vertical-align: top;\n",
       "    }\n",
       "\n",
       "    .dataframe thead th {\n",
       "        text-align: right;\n",
       "    }\n",
       "</style>\n",
       "<table border=\"1\" class=\"dataframe\">\n",
       "  <thead>\n",
       "    <tr style=\"text-align: right;\">\n",
       "      <th></th>\n",
       "      <th>count</th>\n",
       "      <th>unique</th>\n",
       "      <th>top</th>\n",
       "      <th>freq</th>\n",
       "    </tr>\n",
       "    <tr>\n",
       "      <th>FIRE_SIZE_CLASS</th>\n",
       "      <th></th>\n",
       "      <th></th>\n",
       "      <th></th>\n",
       "      <th></th>\n",
       "    </tr>\n",
       "  </thead>\n",
       "  <tbody>\n",
       "    <tr>\n",
       "      <th>A</th>\n",
       "      <td>127109.0</td>\n",
       "      <td>6965.0</td>\n",
       "      <td>0.0</td>\n",
       "      <td>15383.0</td>\n",
       "    </tr>\n",
       "    <tr>\n",
       "      <th>B</th>\n",
       "      <td>129026.0</td>\n",
       "      <td>6113.0</td>\n",
       "      <td>0.0</td>\n",
       "      <td>19120.0</td>\n",
       "    </tr>\n",
       "    <tr>\n",
       "      <th>C</th>\n",
       "      <td>30723.0</td>\n",
       "      <td>3869.0</td>\n",
       "      <td>0.0</td>\n",
       "      <td>2849.0</td>\n",
       "    </tr>\n",
       "    <tr>\n",
       "      <th>D</th>\n",
       "      <td>4968.0</td>\n",
       "      <td>2149.0</td>\n",
       "      <td>0.0</td>\n",
       "      <td>253.0</td>\n",
       "    </tr>\n",
       "    <tr>\n",
       "      <th>E</th>\n",
       "      <td>2893.0</td>\n",
       "      <td>1807.0</td>\n",
       "      <td>0.0</td>\n",
       "      <td>93.0</td>\n",
       "    </tr>\n",
       "    <tr>\n",
       "      <th>F</th>\n",
       "      <td>1908.0</td>\n",
       "      <td>1524.0</td>\n",
       "      <td>0.0</td>\n",
       "      <td>15.0</td>\n",
       "    </tr>\n",
       "    <tr>\n",
       "      <th>G</th>\n",
       "      <td>1035.0</td>\n",
       "      <td>991.0</td>\n",
       "      <td>12.0</td>\n",
       "      <td>4.0</td>\n",
       "    </tr>\n",
       "  </tbody>\n",
       "</table>\n",
       "</div>"
      ],
      "text/plain": [
       "                    count  unique   top     freq\n",
       "FIRE_SIZE_CLASS                                 \n",
       "A                127109.0  6965.0   0.0  15383.0\n",
       "B                129026.0  6113.0   0.0  19120.0\n",
       "C                 30723.0  3869.0   0.0   2849.0\n",
       "D                  4968.0  2149.0   0.0    253.0\n",
       "E                  2893.0  1807.0   0.0     93.0\n",
       "F                  1908.0  1524.0   0.0     15.0\n",
       "G                  1035.0   991.0  12.0      4.0"
      ]
     },
     "execution_count": 31,
     "metadata": {},
     "output_type": "execute_result"
    }
   ],
   "source": [
    "## classes A and B are too similar\n",
    "df_fires.groupby('FIRE_SIZE_CLASS')['DELTA_TIME_HOUR'].describe()"
   ]
  },
  {
   "cell_type": "code",
   "execution_count": 32,
   "id": "8754a72e",
   "metadata": {},
   "outputs": [
    {
     "data": {
      "text/plain": [
       "<matplotlib.legend.Legend at 0x7f97fb199eb0>"
      ]
     },
     "execution_count": 32,
     "metadata": {},
     "output_type": "execute_result"
    },
    {
     "data": {
      "image/png": "[encoded data removed]",
      "text/plain": [
       "<Figure size 432x288 with 1 Axes>"
      ]
     },
     "metadata": {
      "needs_background": "light"
     },
     "output_type": "display_data"
    }
   ],
   "source": [
    "plt.hist(df_fires.loc[(df_fires['DELTA_TIME_HOUR'] < 30) & (df_fires['FIRE_SIZE_CLASS']=='A')]['DELTA_TIME_HOUR'], bins=100, label='A', alpha=0.5)\n",
    "plt.hist(df_fires.loc[(df_fires['DELTA_TIME_HOUR'] < 30) & (df_fires['FIRE_SIZE_CLASS']=='B')]['DELTA_TIME_HOUR'], bins=100, label='B', alpha=0.5)\n",
    "plt.hist(df_fires.loc[(df_fires['DELTA_TIME_HOUR'] < 30) & (df_fires['FIRE_SIZE_CLASS']=='C')]['DELTA_TIME_HOUR'], bins=100, label='C')\n",
    "plt.xlabel(\"Delta Time (hours)\")\n",
    "plt.ylabel(\"count\")\n",
    "plt.title(\"Distibution of fire size classes by fire duration\")\n",
    "plt.legend()"
   ]
  },
  {
   "cell_type": "code",
   "execution_count": 33,
   "id": "9befb3e6",
   "metadata": {},
   "outputs": [
    {
     "data": {
      "text/plain": [
       "<matplotlib.legend.Legend at 0x7f97e229ba90>"
      ]
     },
     "execution_count": 33,
     "metadata": {},
     "output_type": "execute_result"
    },
    {
     "data": {
      "image/png": "[encoded data removed]",
      "text/plain": [
       "<Figure size 432x288 with 1 Axes>"
      ]
     },
     "metadata": {
      "needs_background": "light"
     },
     "output_type": "display_data"
    }
   ],
   "source": [
    "plt.hist(df_fires.loc[(df_fires['DELTA_TIME_HOUR'] < 10) & (df_fires['FIRE_SIZE_CLASS']=='A')]['DELTA_TIME_HOUR'], bins=100, label='A', alpha=0.5)\n",
    "plt.hist(df_fires.loc[(df_fires['DELTA_TIME_HOUR'] < 10) & (df_fires['FIRE_SIZE_CLASS']=='B')]['DELTA_TIME_HOUR'], bins=100, label='B', alpha=0.5)\n",
    "plt.xlabel(\"Delta Time (hours)\")\n",
    "plt.ylabel(\"count\")\n",
    "plt.legend()"
   ]
  },
  {
   "cell_type": "code",
   "execution_count": 34,
   "id": "eb3f56ca",
   "metadata": {},
   "outputs": [
    {
     "data": {
      "text/html": [
       "<div>\n",
       "<style scoped>\n",
       "    .dataframe tbody tr th:only-of-type {\n",
       "        vertical-align: middle;\n",
       "    }\n",
       "\n",
       "    .dataframe tbody tr th {\n",
       "        vertical-align: top;\n",
       "    }\n",
       "\n",
       "    .dataframe thead th {\n",
       "        text-align: right;\n",
       "    }\n",
       "</style>\n",
       "<table border=\"1\" class=\"dataframe\">\n",
       "  <thead>\n",
       "    <tr style=\"text-align: right;\">\n",
       "      <th></th>\n",
       "      <th>count</th>\n",
       "      <th>unique</th>\n",
       "      <th>top</th>\n",
       "      <th>freq</th>\n",
       "    </tr>\n",
       "    <tr>\n",
       "      <th>FIRE_SIZE_CLASS</th>\n",
       "      <th></th>\n",
       "      <th></th>\n",
       "      <th></th>\n",
       "      <th></th>\n",
       "    </tr>\n",
       "  </thead>\n",
       "  <tbody>\n",
       "    <tr>\n",
       "      <th>B</th>\n",
       "      <td>256135.0</td>\n",
       "      <td>9565.0</td>\n",
       "      <td>0.0</td>\n",
       "      <td>34503.0</td>\n",
       "    </tr>\n",
       "    <tr>\n",
       "      <th>C</th>\n",
       "      <td>30723.0</td>\n",
       "      <td>3869.0</td>\n",
       "      <td>0.0</td>\n",
       "      <td>2849.0</td>\n",
       "    </tr>\n",
       "    <tr>\n",
       "      <th>D</th>\n",
       "      <td>4968.0</td>\n",
       "      <td>2149.0</td>\n",
       "      <td>0.0</td>\n",
       "      <td>253.0</td>\n",
       "    </tr>\n",
       "    <tr>\n",
       "      <th>E</th>\n",
       "      <td>2893.0</td>\n",
       "      <td>1807.0</td>\n",
       "      <td>0.0</td>\n",
       "      <td>93.0</td>\n",
       "    </tr>\n",
       "    <tr>\n",
       "      <th>F</th>\n",
       "      <td>1908.0</td>\n",
       "      <td>1524.0</td>\n",
       "      <td>0.0</td>\n",
       "      <td>15.0</td>\n",
       "    </tr>\n",
       "    <tr>\n",
       "      <th>G</th>\n",
       "      <td>1035.0</td>\n",
       "      <td>991.0</td>\n",
       "      <td>12.0</td>\n",
       "      <td>4.0</td>\n",
       "    </tr>\n",
       "  </tbody>\n",
       "</table>\n",
       "</div>"
      ],
      "text/plain": [
       "                    count  unique   top     freq\n",
       "FIRE_SIZE_CLASS                                 \n",
       "B                256135.0  9565.0   0.0  34503.0\n",
       "C                 30723.0  3869.0   0.0   2849.0\n",
       "D                  4968.0  2149.0   0.0    253.0\n",
       "E                  2893.0  1807.0   0.0     93.0\n",
       "F                  1908.0  1524.0   0.0     15.0\n",
       "G                  1035.0   991.0  12.0      4.0"
      ]
     },
     "execution_count": 34,
     "metadata": {},
     "output_type": "execute_result"
    }
   ],
   "source": [
    "## maybe we should combine them\n",
    "df2 = df_fires.copy()\n",
    "df2['FIRE_SIZE_CLASS']=df2['FIRE_SIZE_CLASS'].replace('A','B')\n",
    "df2.groupby('FIRE_SIZE_CLASS')['DELTA_TIME_HOUR'].describe()"
   ]
  },
  {
   "cell_type": "code",
   "execution_count": 35,
   "id": "c016a4b1",
   "metadata": {},
   "outputs": [
    {
     "data": {
      "text/plain": [
       "<matplotlib.legend.Legend at 0x7f97e4576eb0>"
      ]
     },
     "execution_count": 35,
     "metadata": {},
     "output_type": "execute_result"
    },
    {
     "data": {
      "image/png": "[encoded data removed]",
      "text/plain": [
       "<Figure size 432x288 with 1 Axes>"
      ]
     },
     "metadata": {
      "needs_background": "light"
     },
     "output_type": "display_data"
    }
   ],
   "source": [
    "plt.hist(df2.loc[(df2['DELTA_TIME_HOUR'] < 30) & (df2['FIRE_SIZE_CLASS']=='B')]['DELTA_TIME_HOUR'], bins=100, label='B', alpha=0.5)\n",
    "plt.hist(df2.loc[(df2['DELTA_TIME_HOUR'] < 30) & (df2['FIRE_SIZE_CLASS']=='C')]['DELTA_TIME_HOUR'], bins=100, label='C')\n",
    "plt.xlabel(\"Delta Time (hours)\")\n",
    "plt.ylabel(\"count\")\n",
    "plt.legend()"
   ]
  },
  {
   "cell_type": "code",
   "execution_count": 36,
   "id": "56d81e31",
   "metadata": {},
   "outputs": [
    {
     "data": {
      "text/html": [
       "<div>\n",
       "<style scoped>\n",
       "    .dataframe tbody tr th:only-of-type {\n",
       "        vertical-align: middle;\n",
       "    }\n",
       "\n",
       "    .dataframe tbody tr th {\n",
       "        vertical-align: top;\n",
       "    }\n",
       "\n",
       "    .dataframe thead th {\n",
       "        text-align: right;\n",
       "    }\n",
       "</style>\n",
       "<table border=\"1\" class=\"dataframe\">\n",
       "  <thead>\n",
       "    <tr style=\"text-align: right;\">\n",
       "      <th></th>\n",
       "      <th>count</th>\n",
       "      <th>unique</th>\n",
       "      <th>top</th>\n",
       "      <th>freq</th>\n",
       "    </tr>\n",
       "    <tr>\n",
       "      <th>FIRE_SIZE_CLASS</th>\n",
       "      <th></th>\n",
       "      <th></th>\n",
       "      <th></th>\n",
       "      <th></th>\n",
       "    </tr>\n",
       "  </thead>\n",
       "  <tbody>\n",
       "    <tr>\n",
       "      <th>A</th>\n",
       "      <td>191519.0</td>\n",
       "      <td>8311.0</td>\n",
       "      <td>0.0</td>\n",
       "      <td>24411.0</td>\n",
       "    </tr>\n",
       "    <tr>\n",
       "      <th>B</th>\n",
       "      <td>64616.0</td>\n",
       "      <td>4254.0</td>\n",
       "      <td>0.0</td>\n",
       "      <td>10092.0</td>\n",
       "    </tr>\n",
       "    <tr>\n",
       "      <th>C</th>\n",
       "      <td>30723.0</td>\n",
       "      <td>3869.0</td>\n",
       "      <td>0.0</td>\n",
       "      <td>2849.0</td>\n",
       "    </tr>\n",
       "    <tr>\n",
       "      <th>D</th>\n",
       "      <td>4968.0</td>\n",
       "      <td>2149.0</td>\n",
       "      <td>0.0</td>\n",
       "      <td>253.0</td>\n",
       "    </tr>\n",
       "    <tr>\n",
       "      <th>E</th>\n",
       "      <td>2893.0</td>\n",
       "      <td>1807.0</td>\n",
       "      <td>0.0</td>\n",
       "      <td>93.0</td>\n",
       "    </tr>\n",
       "    <tr>\n",
       "      <th>F</th>\n",
       "      <td>1908.0</td>\n",
       "      <td>1524.0</td>\n",
       "      <td>0.0</td>\n",
       "      <td>15.0</td>\n",
       "    </tr>\n",
       "    <tr>\n",
       "      <th>G</th>\n",
       "      <td>1035.0</td>\n",
       "      <td>991.0</td>\n",
       "      <td>12.0</td>\n",
       "      <td>4.0</td>\n",
       "    </tr>\n",
       "  </tbody>\n",
       "</table>\n",
       "</div>"
      ],
      "text/plain": [
       "                    count  unique   top     freq\n",
       "FIRE_SIZE_CLASS                                 \n",
       "A                191519.0  8311.0   0.0  24411.0\n",
       "B                 64616.0  4254.0   0.0  10092.0\n",
       "C                 30723.0  3869.0   0.0   2849.0\n",
       "D                  4968.0  2149.0   0.0    253.0\n",
       "E                  2893.0  1807.0   0.0     93.0\n",
       "F                  1908.0  1524.0   0.0     15.0\n",
       "G                  1035.0   991.0  12.0      4.0"
      ]
     },
     "execution_count": 36,
     "metadata": {},
     "output_type": "execute_result"
    }
   ],
   "source": [
    "## or define a new upper bound for class A\n",
    "df3 = df_fires.copy()\n",
    "df3['FIRE_SIZE_CLASS'] = df3['FIRE_SIZE_CLASS'].mask(df3['FIRE_SIZE'] <= 1, 'A')\n",
    "df3.groupby('FIRE_SIZE_CLASS')['DELTA_TIME_HOUR'].describe()"
   ]
  },
  {
   "cell_type": "code",
   "execution_count": 37,
   "id": "a03d9d4d",
   "metadata": {},
   "outputs": [
    {
     "data": {
      "text/html": [
       "<div>\n",
       "<style scoped>\n",
       "    .dataframe tbody tr th:only-of-type {\n",
       "        vertical-align: middle;\n",
       "    }\n",
       "\n",
       "    .dataframe tbody tr th {\n",
       "        vertical-align: top;\n",
       "    }\n",
       "\n",
       "    .dataframe thead th {\n",
       "        text-align: right;\n",
       "    }\n",
       "</style>\n",
       "<table border=\"1\" class=\"dataframe\">\n",
       "  <thead>\n",
       "    <tr style=\"text-align: right;\">\n",
       "      <th></th>\n",
       "      <th>count</th>\n",
       "      <th>unique</th>\n",
       "      <th>top</th>\n",
       "      <th>freq</th>\n",
       "    </tr>\n",
       "    <tr>\n",
       "      <th>FIRE_SIZE_CLASS</th>\n",
       "      <th></th>\n",
       "      <th></th>\n",
       "      <th></th>\n",
       "      <th></th>\n",
       "    </tr>\n",
       "  </thead>\n",
       "  <tbody>\n",
       "    <tr>\n",
       "      <th>A</th>\n",
       "      <td>191519.0</td>\n",
       "      <td>8311.0</td>\n",
       "      <td>0.0</td>\n",
       "      <td>24411.0</td>\n",
       "    </tr>\n",
       "    <tr>\n",
       "      <th>B</th>\n",
       "      <td>64616.0</td>\n",
       "      <td>4254.0</td>\n",
       "      <td>0.0</td>\n",
       "      <td>10092.0</td>\n",
       "    </tr>\n",
       "    <tr>\n",
       "      <th>C</th>\n",
       "      <td>30723.0</td>\n",
       "      <td>3869.0</td>\n",
       "      <td>0.0</td>\n",
       "      <td>2849.0</td>\n",
       "    </tr>\n",
       "    <tr>\n",
       "      <th>D</th>\n",
       "      <td>4968.0</td>\n",
       "      <td>2149.0</td>\n",
       "      <td>0.0</td>\n",
       "      <td>253.0</td>\n",
       "    </tr>\n",
       "    <tr>\n",
       "      <th>E</th>\n",
       "      <td>2893.0</td>\n",
       "      <td>1807.0</td>\n",
       "      <td>0.0</td>\n",
       "      <td>93.0</td>\n",
       "    </tr>\n",
       "    <tr>\n",
       "      <th>F</th>\n",
       "      <td>1908.0</td>\n",
       "      <td>1524.0</td>\n",
       "      <td>0.0</td>\n",
       "      <td>15.0</td>\n",
       "    </tr>\n",
       "    <tr>\n",
       "      <th>G</th>\n",
       "      <td>1035.0</td>\n",
       "      <td>991.0</td>\n",
       "      <td>12.0</td>\n",
       "      <td>4.0</td>\n",
       "    </tr>\n",
       "  </tbody>\n",
       "</table>\n",
       "</div>"
      ],
      "text/plain": [
       "                    count  unique   top     freq\n",
       "FIRE_SIZE_CLASS                                 \n",
       "A                191519.0  8311.0   0.0  24411.0\n",
       "B                 64616.0  4254.0   0.0  10092.0\n",
       "C                 30723.0  3869.0   0.0   2849.0\n",
       "D                  4968.0  2149.0   0.0    253.0\n",
       "E                  2893.0  1807.0   0.0     93.0\n",
       "F                  1908.0  1524.0   0.0     15.0\n",
       "G                  1035.0   991.0  12.0      4.0"
      ]
     },
     "execution_count": 37,
     "metadata": {},
     "output_type": "execute_result"
    }
   ],
   "source": [
    "## redfine A upper boundary to still keep it as the smallest fire catagory but make it more differentiated than B\n",
    "## use median duration for null time values\n",
    "df3 = df_fires.copy()\n",
    "df3['FIRE_SIZE_CLASS'] = df3['FIRE_SIZE_CLASS'].mask(df3['FIRE_SIZE'] <= 1, 'A')\n",
    "df3['FIRE_SIZE_CLASS'] = df3['FIRE_SIZE_CLASS'].mask((1 < df3['FIRE_SIZE']) & (df3['FIRE_SIZE'] <= 9.9), 'B')\n",
    "df3.groupby('FIRE_SIZE_CLASS')['DELTA_TIME_HOUR'].describe()"
   ]
  },
  {
   "cell_type": "code",
   "execution_count": 38,
   "id": "0964a1b3",
   "metadata": {},
   "outputs": [
    {
     "data": {
      "text/plain": [
       "<matplotlib.legend.Legend at 0x7f97f15ae460>"
      ]
     },
     "execution_count": 38,
     "metadata": {},
     "output_type": "execute_result"
    },
    {
     "data": {
      "image/png": "[encoded data removed]",
      "text/plain": [
       "<Figure size 432x288 with 1 Axes>"
      ]
     },
     "metadata": {
      "needs_background": "light"
     },
     "output_type": "display_data"
    }
   ],
   "source": [
    "plt.hist(df3.loc[(df3['DELTA_TIME_HOUR'] < 10) & (df3['FIRE_SIZE_CLASS']=='A')]['DELTA_TIME_HOUR'], bins=100, label='A', alpha=0.5)\n",
    "plt.hist(df3.loc[(df3['DELTA_TIME_HOUR'] < 10) & (df3['FIRE_SIZE_CLASS']=='B')]['DELTA_TIME_HOUR'], bins=100, label='B', alpha=0.5)\n",
    "plt.xlabel(\"Delta Time (hours)\")\n",
    "plt.ylabel(\"count\")\n",
    "plt.legend()"
   ]
  },
  {
   "cell_type": "code",
   "execution_count": 39,
   "id": "ef5e2b2b",
   "metadata": {},
   "outputs": [
    {
     "data": {
      "text/plain": [
       "<matplotlib.legend.Legend at 0x7f97ea866040>"
      ]
     },
     "execution_count": 39,
     "metadata": {},
     "output_type": "execute_result"
    },
    {
     "data": {
      "image/png": "[encoded data removed]",
      "text/plain": [
       "<Figure size 432x288 with 1 Axes>"
      ]
     },
     "metadata": {
      "needs_background": "light"
     },
     "output_type": "display_data"
    }
   ],
   "source": [
    "plt.hist(df3.loc[(df3['DELTA_TIME_HOUR'] < 10) & (df3['FIRE_SIZE_CLASS']=='A')]['DELTA_TIME_HOUR'], bins=100, label='A', alpha=0.5)\n",
    "plt.hist(df3.loc[(df3['DELTA_TIME_HOUR'] < 10) & (df3['FIRE_SIZE_CLASS']=='B')]['DELTA_TIME_HOUR'], bins=100, label='B', alpha=0.5)\n",
    "plt.hist(df3.loc[(df3['DELTA_TIME_HOUR'] < 10) & (df3['FIRE_SIZE_CLASS']=='C')]['DELTA_TIME_HOUR'], bins=100, label='C')\n",
    "plt.xlabel(\"Delta Time (hours)\")\n",
    "plt.ylabel(\"count\")\n",
    "plt.title(\"Distibution of fire size classes by fire duration\")\n",
    "\n",
    "plt.legend()"
   ]
  },
  {
   "cell_type": "code",
   "execution_count": 40,
   "id": "a0b0d782",
   "metadata": {},
   "outputs": [
    {
     "data": {
      "text/html": [
       "<div>\n",
       "<style scoped>\n",
       "    .dataframe tbody tr th:only-of-type {\n",
       "        vertical-align: middle;\n",
       "    }\n",
       "\n",
       "    .dataframe tbody tr th {\n",
       "        vertical-align: top;\n",
       "    }\n",
       "\n",
       "    .dataframe thead th {\n",
       "        text-align: right;\n",
       "    }\n",
       "</style>\n",
       "<table border=\"1\" class=\"dataframe\">\n",
       "  <thead>\n",
       "    <tr style=\"text-align: right;\">\n",
       "      <th></th>\n",
       "      <th>count</th>\n",
       "      <th>unique</th>\n",
       "      <th>top</th>\n",
       "      <th>freq</th>\n",
       "    </tr>\n",
       "    <tr>\n",
       "      <th>FIRE_SIZE_CLASS</th>\n",
       "      <th></th>\n",
       "      <th></th>\n",
       "      <th></th>\n",
       "      <th></th>\n",
       "    </tr>\n",
       "  </thead>\n",
       "  <tbody>\n",
       "    <tr>\n",
       "      <th>A</th>\n",
       "      <td>230101.0</td>\n",
       "      <td>8984.0</td>\n",
       "      <td>0.0</td>\n",
       "      <td>31518.0</td>\n",
       "    </tr>\n",
       "    <tr>\n",
       "      <th>B</th>\n",
       "      <td>26034.0</td>\n",
       "      <td>2736.0</td>\n",
       "      <td>0.0</td>\n",
       "      <td>2985.0</td>\n",
       "    </tr>\n",
       "    <tr>\n",
       "      <th>C</th>\n",
       "      <td>30723.0</td>\n",
       "      <td>3869.0</td>\n",
       "      <td>0.0</td>\n",
       "      <td>2849.0</td>\n",
       "    </tr>\n",
       "    <tr>\n",
       "      <th>D</th>\n",
       "      <td>4968.0</td>\n",
       "      <td>2149.0</td>\n",
       "      <td>0.0</td>\n",
       "      <td>253.0</td>\n",
       "    </tr>\n",
       "    <tr>\n",
       "      <th>E</th>\n",
       "      <td>2893.0</td>\n",
       "      <td>1807.0</td>\n",
       "      <td>0.0</td>\n",
       "      <td>93.0</td>\n",
       "    </tr>\n",
       "    <tr>\n",
       "      <th>F</th>\n",
       "      <td>1908.0</td>\n",
       "      <td>1524.0</td>\n",
       "      <td>0.0</td>\n",
       "      <td>15.0</td>\n",
       "    </tr>\n",
       "    <tr>\n",
       "      <th>G</th>\n",
       "      <td>1035.0</td>\n",
       "      <td>991.0</td>\n",
       "      <td>12.0</td>\n",
       "      <td>4.0</td>\n",
       "    </tr>\n",
       "  </tbody>\n",
       "</table>\n",
       "</div>"
      ],
      "text/plain": [
       "                    count  unique   top     freq\n",
       "FIRE_SIZE_CLASS                                 \n",
       "A                230101.0  8984.0   0.0  31518.0\n",
       "B                 26034.0  2736.0   0.0   2985.0\n",
       "C                 30723.0  3869.0   0.0   2849.0\n",
       "D                  4968.0  2149.0   0.0    253.0\n",
       "E                  2893.0  1807.0   0.0     93.0\n",
       "F                  1908.0  1524.0   0.0     15.0\n",
       "G                  1035.0   991.0  12.0      4.0"
      ]
     },
     "execution_count": 40,
     "metadata": {},
     "output_type": "execute_result"
    }
   ],
   "source": [
    "df3 = df_fires.copy()\n",
    "df3['FIRE_SIZE_CLASS'] = df3['FIRE_SIZE_CLASS'].mask(df3['FIRE_SIZE'] <= 3, 'A')\n",
    "df3.groupby('FIRE_SIZE_CLASS')['DELTA_TIME_HOUR'].describe()"
   ]
  },
  {
   "cell_type": "code",
   "execution_count": 41,
   "id": "cb56dc6f",
   "metadata": {},
   "outputs": [
    {
     "data": {
      "text/plain": [
       "<matplotlib.legend.Legend at 0x7f97fb52d2e0>"
      ]
     },
     "execution_count": 41,
     "metadata": {},
     "output_type": "execute_result"
    },
    {
     "data": {
      "image/png": "[encoded data removed]",
      "text/plain": [
       "<Figure size 432x288 with 1 Axes>"
      ]
     },
     "metadata": {
      "needs_background": "light"
     },
     "output_type": "display_data"
    }
   ],
   "source": [
    "plt.hist(df3.loc[(df3['DELTA_TIME_HOUR'] < 10) & (df3['FIRE_SIZE_CLASS']=='A')]['DELTA_TIME_HOUR'], bins=100, label='A', alpha=0.5)\n",
    "plt.hist(df3.loc[(df3['DELTA_TIME_HOUR'] < 10) & (df3['FIRE_SIZE_CLASS']=='B')]['DELTA_TIME_HOUR'], bins=100, label='B')\n",
    "plt.xlabel(\"Delta Time (hours)\")\n",
    "plt.ylabel(\"count\")\n",
    "plt.legend()"
   ]
  },
  {
   "cell_type": "code",
   "execution_count": 42,
   "id": "9e99bc9b",
   "metadata": {},
   "outputs": [
    {
     "data": {
      "text/plain": [
       "0"
      ]
     },
     "execution_count": 42,
     "metadata": {},
     "output_type": "execute_result"
    }
   ],
   "source": [
    "## fill time duration with median of new classes\n",
    "df_fires['FIRE_SIZE_CLASS'] = df_fires['FIRE_SIZE_CLASS'].mask(df_fires['FIRE_SIZE'] <= 1, 'A')\n",
    "df_fires['DELTA_TIME_HOUR'] = df_fires[['FIRE_SIZE_CLASS', 'DELTA_TIME_HOUR']].groupby('FIRE_SIZE_CLASS').transform(lambda x: x.fillna(x.median()))\n",
    "df_fires['DELTA_TIME_HOUR'].isna().sum()"
   ]
  },
  {
   "cell_type": "code",
   "execution_count": 43,
   "id": "bb22e42a",
   "metadata": {},
   "outputs": [],
   "source": [
    "states_to_regions = {\n",
    "        'AK': 'O',\n",
    "        'AL': 'S',\n",
    "        'AR': 'S',\n",
    "        'AS': 'O',\n",
    "        'AZ': 'W',\n",
    "        'CA': 'W',\n",
    "        'CO': 'W',\n",
    "        'CT': 'N',\n",
    "        'DC': 'N',\n",
    "        'DE': 'N',\n",
    "        'FL': 'S',\n",
    "        'GA': 'S',\n",
    "        'GU': 'O',\n",
    "        'HI': 'O',\n",
    "        'IA': 'M',\n",
    "        'ID': 'W',\n",
    "        'IL': 'M',\n",
    "        'IN': 'M',\n",
    "        'KS': 'M',\n",
    "        'KY': 'S',\n",
    "        'LA': 'S',\n",
    "        'MA': 'N',\n",
    "        'MD': 'N',\n",
    "        'ME': 'N',\n",
    "        'MI': 'W',\n",
    "        'MN': 'M',\n",
    "        'MO': 'M',\n",
    "        'MP': 'O',\n",
    "        'MS': 'S',\n",
    "        'MT': 'W',\n",
    "        'NA': 'O',\n",
    "        'NC': 'S',\n",
    "        'ND': 'M',\n",
    "        'NE': 'W',\n",
    "        'NH': 'N',\n",
    "        'NJ': 'N',\n",
    "        'NM': 'W',\n",
    "        'NV': 'W',\n",
    "        'NY': 'N',\n",
    "        'OH': 'M',\n",
    "        'OK': 'S',\n",
    "        'OR': 'W',\n",
    "        'PA': 'N',\n",
    "        'PR': 'O',\n",
    "        'RI': 'N',\n",
    "        'SC': 'S',\n",
    "        'SD': 'M',\n",
    "        'TN': 'S',\n",
    "        'TX': 'S',\n",
    "        'UT': 'W',\n",
    "        'VA': 'S',\n",
    "        'VI': 'O',\n",
    "        'VT': 'N',\n",
    "        'WA': 'W',\n",
    "        'WI': 'M',\n",
    "        'WV': 'S',\n",
    "        'WY': 'W'\n",
    "}"
   ]
  },
  {
   "cell_type": "code",
   "execution_count": 44,
   "id": "79af4a16",
   "metadata": {},
   "outputs": [
    {
     "name": "stdout",
     "output_type": "stream",
     "text": [
      "52\n"
     ]
    }
   ],
   "source": [
    "lst=[]\n",
    "for state in states_to_regions:\n",
    "    if state not in states:\n",
    "        lst.append(state)\n",
    "for state in lst:\n",
    "    del states_to_regions[state]\n",
    "print(len(states_to_regions))"
   ]
  },
  {
   "cell_type": "code",
   "execution_count": 45,
   "id": "06c7bf14",
   "metadata": {},
   "outputs": [],
   "source": [
    "fire_prone_state = {\n",
    "        'AK': 1,\n",
    "        'AL': 2,\n",
    "        'AR': 2,\n",
    "        'AZ': 5,\n",
    "        'CA': 5,\n",
    "        'CO': 3,\n",
    "        'CT': 1,\n",
    "        'DC': 1,\n",
    "        'DE': 2,\n",
    "        'FL': 5,\n",
    "        'GA': 2,\n",
    "        'HI': 1,\n",
    "        'IA': 2,\n",
    "        'ID': 5,\n",
    "        'IL': 1,\n",
    "        'IN': 1,\n",
    "        'KS': 3,\n",
    "        'KY': 3,\n",
    "        'LA': 2,\n",
    "        'MA': 2,\n",
    "        'MD': 2,\n",
    "        'ME': 1,\n",
    "        'MI': 2,\n",
    "        'MN': 3,\n",
    "        'MO': 2,\n",
    "        'MS': 2,\n",
    "        'MT': 3,\n",
    "        'NC': 2,\n",
    "        'ND': 3,\n",
    "        'NE': 3,\n",
    "        'NH': 1,\n",
    "        'NJ': 3,\n",
    "        'NM': 5,\n",
    "        'NV': 5,\n",
    "        'NY': 1,\n",
    "        'OH': 1,\n",
    "        'OK': 4,\n",
    "        'OR': 4,\n",
    "        'PA': 1,\n",
    "        'PR': 1,\n",
    "        'RI': 1,\n",
    "        'SC': 2,\n",
    "        'SD': 4,\n",
    "        'TN': 1,\n",
    "        'TX': 4,\n",
    "        'UT': 4,\n",
    "        'VA': 3,\n",
    "        'VT': 1,\n",
    "        'WA': 4,\n",
    "        'WI': 2,\n",
    "        'WV': 3,\n",
    "        'WY': 4\n",
    "}"
   ]
  },
  {
   "cell_type": "code",
   "execution_count": 46,
   "id": "63f86b0b",
   "metadata": {},
   "outputs": [],
   "source": [
    "## encode all string features\n",
    "df_fires[\"REGION\"] = df_fires[\"STATE\"].replace(states, list(states_to_regions.values()))\n",
    "df_fires[\"FREQUENCIES\"] = df_fires.groupby(\"STATE\")[\"STATE\"].transform('size')\n",
    "df_fires[\"FIRE_PRONE\"] = df_fires[\"STATE\"].replace(states, list(fire_prone_state.values()))\n",
    "\n",
    "fire_size_class_encode = {\n",
    "    'A':0,\n",
    "    'B':1,\n",
    "    'C':2,\n",
    "    'D':3,\n",
    "    'E':4,\n",
    "    'F':5,\n",
    "    'G':6\n",
    "}\n",
    "\n",
    "## encode as number of entries in a region - is the region more prone to fires\n",
    "region_encoding = dict(df_fires.groupby(['REGION']).size())\n",
    "\n",
    "df_fires.replace({\"REGION\":region_encoding, \"FIRE_SIZE_CLASS\":fire_size_class_encode}, inplace=True)"
   ]
  },
  {
   "cell_type": "code",
   "execution_count": 47,
   "id": "ec189679",
   "metadata": {},
   "outputs": [
    {
     "data": {
      "text/html": [
       "<div>\n",
       "<style scoped>\n",
       "    .dataframe tbody tr th:only-of-type {\n",
       "        vertical-align: middle;\n",
       "    }\n",
       "\n",
       "    .dataframe tbody tr th {\n",
       "        vertical-align: top;\n",
       "    }\n",
       "\n",
       "    .dataframe thead th {\n",
       "        text-align: right;\n",
       "    }\n",
       "</style>\n",
       "<table border=\"1\" class=\"dataframe\">\n",
       "  <thead>\n",
       "    <tr style=\"text-align: right;\">\n",
       "      <th></th>\n",
       "      <th>FIRE_SIZE</th>\n",
       "      <th>FIRE_SIZE_CLASS</th>\n",
       "      <th>LATITUDE</th>\n",
       "      <th>LONGITUDE</th>\n",
       "      <th>REGION</th>\n",
       "      <th>FREQUENCIES</th>\n",
       "      <th>FIRE_PRONE</th>\n",
       "    </tr>\n",
       "  </thead>\n",
       "  <tbody>\n",
       "    <tr>\n",
       "      <th>0</th>\n",
       "      <td>2.0</td>\n",
       "      <td>1</td>\n",
       "      <td>47.600845</td>\n",
       "      <td>-116.306789</td>\n",
       "      <td>194779</td>\n",
       "      <td>12180</td>\n",
       "      <td>5</td>\n",
       "    </tr>\n",
       "    <tr>\n",
       "      <th>1</th>\n",
       "      <td>0.1</td>\n",
       "      <td>0</td>\n",
       "      <td>48.403300</td>\n",
       "      <td>-108.289600</td>\n",
       "      <td>194779</td>\n",
       "      <td>13613</td>\n",
       "      <td>3</td>\n",
       "    </tr>\n",
       "    <tr>\n",
       "      <th>2</th>\n",
       "      <td>1.5</td>\n",
       "      <td>1</td>\n",
       "      <td>40.668460</td>\n",
       "      <td>-99.089130</td>\n",
       "      <td>194779</td>\n",
       "      <td>2704</td>\n",
       "      <td>3</td>\n",
       "    </tr>\n",
       "    <tr>\n",
       "      <th>3</th>\n",
       "      <td>2.0</td>\n",
       "      <td>1</td>\n",
       "      <td>39.000000</td>\n",
       "      <td>-78.269200</td>\n",
       "      <td>194779</td>\n",
       "      <td>7296</td>\n",
       "      <td>4</td>\n",
       "    </tr>\n",
       "    <tr>\n",
       "      <th>4</th>\n",
       "      <td>5.0</td>\n",
       "      <td>1</td>\n",
       "      <td>30.993300</td>\n",
       "      <td>-89.863900</td>\n",
       "      <td>288542</td>\n",
       "      <td>9808</td>\n",
       "      <td>2</td>\n",
       "    </tr>\n",
       "  </tbody>\n",
       "</table>\n",
       "</div>"
      ],
      "text/plain": [
       "   FIRE_SIZE  FIRE_SIZE_CLASS   LATITUDE   LONGITUDE  REGION  FREQUENCIES  \\\n",
       "0        2.0                1  47.600845 -116.306789  194779        12180   \n",
       "1        0.1                0  48.403300 -108.289600  194779        13613   \n",
       "2        1.5                1  40.668460  -99.089130  194779         2704   \n",
       "3        2.0                1  39.000000  -78.269200  194779         7296   \n",
       "4        5.0                1  30.993300  -89.863900  288542         9808   \n",
       "\n",
       "   FIRE_PRONE  \n",
       "0           5  \n",
       "1           3  \n",
       "2           3  \n",
       "3           4  \n",
       "4           2  "
      ]
     },
     "execution_count": 47,
     "metadata": {},
     "output_type": "execute_result"
    }
   ],
   "source": [
    "df_fires[['FIRE_SIZE', 'FIRE_SIZE_CLASS', 'LATITUDE', 'LONGITUDE', \n",
    "                'REGION', 'FREQUENCIES','FIRE_PRONE']].head()"
   ]
  },
  {
   "cell_type": "code",
   "execution_count": 48,
   "id": "fbf3d83f",
   "metadata": {},
   "outputs": [
    {
     "data": {
      "text/plain": [
       "SOURCE_SYSTEM_TYPE               0\n",
       "SOURCE_SYSTEM                    0\n",
       "NWCG_REPORTING_AGENCY            0\n",
       "NWCG_REPORTING_UNIT_ID           0\n",
       "NWCG_REPORTING_UNIT_NAME         0\n",
       "SOURCE_REPORTING_UNIT            0\n",
       "COMPLEX_NAME                625068\n",
       "FIRE_YEAR                        0\n",
       "DISCOVERY_DATE                   0\n",
       "DISCOVERY_DOY                    0\n",
       "DISCOVERY_TIME              294076\n",
       "STAT_CAUSE_CODE                  0\n",
       "STAT_CAUSE_DESCR                 0\n",
       "CONT_DATE                   297088\n",
       "CONT_DOY                    297088\n",
       "CONT_TIME                   323724\n",
       "FIRE_SIZE                        0\n",
       "FIRE_SIZE_CLASS                  0\n",
       "LATITUDE                         0\n",
       "LONGITUDE                        0\n",
       "OWNER_CODE                       0\n",
       "STATE                            0\n",
       "COUNTY                           0\n",
       "FULL_DISCOVERY_DATE         294076\n",
       "FULL_CONT_DATE              323860\n",
       "DELTA_TIME                  329153\n",
       "DELTA_TIME_HOUR                  0\n",
       "DAY_OF_WEEK                      0\n",
       "MONTH                            0\n",
       "DISCOVERY_TIME_FRM          294076\n",
       "CONT_TIME_FRM               323860\n",
       "REGION                           0\n",
       "FREQUENCIES                      0\n",
       "FIRE_PRONE                       0\n",
       "dtype: int64"
      ]
     },
     "execution_count": 48,
     "metadata": {},
     "output_type": "execute_result"
    }
   ],
   "source": [
    "df_fires.isna().sum()"
   ]
  },
  {
   "cell_type": "markdown",
   "id": "42fb89d2",
   "metadata": {},
   "source": [
    "## Time Feature engineering continued - filling missing values"
   ]
  },
  {
   "cell_type": "code",
   "execution_count": 49,
   "id": "d34efd15",
   "metadata": {},
   "outputs": [
    {
     "data": {
      "text/html": [
       "<div>\n",
       "<style scoped>\n",
       "    .dataframe tbody tr th:only-of-type {\n",
       "        vertical-align: middle;\n",
       "    }\n",
       "\n",
       "    .dataframe tbody tr th {\n",
       "        vertical-align: top;\n",
       "    }\n",
       "\n",
       "    .dataframe thead th {\n",
       "        text-align: right;\n",
       "    }\n",
       "</style>\n",
       "<table border=\"1\" class=\"dataframe\">\n",
       "  <thead>\n",
       "    <tr style=\"text-align: right;\">\n",
       "      <th></th>\n",
       "      <th>FIRE_YEAR</th>\n",
       "      <th>DISCOVERY_DATE</th>\n",
       "      <th>DISCOVERY_DOY</th>\n",
       "      <th>DISCOVERY_TIME</th>\n",
       "      <th>STAT_CAUSE_CODE</th>\n",
       "      <th>CONT_DATE</th>\n",
       "      <th>CONT_DOY</th>\n",
       "      <th>CONT_TIME</th>\n",
       "      <th>FIRE_SIZE</th>\n",
       "      <th>FIRE_SIZE_CLASS</th>\n",
       "      <th>...</th>\n",
       "      <th>FULL_CONT_DATE</th>\n",
       "      <th>DELTA_TIME</th>\n",
       "      <th>DELTA_TIME_HOUR</th>\n",
       "      <th>DAY_OF_WEEK</th>\n",
       "      <th>MONTH</th>\n",
       "      <th>DISCOVERY_TIME_FRM</th>\n",
       "      <th>CONT_TIME_FRM</th>\n",
       "      <th>REGION</th>\n",
       "      <th>FREQUENCIES</th>\n",
       "      <th>FIRE_PRONE</th>\n",
       "    </tr>\n",
       "  </thead>\n",
       "  <tbody>\n",
       "    <tr>\n",
       "      <th>0</th>\n",
       "      <td>1998</td>\n",
       "      <td>1998-09-17</td>\n",
       "      <td>260</td>\n",
       "      <td>None</td>\n",
       "      <td>13.0</td>\n",
       "      <td>NaT</td>\n",
       "      <td>NaN</td>\n",
       "      <td>None</td>\n",
       "      <td>2.0</td>\n",
       "      <td>1</td>\n",
       "      <td>...</td>\n",
       "      <td>NaT</td>\n",
       "      <td>None</td>\n",
       "      <td>1.416667</td>\n",
       "      <td>3</td>\n",
       "      <td>9</td>\n",
       "      <td>NaN</td>\n",
       "      <td>NaN</td>\n",
       "      <td>194779</td>\n",
       "      <td>12180</td>\n",
       "      <td>5</td>\n",
       "    </tr>\n",
       "    <tr>\n",
       "      <th>1</th>\n",
       "      <td>2011</td>\n",
       "      <td>2011-08-22</td>\n",
       "      <td>234</td>\n",
       "      <td>1645</td>\n",
       "      <td>9.0</td>\n",
       "      <td>2011-08-22</td>\n",
       "      <td>234.0</td>\n",
       "      <td>1800</td>\n",
       "      <td>0.1</td>\n",
       "      <td>0</td>\n",
       "      <td>...</td>\n",
       "      <td>2011-08-22 18:00:00</td>\n",
       "      <td>0 days 01:15:00</td>\n",
       "      <td>1.250000</td>\n",
       "      <td>0</td>\n",
       "      <td>8</td>\n",
       "      <td>16.750000</td>\n",
       "      <td>18.000000</td>\n",
       "      <td>194779</td>\n",
       "      <td>13613</td>\n",
       "      <td>3</td>\n",
       "    </tr>\n",
       "    <tr>\n",
       "      <th>2</th>\n",
       "      <td>2012</td>\n",
       "      <td>2012-05-19</td>\n",
       "      <td>140</td>\n",
       "      <td>1547</td>\n",
       "      <td>9.0</td>\n",
       "      <td>2012-05-19</td>\n",
       "      <td>140.0</td>\n",
       "      <td>1630</td>\n",
       "      <td>1.5</td>\n",
       "      <td>1</td>\n",
       "      <td>...</td>\n",
       "      <td>2012-05-19 16:30:00</td>\n",
       "      <td>0 days 00:43:00</td>\n",
       "      <td>0.716667</td>\n",
       "      <td>5</td>\n",
       "      <td>5</td>\n",
       "      <td>15.783333</td>\n",
       "      <td>16.500000</td>\n",
       "      <td>194779</td>\n",
       "      <td>2704</td>\n",
       "      <td>3</td>\n",
       "    </tr>\n",
       "    <tr>\n",
       "      <th>3</th>\n",
       "      <td>2002</td>\n",
       "      <td>2002-01-04</td>\n",
       "      <td>4</td>\n",
       "      <td>None</td>\n",
       "      <td>9.0</td>\n",
       "      <td>NaT</td>\n",
       "      <td>NaN</td>\n",
       "      <td>None</td>\n",
       "      <td>2.0</td>\n",
       "      <td>1</td>\n",
       "      <td>...</td>\n",
       "      <td>NaT</td>\n",
       "      <td>None</td>\n",
       "      <td>1.416667</td>\n",
       "      <td>4</td>\n",
       "      <td>1</td>\n",
       "      <td>NaN</td>\n",
       "      <td>NaN</td>\n",
       "      <td>194779</td>\n",
       "      <td>7296</td>\n",
       "      <td>4</td>\n",
       "    </tr>\n",
       "    <tr>\n",
       "      <th>4</th>\n",
       "      <td>2002</td>\n",
       "      <td>2002-05-16</td>\n",
       "      <td>136</td>\n",
       "      <td>None</td>\n",
       "      <td>7.0</td>\n",
       "      <td>NaT</td>\n",
       "      <td>NaN</td>\n",
       "      <td>None</td>\n",
       "      <td>5.0</td>\n",
       "      <td>1</td>\n",
       "      <td>...</td>\n",
       "      <td>NaT</td>\n",
       "      <td>None</td>\n",
       "      <td>1.416667</td>\n",
       "      <td>3</td>\n",
       "      <td>5</td>\n",
       "      <td>NaN</td>\n",
       "      <td>NaN</td>\n",
       "      <td>288542</td>\n",
       "      <td>9808</td>\n",
       "      <td>2</td>\n",
       "    </tr>\n",
       "    <tr>\n",
       "      <th>5</th>\n",
       "      <td>2008</td>\n",
       "      <td>2008-04-18</td>\n",
       "      <td>109</td>\n",
       "      <td>2045</td>\n",
       "      <td>5.0</td>\n",
       "      <td>2008-04-18</td>\n",
       "      <td>109.0</td>\n",
       "      <td>2045</td>\n",
       "      <td>3.0</td>\n",
       "      <td>1</td>\n",
       "      <td>...</td>\n",
       "      <td>2008-04-18 20:45:00</td>\n",
       "      <td>0 days 00:00:00</td>\n",
       "      <td>0.000000</td>\n",
       "      <td>4</td>\n",
       "      <td>4</td>\n",
       "      <td>20.750000</td>\n",
       "      <td>20.750000</td>\n",
       "      <td>288542</td>\n",
       "      <td>9006</td>\n",
       "      <td>3</td>\n",
       "    </tr>\n",
       "    <tr>\n",
       "      <th>6</th>\n",
       "      <td>1999</td>\n",
       "      <td>1999-11-20</td>\n",
       "      <td>324</td>\n",
       "      <td>1643</td>\n",
       "      <td>3.0</td>\n",
       "      <td>NaT</td>\n",
       "      <td>NaN</td>\n",
       "      <td>None</td>\n",
       "      <td>10.0</td>\n",
       "      <td>2</td>\n",
       "      <td>...</td>\n",
       "      <td>NaT</td>\n",
       "      <td>None</td>\n",
       "      <td>3.000000</td>\n",
       "      <td>5</td>\n",
       "      <td>11</td>\n",
       "      <td>16.716667</td>\n",
       "      <td>NaN</td>\n",
       "      <td>50283</td>\n",
       "      <td>5981</td>\n",
       "      <td>2</td>\n",
       "    </tr>\n",
       "    <tr>\n",
       "      <th>7</th>\n",
       "      <td>2001</td>\n",
       "      <td>2001-05-03</td>\n",
       "      <td>123</td>\n",
       "      <td>1740</td>\n",
       "      <td>7.0</td>\n",
       "      <td>NaT</td>\n",
       "      <td>NaN</td>\n",
       "      <td>None</td>\n",
       "      <td>10.0</td>\n",
       "      <td>2</td>\n",
       "      <td>...</td>\n",
       "      <td>NaT</td>\n",
       "      <td>None</td>\n",
       "      <td>3.000000</td>\n",
       "      <td>3</td>\n",
       "      <td>5</td>\n",
       "      <td>17.666667</td>\n",
       "      <td>NaN</td>\n",
       "      <td>288542</td>\n",
       "      <td>26235</td>\n",
       "      <td>2</td>\n",
       "    </tr>\n",
       "    <tr>\n",
       "      <th>8</th>\n",
       "      <td>1996</td>\n",
       "      <td>1996-10-19</td>\n",
       "      <td>293</td>\n",
       "      <td>None</td>\n",
       "      <td>4.0</td>\n",
       "      <td>NaT</td>\n",
       "      <td>NaN</td>\n",
       "      <td>None</td>\n",
       "      <td>70.0</td>\n",
       "      <td>2</td>\n",
       "      <td>...</td>\n",
       "      <td>NaT</td>\n",
       "      <td>None</td>\n",
       "      <td>3.000000</td>\n",
       "      <td>5</td>\n",
       "      <td>10</td>\n",
       "      <td>NaN</td>\n",
       "      <td>NaN</td>\n",
       "      <td>50283</td>\n",
       "      <td>14980</td>\n",
       "      <td>3</td>\n",
       "    </tr>\n",
       "    <tr>\n",
       "      <th>9</th>\n",
       "      <td>2005</td>\n",
       "      <td>2005-07-29</td>\n",
       "      <td>210</td>\n",
       "      <td>1600</td>\n",
       "      <td>4.0</td>\n",
       "      <td>2005-07-30</td>\n",
       "      <td>211.0</td>\n",
       "      <td>1725</td>\n",
       "      <td>0.1</td>\n",
       "      <td>0</td>\n",
       "      <td>...</td>\n",
       "      <td>2005-07-30 17:25:00</td>\n",
       "      <td>1 days 01:25:00</td>\n",
       "      <td>25.416667</td>\n",
       "      <td>4</td>\n",
       "      <td>7</td>\n",
       "      <td>16.000000</td>\n",
       "      <td>17.416667</td>\n",
       "      <td>50283</td>\n",
       "      <td>14980</td>\n",
       "      <td>3</td>\n",
       "    </tr>\n",
       "  </tbody>\n",
       "</table>\n",
       "<p>10 rows × 24 columns</p>\n",
       "</div>"
      ],
      "text/plain": [
       "   FIRE_YEAR DISCOVERY_DATE  DISCOVERY_DOY DISCOVERY_TIME  STAT_CAUSE_CODE  \\\n",
       "0       1998     1998-09-17            260           None             13.0   \n",
       "1       2011     2011-08-22            234           1645              9.0   \n",
       "2       2012     2012-05-19            140           1547              9.0   \n",
       "3       2002     2002-01-04              4           None              9.0   \n",
       "4       2002     2002-05-16            136           None              7.0   \n",
       "5       2008     2008-04-18            109           2045              5.0   \n",
       "6       1999     1999-11-20            324           1643              3.0   \n",
       "7       2001     2001-05-03            123           1740              7.0   \n",
       "8       1996     1996-10-19            293           None              4.0   \n",
       "9       2005     2005-07-29            210           1600              4.0   \n",
       "\n",
       "   CONT_DATE  CONT_DOY CONT_TIME  FIRE_SIZE  FIRE_SIZE_CLASS  ...  \\\n",
       "0        NaT       NaN      None        2.0                1  ...   \n",
       "1 2011-08-22     234.0      1800        0.1                0  ...   \n",
       "2 2012-05-19     140.0      1630        1.5                1  ...   \n",
       "3        NaT       NaN      None        2.0                1  ...   \n",
       "4        NaT       NaN      None        5.0                1  ...   \n",
       "5 2008-04-18     109.0      2045        3.0                1  ...   \n",
       "6        NaT       NaN      None       10.0                2  ...   \n",
       "7        NaT       NaN      None       10.0                2  ...   \n",
       "8        NaT       NaN      None       70.0                2  ...   \n",
       "9 2005-07-30     211.0      1725        0.1                0  ...   \n",
       "\n",
       "       FULL_CONT_DATE       DELTA_TIME DELTA_TIME_HOUR DAY_OF_WEEK MONTH  \\\n",
       "0                 NaT             None        1.416667           3     9   \n",
       "1 2011-08-22 18:00:00  0 days 01:15:00        1.250000           0     8   \n",
       "2 2012-05-19 16:30:00  0 days 00:43:00        0.716667           5     5   \n",
       "3                 NaT             None        1.416667           4     1   \n",
       "4                 NaT             None        1.416667           3     5   \n",
       "5 2008-04-18 20:45:00  0 days 00:00:00        0.000000           4     4   \n",
       "6                 NaT             None        3.000000           5    11   \n",
       "7                 NaT             None        3.000000           3     5   \n",
       "8                 NaT             None        3.000000           5    10   \n",
       "9 2005-07-30 17:25:00  1 days 01:25:00       25.416667           4     7   \n",
       "\n",
       "  DISCOVERY_TIME_FRM  CONT_TIME_FRM  REGION  FREQUENCIES  FIRE_PRONE  \n",
       "0                NaN            NaN  194779        12180           5  \n",
       "1          16.750000      18.000000  194779        13613           3  \n",
       "2          15.783333      16.500000  194779         2704           3  \n",
       "3                NaN            NaN  194779         7296           4  \n",
       "4                NaN            NaN  288542         9808           2  \n",
       "5          20.750000      20.750000  288542         9006           3  \n",
       "6          16.716667            NaN   50283         5981           2  \n",
       "7          17.666667            NaN  288542        26235           2  \n",
       "8                NaN            NaN   50283        14980           3  \n",
       "9          16.000000      17.416667   50283        14980           3  \n",
       "\n",
       "[10 rows x 24 columns]"
      ]
     },
     "execution_count": 49,
     "metadata": {},
     "output_type": "execute_result"
    }
   ],
   "source": [
    "df_fires = df_fires.drop(columns=['SOURCE_SYSTEM_TYPE', 'SOURCE_SYSTEM', 'NWCG_REPORTING_AGENCY',\n",
    "       'NWCG_REPORTING_UNIT_ID', 'NWCG_REPORTING_UNIT_NAME',\n",
    "       'SOURCE_REPORTING_UNIT', 'COMPLEX_NAME', 'OWNER_CODE', 'STAT_CAUSE_DESCR', 'COUNTY'])\n",
    "df_fires.head(10)"
   ]
  },
  {
   "cell_type": "code",
   "execution_count": 50,
   "id": "8cd54f63",
   "metadata": {
    "scrolled": true
   },
   "outputs": [
    {
     "data": {
      "text/html": [
       "<div>\n",
       "<style scoped>\n",
       "    .dataframe tbody tr th:only-of-type {\n",
       "        vertical-align: middle;\n",
       "    }\n",
       "\n",
       "    .dataframe tbody tr th {\n",
       "        vertical-align: top;\n",
       "    }\n",
       "\n",
       "    .dataframe thead th {\n",
       "        text-align: right;\n",
       "    }\n",
       "</style>\n",
       "<table border=\"1\" class=\"dataframe\">\n",
       "  <thead>\n",
       "    <tr style=\"text-align: right;\">\n",
       "      <th></th>\n",
       "      <th>FIRE_YEAR</th>\n",
       "      <th>REGION</th>\n",
       "      <th>FIRE_SIZE_CLASS</th>\n",
       "      <th>FIRE_PRONE</th>\n",
       "      <th>FREQUENCIES</th>\n",
       "      <th>DISCOVERY_TIME_FRM</th>\n",
       "    </tr>\n",
       "  </thead>\n",
       "  <tbody>\n",
       "    <tr>\n",
       "      <th>0</th>\n",
       "      <td>1992</td>\n",
       "      <td>7724</td>\n",
       "      <td>0</td>\n",
       "      <td>1</td>\n",
       "      <td>3323</td>\n",
       "      <td>12.461667</td>\n",
       "    </tr>\n",
       "    <tr>\n",
       "      <th>1</th>\n",
       "      <td>1992</td>\n",
       "      <td>7724</td>\n",
       "      <td>0</td>\n",
       "      <td>1</td>\n",
       "      <td>4226</td>\n",
       "      <td>15.461765</td>\n",
       "    </tr>\n",
       "    <tr>\n",
       "      <th>2</th>\n",
       "      <td>1992</td>\n",
       "      <td>7724</td>\n",
       "      <td>1</td>\n",
       "      <td>1</td>\n",
       "      <td>3323</td>\n",
       "      <td>0.000000</td>\n",
       "    </tr>\n",
       "    <tr>\n",
       "      <th>3</th>\n",
       "      <td>1992</td>\n",
       "      <td>7724</td>\n",
       "      <td>1</td>\n",
       "      <td>1</td>\n",
       "      <td>4226</td>\n",
       "      <td>17.839286</td>\n",
       "    </tr>\n",
       "    <tr>\n",
       "      <th>4</th>\n",
       "      <td>1992</td>\n",
       "      <td>7724</td>\n",
       "      <td>2</td>\n",
       "      <td>1</td>\n",
       "      <td>3323</td>\n",
       "      <td>NaN</td>\n",
       "    </tr>\n",
       "  </tbody>\n",
       "</table>\n",
       "</div>"
      ],
      "text/plain": [
       "   FIRE_YEAR  REGION  FIRE_SIZE_CLASS  FIRE_PRONE  FREQUENCIES  \\\n",
       "0       1992    7724                0           1         3323   \n",
       "1       1992    7724                0           1         4226   \n",
       "2       1992    7724                1           1         3323   \n",
       "3       1992    7724                1           1         4226   \n",
       "4       1992    7724                2           1         3323   \n",
       "\n",
       "   DISCOVERY_TIME_FRM  \n",
       "0           12.461667  \n",
       "1           15.461765  \n",
       "2            0.000000  \n",
       "3           17.839286  \n",
       "4                 NaN  "
      ]
     },
     "execution_count": 50,
     "metadata": {},
     "output_type": "execute_result"
    }
   ],
   "source": [
    "### in this year, for fires of this size class in areas with this fire prone level, the avg discovery time is\n",
    "\n",
    "disc_time_per_year_region_class_prone = df_fires.groupby(['FIRE_YEAR', 'REGION', 'FIRE_SIZE_CLASS', 'FIRE_PRONE', 'FREQUENCIES'])['DISCOVERY_TIME_FRM'].mean().reset_index()\n",
    "disc_time_per_year_region_class_prone.head(5)"
   ]
  },
  {
   "cell_type": "code",
   "execution_count": 51,
   "id": "91d14ccf",
   "metadata": {},
   "outputs": [
    {
     "data": {
      "text/html": [
       "<div>\n",
       "<style scoped>\n",
       "    .dataframe tbody tr th:only-of-type {\n",
       "        vertical-align: middle;\n",
       "    }\n",
       "\n",
       "    .dataframe tbody tr th {\n",
       "        vertical-align: top;\n",
       "    }\n",
       "\n",
       "    .dataframe thead th {\n",
       "        text-align: right;\n",
       "    }\n",
       "</style>\n",
       "<table border=\"1\" class=\"dataframe\">\n",
       "  <thead>\n",
       "    <tr style=\"text-align: right;\">\n",
       "      <th></th>\n",
       "      <th>FIRE_YEAR</th>\n",
       "      <th>REGION</th>\n",
       "      <th>FIRE_SIZE_CLASS</th>\n",
       "      <th>FIRE_PRONE</th>\n",
       "      <th>FREQUENCIES</th>\n",
       "      <th>DISCOVERY_TIME_FRM</th>\n",
       "    </tr>\n",
       "  </thead>\n",
       "  <tbody>\n",
       "    <tr>\n",
       "      <th>4</th>\n",
       "      <td>1992</td>\n",
       "      <td>7724</td>\n",
       "      <td>2</td>\n",
       "      <td>1</td>\n",
       "      <td>3323</td>\n",
       "      <td>NaN</td>\n",
       "    </tr>\n",
       "    <tr>\n",
       "      <th>6</th>\n",
       "      <td>1992</td>\n",
       "      <td>7724</td>\n",
       "      <td>3</td>\n",
       "      <td>1</td>\n",
       "      <td>3323</td>\n",
       "      <td>NaN</td>\n",
       "    </tr>\n",
       "    <tr>\n",
       "      <th>49</th>\n",
       "      <td>1992</td>\n",
       "      <td>50283</td>\n",
       "      <td>4</td>\n",
       "      <td>3</td>\n",
       "      <td>14980</td>\n",
       "      <td>NaN</td>\n",
       "    </tr>\n",
       "    <tr>\n",
       "      <th>51</th>\n",
       "      <td>1992</td>\n",
       "      <td>50283</td>\n",
       "      <td>5</td>\n",
       "      <td>3</td>\n",
       "      <td>14980</td>\n",
       "      <td>NaN</td>\n",
       "    </tr>\n",
       "    <tr>\n",
       "      <th>53</th>\n",
       "      <td>1992</td>\n",
       "      <td>85487</td>\n",
       "      <td>0</td>\n",
       "      <td>1</td>\n",
       "      <td>804</td>\n",
       "      <td>NaN</td>\n",
       "    </tr>\n",
       "    <tr>\n",
       "      <th>...</th>\n",
       "      <td>...</td>\n",
       "      <td>...</td>\n",
       "      <td>...</td>\n",
       "      <td>...</td>\n",
       "      <td>...</td>\n",
       "      <td>...</td>\n",
       "    </tr>\n",
       "    <tr>\n",
       "      <th>5743</th>\n",
       "      <td>2015</td>\n",
       "      <td>288542</td>\n",
       "      <td>0</td>\n",
       "      <td>3</td>\n",
       "      <td>150</td>\n",
       "      <td>NaN</td>\n",
       "    </tr>\n",
       "    <tr>\n",
       "      <th>5757</th>\n",
       "      <td>2015</td>\n",
       "      <td>288542</td>\n",
       "      <td>1</td>\n",
       "      <td>3</td>\n",
       "      <td>150</td>\n",
       "      <td>NaN</td>\n",
       "    </tr>\n",
       "    <tr>\n",
       "      <th>5771</th>\n",
       "      <td>2015</td>\n",
       "      <td>288542</td>\n",
       "      <td>2</td>\n",
       "      <td>3</td>\n",
       "      <td>150</td>\n",
       "      <td>NaN</td>\n",
       "    </tr>\n",
       "    <tr>\n",
       "      <th>5781</th>\n",
       "      <td>2015</td>\n",
       "      <td>288542</td>\n",
       "      <td>3</td>\n",
       "      <td>2</td>\n",
       "      <td>22352</td>\n",
       "      <td>NaN</td>\n",
       "    </tr>\n",
       "    <tr>\n",
       "      <th>5810</th>\n",
       "      <td>2015</td>\n",
       "      <td>288542</td>\n",
       "      <td>6</td>\n",
       "      <td>2</td>\n",
       "      <td>10284</td>\n",
       "      <td>NaN</td>\n",
       "    </tr>\n",
       "  </tbody>\n",
       "</table>\n",
       "<p>535 rows × 6 columns</p>\n",
       "</div>"
      ],
      "text/plain": [
       "      FIRE_YEAR  REGION  FIRE_SIZE_CLASS  FIRE_PRONE  FREQUENCIES  \\\n",
       "4          1992    7724                2           1         3323   \n",
       "6          1992    7724                3           1         3323   \n",
       "49         1992   50283                4           3        14980   \n",
       "51         1992   50283                5           3        14980   \n",
       "53         1992   85487                0           1          804   \n",
       "...         ...     ...              ...         ...          ...   \n",
       "5743       2015  288542                0           3          150   \n",
       "5757       2015  288542                1           3          150   \n",
       "5771       2015  288542                2           3          150   \n",
       "5781       2015  288542                3           2        22352   \n",
       "5810       2015  288542                6           2        10284   \n",
       "\n",
       "      DISCOVERY_TIME_FRM  \n",
       "4                    NaN  \n",
       "6                    NaN  \n",
       "49                   NaN  \n",
       "51                   NaN  \n",
       "53                   NaN  \n",
       "...                  ...  \n",
       "5743                 NaN  \n",
       "5757                 NaN  \n",
       "5771                 NaN  \n",
       "5781                 NaN  \n",
       "5810                 NaN  \n",
       "\n",
       "[535 rows x 6 columns]"
      ]
     },
     "execution_count": 51,
     "metadata": {},
     "output_type": "execute_result"
    }
   ],
   "source": [
    "# some entries are unique to year, region, class, prone\n",
    "disc_time_per_year_region_class_prone[disc_time_per_year_region_class_prone['DISCOVERY_TIME_FRM'].isna()]"
   ]
  },
  {
   "cell_type": "code",
   "execution_count": 52,
   "id": "ce59fcc1",
   "metadata": {},
   "outputs": [
    {
     "data": {
      "text/plain": [
       "12498"
      ]
     },
     "execution_count": 52,
     "metadata": {},
     "output_type": "execute_result"
    }
   ],
   "source": [
    "## then each year+fire size class+fire prone has a median and we can fill the missing values\n",
    "\n",
    "df_fires = df_fires.merge(disc_time_per_year_region_class_prone, on=['FIRE_YEAR', 'REGION', 'FIRE_SIZE_CLASS', 'FIRE_PRONE', 'FREQUENCIES'])\n",
    "df_fires['DISCOVERY_TIME_FRM_x'] = df_fires['DISCOVERY_TIME_FRM_x'].fillna(df_fires['DISCOVERY_TIME_FRM_y'])\n",
    "df_fires['DISCOVERY_TIME_FRM_x'].isna().sum()"
   ]
  },
  {
   "cell_type": "code",
   "execution_count": 53,
   "id": "2260d30b",
   "metadata": {},
   "outputs": [
    {
     "data": {
      "text/plain": [
       "12498"
      ]
     },
     "execution_count": 53,
     "metadata": {},
     "output_type": "execute_result"
    }
   ],
   "source": [
    "df_fires.drop(columns=['DISCOVERY_TIME_FRM_y'], inplace=True)\n",
    "df_fires.rename(columns={'DISCOVERY_TIME_FRM_x': 'DISCOVERY_TIME_FRM'}, inplace=True)\n",
    "df_fires['DISCOVERY_TIME_FRM'].isna().sum()"
   ]
  },
  {
   "cell_type": "code",
   "execution_count": 54,
   "id": "7c526607",
   "metadata": {},
   "outputs": [
    {
     "data": {
      "text/plain": [
       "FIRE_YEAR                   0\n",
       "DISCOVERY_DATE              0\n",
       "DISCOVERY_DOY               0\n",
       "DISCOVERY_TIME         281578\n",
       "STAT_CAUSE_CODE             0\n",
       "CONT_DATE              285500\n",
       "CONT_DOY               285500\n",
       "CONT_TIME              311246\n",
       "FIRE_SIZE                   0\n",
       "FIRE_SIZE_CLASS             0\n",
       "LATITUDE                    0\n",
       "LONGITUDE                   0\n",
       "STATE                       0\n",
       "FULL_DISCOVERY_DATE    281578\n",
       "FULL_CONT_DATE         311381\n",
       "DELTA_TIME             316655\n",
       "DELTA_TIME_HOUR             0\n",
       "DAY_OF_WEEK                 0\n",
       "MONTH                       0\n",
       "DISCOVERY_TIME_FRM          0\n",
       "CONT_TIME_FRM          311381\n",
       "REGION                      0\n",
       "FREQUENCIES                 0\n",
       "FIRE_PRONE                  0\n",
       "dtype: int64"
      ]
     },
     "execution_count": 54,
     "metadata": {},
     "output_type": "execute_result"
    }
   ],
   "source": [
    "# these are the rows we are going to drop\n",
    "# for the rest of the rows we will fill the containted time missing values using reverse engineering\n",
    "df_fires = df_fires.dropna(subset=['DISCOVERY_TIME_FRM'])\n",
    "df_fires.isna().sum()"
   ]
  },
  {
   "cell_type": "code",
   "execution_count": 55,
   "id": "68b22fdd",
   "metadata": {
    "scrolled": true
   },
   "outputs": [],
   "source": [
    "# reverse engineering for cont time frm\n",
    "df_fires['CONT_TIME_FRM'] = df_fires['CONT_TIME_FRM'].fillna((df_fires['DISCOVERY_TIME_FRM'] + df_fires['DELTA_TIME_HOUR'])%24)"
   ]
  },
  {
   "cell_type": "code",
   "execution_count": 56,
   "id": "7c3c8447",
   "metadata": {},
   "outputs": [],
   "source": [
    "### reverse engineering for cont time\n",
    "hours = df_fires['CONT_TIME_FRM'].astype(int)\n",
    "minutes = ((df_fires['CONT_TIME_FRM'] - hours)*60).astype(int)\n",
    "time_int = hours * 100 + minutes\n",
    "df_fires['CONT_TIME'] = df_fires['CONT_TIME'].fillna(time_int)"
   ]
  },
  {
   "cell_type": "code",
   "execution_count": 57,
   "id": "f32c4bd3",
   "metadata": {},
   "outputs": [],
   "source": [
    "### reverse engineering for discovery time\n",
    "hours = df_fires['DISCOVERY_TIME_FRM'].astype(int)\n",
    "minutes = ((df_fires['DISCOVERY_TIME_FRM'] - hours)*60).astype(int)\n",
    "time_int = hours * 100 + minutes\n",
    "df_fires['DISCOVERY_TIME'] = df_fires['DISCOVERY_TIME'].fillna(time_int)"
   ]
  },
  {
   "cell_type": "code",
   "execution_count": 58,
   "id": "ea515686",
   "metadata": {},
   "outputs": [],
   "source": [
    "### reverse engineering for discovery date\n",
    "import datetime\n",
    "\n",
    "hours = df_fires['DISCOVERY_TIME'].apply(lambda x: str(x)[:2] if len(str(x))==4 else str(x)[:1]).astype(int)\n",
    "minutes = df_fires['DISCOVERY_TIME'].apply(lambda x: str(x)[-2:]).astype(int)\n",
    "\n",
    "create_datetime = lambda year, doy, hour, minute: datetime.datetime(year, 1, 1, hour, minute) + datetime.timedelta(doy - 1)\n",
    "start_dates = pd.Series(map(create_datetime, df_fires['FIRE_YEAR'], df_fires['DISCOVERY_DOY'], hours, minutes))\n",
    "df_fires['DISCOVERY_DATE'] = df_fires['DISCOVERY_DATE'].fillna(start_dates)"
   ]
  },
  {
   "cell_type": "code",
   "execution_count": 59,
   "id": "1ca2ec5c",
   "metadata": {},
   "outputs": [],
   "source": [
    "### reverse engineering for containted date\n",
    "start_datetime = df_fires['DISCOVERY_DATE']\n",
    "\n",
    "# function to convert a delta time in hours to a datetime.timedelta object\n",
    "def hours_to_timedelta(hours):\n",
    "    days, hours_float = divmod(hours, 24)\n",
    "    hours, minutes_float = divmod(hours_float * 60, 60)\n",
    "    minutes = round(minutes_float)\n",
    "    return datetime.timedelta(days=days, hours=hours, minutes=minutes)\n",
    "\n",
    "# apply the function to the delta_times Series to create a new Series of timedelta objects\n",
    "timedelta_series = df_fires['DELTA_TIME_HOUR'].apply(hours_to_timedelta)\n",
    "\n",
    "# create a new Series of end datetime objects by adding the timedelta to the start datetime\n",
    "end_datetime_series = start_datetime + timedelta_series\n",
    "df_fires['CONT_DATE'] = df_fires['CONT_DATE'].fillna(end_datetime_series)"
   ]
  },
  {
   "cell_type": "code",
   "execution_count": 60,
   "id": "62015162",
   "metadata": {},
   "outputs": [
    {
     "data": {
      "text/plain": [
       "FIRE_YEAR                   0\n",
       "DISCOVERY_DATE              0\n",
       "DISCOVERY_DOY               0\n",
       "DISCOVERY_TIME              0\n",
       "STAT_CAUSE_CODE             0\n",
       "CONT_DATE                   0\n",
       "CONT_DOY                    0\n",
       "CONT_TIME                   0\n",
       "FIRE_SIZE                   0\n",
       "FIRE_SIZE_CLASS             0\n",
       "LATITUDE                    0\n",
       "LONGITUDE                   0\n",
       "STATE                       0\n",
       "FULL_DISCOVERY_DATE    281578\n",
       "FULL_CONT_DATE         311381\n",
       "DELTA_TIME             316655\n",
       "DELTA_TIME_HOUR             0\n",
       "DAY_OF_WEEK                 0\n",
       "MONTH                       0\n",
       "DISCOVERY_TIME_FRM          0\n",
       "CONT_TIME_FRM               0\n",
       "REGION                      0\n",
       "FREQUENCIES                 0\n",
       "FIRE_PRONE                  0\n",
       "dtype: int64"
      ]
     },
     "execution_count": 60,
     "metadata": {},
     "output_type": "execute_result"
    }
   ],
   "source": [
    "### reverse engineering for cont doy\n",
    "cont_doy = df_fires['CONT_DATE'].apply(lambda dt: dt if pd.isna(dt) else dt.timetuple().tm_yday)\n",
    "df_fires['CONT_DOY'] = df_fires['CONT_DOY'].fillna(cont_doy)\n",
    "df_fires.isna().sum()"
   ]
  },
  {
   "cell_type": "markdown",
   "id": "8449949f",
   "metadata": {},
   "source": [
    "## Weather conditions data"
   ]
  },
  {
   "cell_type": "code",
   "execution_count": 61,
   "id": "b48afe93",
   "metadata": {},
   "outputs": [],
   "source": [
    "df_stormevents = pd.read_csv('/Users/elichouatt/Downloads/weather.csv', low_memory=False)"
   ]
  },
  {
   "cell_type": "code",
   "execution_count": 62,
   "id": "e258caaa",
   "metadata": {},
   "outputs": [
    {
     "data": {
      "text/html": [
       "<div>\n",
       "<style scoped>\n",
       "    .dataframe tbody tr th:only-of-type {\n",
       "        vertical-align: middle;\n",
       "    }\n",
       "\n",
       "    .dataframe tbody tr th {\n",
       "        vertical-align: top;\n",
       "    }\n",
       "\n",
       "    .dataframe thead th {\n",
       "        text-align: right;\n",
       "    }\n",
       "</style>\n",
       "<table border=\"1\" class=\"dataframe\">\n",
       "  <thead>\n",
       "    <tr style=\"text-align: right;\">\n",
       "      <th></th>\n",
       "      <th>Unnamed: 0</th>\n",
       "      <th>BEGIN_YEARMONTH</th>\n",
       "      <th>BEGIN_DAY</th>\n",
       "      <th>BEGIN_TIME</th>\n",
       "      <th>END_YEARMONTH</th>\n",
       "      <th>END_DAY</th>\n",
       "      <th>END_TIME</th>\n",
       "      <th>EPISODE_ID</th>\n",
       "      <th>EVENT_ID</th>\n",
       "      <th>STATE</th>\n",
       "      <th>...</th>\n",
       "      <th>END_RANGE</th>\n",
       "      <th>END_AZIMUTH</th>\n",
       "      <th>END_LOCATION</th>\n",
       "      <th>BEGIN_LAT</th>\n",
       "      <th>BEGIN_LON</th>\n",
       "      <th>END_LAT</th>\n",
       "      <th>END_LON</th>\n",
       "      <th>EPISODE_NARRATIVE</th>\n",
       "      <th>EVENT_NARRATIVE</th>\n",
       "      <th>DATA_SOURCE</th>\n",
       "    </tr>\n",
       "  </thead>\n",
       "  <tbody>\n",
       "    <tr>\n",
       "      <th>0</th>\n",
       "      <td>0</td>\n",
       "      <td>195004</td>\n",
       "      <td>28</td>\n",
       "      <td>1445</td>\n",
       "      <td>195004</td>\n",
       "      <td>28</td>\n",
       "      <td>1445</td>\n",
       "      <td>NaN</td>\n",
       "      <td>10096222</td>\n",
       "      <td>OKLAHOMA</td>\n",
       "      <td>...</td>\n",
       "      <td>0.0</td>\n",
       "      <td>NaN</td>\n",
       "      <td>NaN</td>\n",
       "      <td>35.12</td>\n",
       "      <td>-99.20</td>\n",
       "      <td>35.17</td>\n",
       "      <td>-99.20</td>\n",
       "      <td>NaN</td>\n",
       "      <td>NaN</td>\n",
       "      <td>PUB</td>\n",
       "    </tr>\n",
       "    <tr>\n",
       "      <th>1</th>\n",
       "      <td>1</td>\n",
       "      <td>195004</td>\n",
       "      <td>29</td>\n",
       "      <td>1530</td>\n",
       "      <td>195004</td>\n",
       "      <td>29</td>\n",
       "      <td>1530</td>\n",
       "      <td>NaN</td>\n",
       "      <td>10120412</td>\n",
       "      <td>TEXAS</td>\n",
       "      <td>...</td>\n",
       "      <td>0.0</td>\n",
       "      <td>NaN</td>\n",
       "      <td>NaN</td>\n",
       "      <td>31.90</td>\n",
       "      <td>-98.60</td>\n",
       "      <td>31.73</td>\n",
       "      <td>-98.60</td>\n",
       "      <td>NaN</td>\n",
       "      <td>NaN</td>\n",
       "      <td>PUB</td>\n",
       "    </tr>\n",
       "    <tr>\n",
       "      <th>2</th>\n",
       "      <td>2</td>\n",
       "      <td>195007</td>\n",
       "      <td>5</td>\n",
       "      <td>1800</td>\n",
       "      <td>195007</td>\n",
       "      <td>5</td>\n",
       "      <td>1800</td>\n",
       "      <td>NaN</td>\n",
       "      <td>10104927</td>\n",
       "      <td>PENNSYLVANIA</td>\n",
       "      <td>...</td>\n",
       "      <td>0.0</td>\n",
       "      <td>NaN</td>\n",
       "      <td>NaN</td>\n",
       "      <td>40.58</td>\n",
       "      <td>-75.70</td>\n",
       "      <td>40.65</td>\n",
       "      <td>-75.47</td>\n",
       "      <td>NaN</td>\n",
       "      <td>NaN</td>\n",
       "      <td>PUB</td>\n",
       "    </tr>\n",
       "    <tr>\n",
       "      <th>3</th>\n",
       "      <td>3</td>\n",
       "      <td>195007</td>\n",
       "      <td>5</td>\n",
       "      <td>1830</td>\n",
       "      <td>195007</td>\n",
       "      <td>5</td>\n",
       "      <td>1830</td>\n",
       "      <td>NaN</td>\n",
       "      <td>10104928</td>\n",
       "      <td>PENNSYLVANIA</td>\n",
       "      <td>...</td>\n",
       "      <td>0.0</td>\n",
       "      <td>NaN</td>\n",
       "      <td>NaN</td>\n",
       "      <td>40.60</td>\n",
       "      <td>-76.75</td>\n",
       "      <td>NaN</td>\n",
       "      <td>NaN</td>\n",
       "      <td>NaN</td>\n",
       "      <td>NaN</td>\n",
       "      <td>PUB</td>\n",
       "    </tr>\n",
       "    <tr>\n",
       "      <th>4</th>\n",
       "      <td>4</td>\n",
       "      <td>195007</td>\n",
       "      <td>24</td>\n",
       "      <td>1440</td>\n",
       "      <td>195007</td>\n",
       "      <td>24</td>\n",
       "      <td>1440</td>\n",
       "      <td>NaN</td>\n",
       "      <td>10104929</td>\n",
       "      <td>PENNSYLVANIA</td>\n",
       "      <td>...</td>\n",
       "      <td>0.0</td>\n",
       "      <td>NaN</td>\n",
       "      <td>NaN</td>\n",
       "      <td>41.63</td>\n",
       "      <td>-79.68</td>\n",
       "      <td>NaN</td>\n",
       "      <td>NaN</td>\n",
       "      <td>NaN</td>\n",
       "      <td>NaN</td>\n",
       "      <td>PUB</td>\n",
       "    </tr>\n",
       "  </tbody>\n",
       "</table>\n",
       "<p>5 rows × 52 columns</p>\n",
       "</div>"
      ],
      "text/plain": [
       "   Unnamed: 0  BEGIN_YEARMONTH  BEGIN_DAY  BEGIN_TIME  END_YEARMONTH  END_DAY  \\\n",
       "0           0           195004         28        1445         195004       28   \n",
       "1           1           195004         29        1530         195004       29   \n",
       "2           2           195007          5        1800         195007        5   \n",
       "3           3           195007          5        1830         195007        5   \n",
       "4           4           195007         24        1440         195007       24   \n",
       "\n",
       "   END_TIME  EPISODE_ID  EVENT_ID         STATE  ...  END_RANGE  END_AZIMUTH  \\\n",
       "0      1445         NaN  10096222      OKLAHOMA  ...        0.0          NaN   \n",
       "1      1530         NaN  10120412         TEXAS  ...        0.0          NaN   \n",
       "2      1800         NaN  10104927  PENNSYLVANIA  ...        0.0          NaN   \n",
       "3      1830         NaN  10104928  PENNSYLVANIA  ...        0.0          NaN   \n",
       "4      1440         NaN  10104929  PENNSYLVANIA  ...        0.0          NaN   \n",
       "\n",
       "  END_LOCATION BEGIN_LAT BEGIN_LON  END_LAT END_LON EPISODE_NARRATIVE  \\\n",
       "0          NaN     35.12    -99.20    35.17  -99.20               NaN   \n",
       "1          NaN     31.90    -98.60    31.73  -98.60               NaN   \n",
       "2          NaN     40.58    -75.70    40.65  -75.47               NaN   \n",
       "3          NaN     40.60    -76.75      NaN     NaN               NaN   \n",
       "4          NaN     41.63    -79.68      NaN     NaN               NaN   \n",
       "\n",
       "  EVENT_NARRATIVE DATA_SOURCE  \n",
       "0             NaN         PUB  \n",
       "1             NaN         PUB  \n",
       "2             NaN         PUB  \n",
       "3             NaN         PUB  \n",
       "4             NaN         PUB  \n",
       "\n",
       "[5 rows x 52 columns]"
      ]
     },
     "execution_count": 62,
     "metadata": {},
     "output_type": "execute_result"
    }
   ],
   "source": [
    "df_stormevents.head()"
   ]
  },
  {
   "cell_type": "code",
   "execution_count": 63,
   "id": "2c2b3a88",
   "metadata": {},
   "outputs": [],
   "source": [
    "df_stormevents['BEGIN_DATE'] = pd.to_datetime(df_stormevents['BEGIN_YEARMONTH'].astype(str) + df_stormevents['BEGIN_DAY'].astype(str), format='%Y%m%d')\n",
    "df_stormevents['END_DATE'] = pd.to_datetime(df_stormevents['END_YEARMONTH'].astype(str) + df_stormevents['END_DAY'].astype(str), format='%Y%m%d')\n",
    "# select only data of the same timelaps than the wildfire dataset\n",
    "df_stormevents = df_stormevents.loc[(df_stormevents['YEAR'] >= 1992) & (df_stormevents['YEAR'] <= 2015)]"
   ]
  },
  {
   "cell_type": "code",
   "execution_count": 64,
   "id": "eb04b17b",
   "metadata": {},
   "outputs": [],
   "source": [
    "# Define a dictionary mapping state names to their abbreviations\n",
    "state_abbreviations = {\n",
    "    'ALABAMA': 'AL',\n",
    "    'ALASKA': 'AK',\n",
    "    'ARIZONA': 'AZ',\n",
    "    'ARKANSAS': 'AR',\n",
    "    'CALIFORNIA': 'CA',\n",
    "    'COLORADO': 'CO',\n",
    "    'CONNECTICUT': 'CT',\n",
    "    'DELAWARE': 'DE',\n",
    "    'FLORIDA': 'FL',\n",
    "    'GEORGIA': 'GA',\n",
    "    'HAWAII': 'HI',\n",
    "    'IDAHO': 'ID',\n",
    "    'ILLINOIS': 'IL',\n",
    "    'INDIANA': 'IN',\n",
    "    'IOWA': 'IA',\n",
    "    'KANSAS': 'KS',\n",
    "    'KENTUCKY': 'KY',\n",
    "    'LOUISIANA': 'LA',\n",
    "    'MAINE': 'ME',\n",
    "    'MARYLAND': 'MD',\n",
    "    'MASSACHUSETTS': 'MA',\n",
    "    'MICHIGAN': 'MI',\n",
    "    'MINNESOTA': 'MN',\n",
    "    'MISSISSIPPI': 'MS',\n",
    "    'MISSOURI': 'MO',\n",
    "    'MONTANA': 'MT',\n",
    "    'NEBRASKA': 'NE',\n",
    "    'NEVADA': 'NV',\n",
    "    'NEW HAMPSHIRE': 'NH',\n",
    "    'NEW JERSEY': 'NJ',\n",
    "    'NEW MEXICO': 'NM',\n",
    "    'NEW YORK': 'NY',\n",
    "    'NORTH CAROLINA': 'NC',\n",
    "    'NORTH DAKOTA': 'ND',\n",
    "    'OHIO': 'OH',\n",
    "    'OKLAHOMA': 'OK',\n",
    "    'OREGON': 'OR',\n",
    "    'PENNSYLVANIA': 'PA',\n",
    "    'PUERTO RICO':'PR',\n",
    "    'RHODE ISLAND': 'RI',\n",
    "    'SOUTH CAROLINA': 'SC',\n",
    "    'SOUTH DAKOTA': 'SD',\n",
    "    'TENNESSEE': 'TN',\n",
    "    'TEXAS': 'TX',\n",
    "    'UTAH': 'UT',\n",
    "    'VERMONT': 'VT',\n",
    "    'VIRGINIA': 'VA',\n",
    "    'WASHINGTON': 'WA',\n",
    "    'WEST VIRGINIA': 'WV',\n",
    "    'WISCONSIN': 'WI',\n",
    "    'WYOMING': 'WY'\n",
    "}"
   ]
  },
  {
   "cell_type": "code",
   "execution_count": 65,
   "id": "bd345dd7",
   "metadata": {},
   "outputs": [],
   "source": [
    "# get the same format than the wildfire dataset\n",
    "df_stormevents['STATE'].replace(state_abbreviations, inplace=True)"
   ]
  },
  {
   "cell_type": "code",
   "execution_count": 66,
   "id": "9b8512a2",
   "metadata": {},
   "outputs": [],
   "source": [
    "# get the storm events by date/state\n",
    "storm_by_state = df_stormevents.groupby(['BEGIN_DATE', 'STATE']).groups.keys()"
   ]
  },
  {
   "cell_type": "code",
   "execution_count": 67,
   "id": "7a23de41",
   "metadata": {},
   "outputs": [],
   "source": [
    "df_fires['STORM'] = False\n",
    "df_fires['STORM'] = df_fires.apply(lambda row: (row['DISCOVERY_DATE'], row['STATE']) in storm_by_state if row['STATE'] else None, axis=1)"
   ]
  },
  {
   "cell_type": "code",
   "execution_count": 68,
   "id": "622bee86",
   "metadata": {},
   "outputs": [
    {
     "data": {
      "text/plain": [
       "0.4706351086511748"
      ]
     },
     "execution_count": 68,
     "metadata": {},
     "output_type": "execute_result"
    }
   ],
   "source": [
    "# ratio storm when cause is lightning\n",
    "len(df_fires.loc[(df_fires['STAT_CAUSE_CODE'] == 1.0) & (df_fires['STORM'] == True)]) / len(df_fires.loc[(df_fires['STAT_CAUSE_CODE'] == 1.0)])"
   ]
  },
  {
   "cell_type": "code",
   "execution_count": 69,
   "id": "5b0ef7bf",
   "metadata": {},
   "outputs": [
    {
     "data": {
      "text/plain": [
       "0.28410590430130594"
      ]
     },
     "execution_count": 69,
     "metadata": {},
     "output_type": "execute_result"
    }
   ],
   "source": [
    "# ratio lightning when storm\n",
    "len(df_fires.loc[(df_fires['STAT_CAUSE_CODE'] == 1.0) & (df_fires['STORM'] == True)]) / len(df_fires.loc[df_fires['STORM'] == True])"
   ]
  },
  {
   "cell_type": "code",
   "execution_count": 70,
   "id": "25f6a317",
   "metadata": {},
   "outputs": [],
   "source": [
    "weather_feature = ['STORM']"
   ]
  },
  {
   "cell_type": "markdown",
   "id": "ff72d41d",
   "metadata": {},
   "source": [
    "## Filling missing values with model - skipped"
   ]
  },
  {
   "cell_type": "code",
   "execution_count": 71,
   "id": "797eca08",
   "metadata": {},
   "outputs": [],
   "source": [
    "from sklearn import linear_model\n",
    "def fill_data(X, y):\n",
    "    X_train = X[y.notna()]\n",
    "    y_train = y[y.notna()]\n",
    "    X_test = X[y.isna()]\n",
    "    knn = linear_model.LinearRegression().fit(X_train, y_train)\n",
    "    y_pred = knn.predict(X_test)\n",
    "    y[y.isna()] = y_pred\n",
    "    return y"
   ]
  },
  {
   "cell_type": "code",
   "execution_count": 72,
   "id": "c979d1e3",
   "metadata": {},
   "outputs": [
    {
     "data": {
      "text/plain": [
       "['FULL_DISCOVERY_DATE', 'FULL_CONT_DATE', 'DELTA_TIME']"
      ]
     },
     "execution_count": 72,
     "metadata": {},
     "output_type": "execute_result"
    }
   ],
   "source": [
    "cols_not_null = df_fires.columns\n",
    "cols_null = df_fires.columns[df_fires.isna().any()].tolist()\n",
    "cols_not_null = [x for x in cols_not_null if x not in cols_null]\n",
    "cols_null"
   ]
  },
  {
   "cell_type": "code",
   "execution_count": 73,
   "id": "dc5c87e3",
   "metadata": {},
   "outputs": [
    {
     "data": {
      "text/plain": [
       "['FIRE_YEAR',\n",
       " 'DISCOVERY_DATE',\n",
       " 'DISCOVERY_DOY',\n",
       " 'DISCOVERY_TIME',\n",
       " 'STAT_CAUSE_CODE',\n",
       " 'CONT_DATE',\n",
       " 'CONT_DOY',\n",
       " 'CONT_TIME',\n",
       " 'FIRE_SIZE',\n",
       " 'FIRE_SIZE_CLASS',\n",
       " 'LATITUDE',\n",
       " 'LONGITUDE',\n",
       " 'STATE',\n",
       " 'DELTA_TIME_HOUR',\n",
       " 'DAY_OF_WEEK',\n",
       " 'MONTH',\n",
       " 'DISCOVERY_TIME_FRM',\n",
       " 'CONT_TIME_FRM',\n",
       " 'REGION',\n",
       " 'FREQUENCIES',\n",
       " 'FIRE_PRONE',\n",
       " 'STORM']"
      ]
     },
     "execution_count": 73,
     "metadata": {},
     "output_type": "execute_result"
    }
   ],
   "source": [
    "cols_not_null"
   ]
  },
  {
   "cell_type": "code",
   "execution_count": 74,
   "id": "0accbaf8",
   "metadata": {},
   "outputs": [],
   "source": [
    "# for col in cols_null:\n",
    "#    complete_column = fill_data(df_fires[cols_not_null], df_fires[col])\n",
    "#    df_fires[col] = complete_column"
   ]
  },
  {
   "cell_type": "code",
   "execution_count": 75,
   "id": "81bea85a",
   "metadata": {},
   "outputs": [
    {
     "data": {
      "text/plain": [
       "FIRE_YEAR              0\n",
       "DISCOVERY_DATE         0\n",
       "DISCOVERY_DOY          0\n",
       "DISCOVERY_TIME         0\n",
       "STAT_CAUSE_CODE        0\n",
       "CONT_DATE              0\n",
       "CONT_DOY               0\n",
       "CONT_TIME              0\n",
       "FIRE_SIZE              0\n",
       "FIRE_SIZE_CLASS        0\n",
       "LATITUDE               0\n",
       "LONGITUDE              0\n",
       "STATE                  0\n",
       "FULL_DISCOVERY_DATE    0\n",
       "FULL_CONT_DATE         0\n",
       "DELTA_TIME             0\n",
       "DELTA_TIME_HOUR        0\n",
       "DAY_OF_WEEK            0\n",
       "MONTH                  0\n",
       "DISCOVERY_TIME_FRM     0\n",
       "CONT_TIME_FRM          0\n",
       "REGION                 0\n",
       "FREQUENCIES            0\n",
       "FIRE_PRONE             0\n",
       "STORM                  0\n",
       "dtype: int64"
      ]
     },
     "execution_count": 75,
     "metadata": {},
     "output_type": "execute_result"
    }
   ],
   "source": [
    "df_fires = df_fires.dropna().reset_index(drop=True)\n",
    "df_fires.isna().sum()"
   ]
  },
  {
   "cell_type": "markdown",
   "id": "acb8b233",
   "metadata": {},
   "source": [
    "### Cyclic transformations"
   ]
  },
  {
   "cell_type": "code",
   "execution_count": 76,
   "id": "9034df79",
   "metadata": {},
   "outputs": [
    {
     "data": {
      "text/html": [
       "<div>\n",
       "<style scoped>\n",
       "    .dataframe tbody tr th:only-of-type {\n",
       "        vertical-align: middle;\n",
       "    }\n",
       "\n",
       "    .dataframe tbody tr th {\n",
       "        vertical-align: top;\n",
       "    }\n",
       "\n",
       "    .dataframe thead th {\n",
       "        text-align: right;\n",
       "    }\n",
       "</style>\n",
       "<table border=\"1\" class=\"dataframe\">\n",
       "  <thead>\n",
       "    <tr style=\"text-align: right;\">\n",
       "      <th></th>\n",
       "      <th>DELTA_TIME_HOUR</th>\n",
       "      <th>DISCOVERY_DATE</th>\n",
       "      <th>DISCOVERY_TIME</th>\n",
       "      <th>CONT_DATE</th>\n",
       "      <th>CONT_TIME</th>\n",
       "      <th>FIRE_SIZE</th>\n",
       "      <th>FIRE_SIZE_CLASS</th>\n",
       "    </tr>\n",
       "  </thead>\n",
       "  <tbody>\n",
       "    <tr>\n",
       "      <th>0</th>\n",
       "      <td>44.000000</td>\n",
       "      <td>1998-08-06</td>\n",
       "      <td>1900</td>\n",
       "      <td>1998-08-08</td>\n",
       "      <td>1500</td>\n",
       "      <td>5.0</td>\n",
       "      <td>1</td>\n",
       "    </tr>\n",
       "    <tr>\n",
       "      <th>1</th>\n",
       "      <td>2.016667</td>\n",
       "      <td>1998-07-10</td>\n",
       "      <td>1659</td>\n",
       "      <td>1998-07-10</td>\n",
       "      <td>1900</td>\n",
       "      <td>7.0</td>\n",
       "      <td>1</td>\n",
       "    </tr>\n",
       "    <tr>\n",
       "      <th>2</th>\n",
       "      <td>4.050000</td>\n",
       "      <td>1998-07-07</td>\n",
       "      <td>2047</td>\n",
       "      <td>1998-07-08</td>\n",
       "      <td>0050</td>\n",
       "      <td>5.0</td>\n",
       "      <td>1</td>\n",
       "    </tr>\n",
       "    <tr>\n",
       "      <th>3</th>\n",
       "      <td>27.150000</td>\n",
       "      <td>1998-08-07</td>\n",
       "      <td>1251</td>\n",
       "      <td>1998-08-08</td>\n",
       "      <td>1600</td>\n",
       "      <td>4.0</td>\n",
       "      <td>1</td>\n",
       "    </tr>\n",
       "    <tr>\n",
       "      <th>4</th>\n",
       "      <td>2.000000</td>\n",
       "      <td>1998-10-26</td>\n",
       "      <td>1830</td>\n",
       "      <td>1998-10-26</td>\n",
       "      <td>2030</td>\n",
       "      <td>3.0</td>\n",
       "      <td>1</td>\n",
       "    </tr>\n",
       "    <tr>\n",
       "      <th>5</th>\n",
       "      <td>123.916667</td>\n",
       "      <td>1998-08-21</td>\n",
       "      <td>1305</td>\n",
       "      <td>1998-08-26</td>\n",
       "      <td>1700</td>\n",
       "      <td>8.0</td>\n",
       "      <td>1</td>\n",
       "    </tr>\n",
       "    <tr>\n",
       "      <th>6</th>\n",
       "      <td>2.500000</td>\n",
       "      <td>1998-09-01</td>\n",
       "      <td>1230</td>\n",
       "      <td>1998-09-01</td>\n",
       "      <td>1500</td>\n",
       "      <td>1.5</td>\n",
       "      <td>1</td>\n",
       "    </tr>\n",
       "    <tr>\n",
       "      <th>7</th>\n",
       "      <td>42.083333</td>\n",
       "      <td>1998-08-20</td>\n",
       "      <td>1813</td>\n",
       "      <td>1998-08-22</td>\n",
       "      <td>1218</td>\n",
       "      <td>5.0</td>\n",
       "      <td>1</td>\n",
       "    </tr>\n",
       "    <tr>\n",
       "      <th>8</th>\n",
       "      <td>10.166667</td>\n",
       "      <td>1998-08-20</td>\n",
       "      <td>0150</td>\n",
       "      <td>1998-08-20</td>\n",
       "      <td>1200</td>\n",
       "      <td>3.0</td>\n",
       "      <td>1</td>\n",
       "    </tr>\n",
       "    <tr>\n",
       "      <th>9</th>\n",
       "      <td>31.666667</td>\n",
       "      <td>1998-08-10</td>\n",
       "      <td>1200</td>\n",
       "      <td>1998-08-11</td>\n",
       "      <td>1940</td>\n",
       "      <td>2.0</td>\n",
       "      <td>1</td>\n",
       "    </tr>\n",
       "  </tbody>\n",
       "</table>\n",
       "</div>"
      ],
      "text/plain": [
       "   DELTA_TIME_HOUR DISCOVERY_DATE DISCOVERY_TIME  CONT_DATE CONT_TIME  \\\n",
       "0        44.000000     1998-08-06           1900 1998-08-08      1500   \n",
       "1         2.016667     1998-07-10           1659 1998-07-10      1900   \n",
       "2         4.050000     1998-07-07           2047 1998-07-08      0050   \n",
       "3        27.150000     1998-08-07           1251 1998-08-08      1600   \n",
       "4         2.000000     1998-10-26           1830 1998-10-26      2030   \n",
       "5       123.916667     1998-08-21           1305 1998-08-26      1700   \n",
       "6         2.500000     1998-09-01           1230 1998-09-01      1500   \n",
       "7        42.083333     1998-08-20           1813 1998-08-22      1218   \n",
       "8        10.166667     1998-08-20           0150 1998-08-20      1200   \n",
       "9        31.666667     1998-08-10           1200 1998-08-11      1940   \n",
       "\n",
       "   FIRE_SIZE  FIRE_SIZE_CLASS  \n",
       "0        5.0                1  \n",
       "1        7.0                1  \n",
       "2        5.0                1  \n",
       "3        4.0                1  \n",
       "4        3.0                1  \n",
       "5        8.0                1  \n",
       "6        1.5                1  \n",
       "7        5.0                1  \n",
       "8        3.0                1  \n",
       "9        2.0                1  "
      ]
     },
     "execution_count": 76,
     "metadata": {},
     "output_type": "execute_result"
    }
   ],
   "source": [
    "df_fires[['DELTA_TIME_HOUR', 'DISCOVERY_DATE', 'DISCOVERY_TIME', \n",
    "          'CONT_DATE', 'CONT_TIME', \n",
    "          'FIRE_SIZE', 'FIRE_SIZE_CLASS']].head(10)"
   ]
  },
  {
   "cell_type": "code",
   "execution_count": 77,
   "id": "1002f62c",
   "metadata": {},
   "outputs": [],
   "source": [
    "# DISCOVERY DATES:\n",
    "\n",
    "# DAY:\n",
    "df_fires['DISC_HOUR_OF_DAY'] = df_fires['DISCOVERY_TIME_FRM']\n",
    "# WEEK\n",
    "df_fires['DISC_DAY_OF_WEEK'] = df_fires['DISCOVERY_DATE'].apply(lambda date: date.weekday() if date else np.nan)\n",
    "# MONTH\n",
    "df_fires['DISC_DAY_OF_MONTH'] = df_fires['DISCOVERY_DATE'].apply(lambda date: date.day if date else np.nan)\n",
    "# YEAR\n",
    "df_fires['DISC_DAY_OF_YEAR'] = df_fires['DISCOVERY_DOY']\n",
    "df_fires['DISC_MONTH_OF_YEAR'] = df_fires['DISCOVERY_DATE'].apply(lambda date: date.month if date else np.nan)\n"
   ]
  },
  {
   "cell_type": "code",
   "execution_count": 78,
   "id": "b36728c4",
   "metadata": {},
   "outputs": [],
   "source": [
    "# CONT DATES:\n",
    "\n",
    "# DAY:\n",
    "df_fires['CONT_HOUR_OF_DAY'] = df_fires['CONT_TIME_FRM']\n",
    "# WEEK\n",
    "df_fires['CONT_DAY_OF_WEEK'] = df_fires['CONT_DATE'].apply(lambda date: date.weekday() if date else np.nan)\n",
    "# MONTH\n",
    "df_fires['CONT_DAY_OF_MONTH'] = df_fires['CONT_DATE'].apply(lambda date: date.day if date else np.nan)\n",
    "# YEAR\n",
    "df_fires['CONT_DAY_OF_YEAR'] = df_fires['CONT_DOY'].astype(int)\n",
    "df_fires['CONT_MONTH_OF_YEAR'] = df_fires['CONT_DATE'].apply(lambda date: date.month if date else np.nan)"
   ]
  },
  {
   "cell_type": "code",
   "execution_count": 79,
   "id": "ca5b4069",
   "metadata": {},
   "outputs": [
    {
     "data": {
      "text/html": [
       "<div>\n",
       "<style scoped>\n",
       "    .dataframe tbody tr th:only-of-type {\n",
       "        vertical-align: middle;\n",
       "    }\n",
       "\n",
       "    .dataframe tbody tr th {\n",
       "        vertical-align: top;\n",
       "    }\n",
       "\n",
       "    .dataframe thead th {\n",
       "        text-align: right;\n",
       "    }\n",
       "</style>\n",
       "<table border=\"1\" class=\"dataframe\">\n",
       "  <thead>\n",
       "    <tr style=\"text-align: right;\">\n",
       "      <th></th>\n",
       "      <th>CONT_HOUR_OF_DAY</th>\n",
       "      <th>CONT_DAY_OF_WEEK</th>\n",
       "      <th>CONT_DAY_OF_MONTH</th>\n",
       "      <th>CONT_DAY_OF_YEAR</th>\n",
       "      <th>CONT_MONTH_OF_YEAR</th>\n",
       "    </tr>\n",
       "  </thead>\n",
       "  <tbody>\n",
       "    <tr>\n",
       "      <th>0</th>\n",
       "      <td>15.000000</td>\n",
       "      <td>5</td>\n",
       "      <td>8</td>\n",
       "      <td>220</td>\n",
       "      <td>8</td>\n",
       "    </tr>\n",
       "    <tr>\n",
       "      <th>1</th>\n",
       "      <td>19.000000</td>\n",
       "      <td>4</td>\n",
       "      <td>10</td>\n",
       "      <td>191</td>\n",
       "      <td>7</td>\n",
       "    </tr>\n",
       "    <tr>\n",
       "      <th>2</th>\n",
       "      <td>0.833333</td>\n",
       "      <td>2</td>\n",
       "      <td>8</td>\n",
       "      <td>189</td>\n",
       "      <td>7</td>\n",
       "    </tr>\n",
       "    <tr>\n",
       "      <th>3</th>\n",
       "      <td>16.000000</td>\n",
       "      <td>5</td>\n",
       "      <td>8</td>\n",
       "      <td>220</td>\n",
       "      <td>8</td>\n",
       "    </tr>\n",
       "    <tr>\n",
       "      <th>4</th>\n",
       "      <td>20.500000</td>\n",
       "      <td>0</td>\n",
       "      <td>26</td>\n",
       "      <td>299</td>\n",
       "      <td>10</td>\n",
       "    </tr>\n",
       "    <tr>\n",
       "      <th>...</th>\n",
       "      <td>...</td>\n",
       "      <td>...</td>\n",
       "      <td>...</td>\n",
       "      <td>...</td>\n",
       "      <td>...</td>\n",
       "    </tr>\n",
       "    <tr>\n",
       "      <th>297657</th>\n",
       "      <td>17.000000</td>\n",
       "      <td>6</td>\n",
       "      <td>9</td>\n",
       "      <td>160</td>\n",
       "      <td>6</td>\n",
       "    </tr>\n",
       "    <tr>\n",
       "      <th>297658</th>\n",
       "      <td>18.000000</td>\n",
       "      <td>0</td>\n",
       "      <td>19</td>\n",
       "      <td>19</td>\n",
       "      <td>1</td>\n",
       "    </tr>\n",
       "    <tr>\n",
       "      <th>297659</th>\n",
       "      <td>18.000000</td>\n",
       "      <td>5</td>\n",
       "      <td>29</td>\n",
       "      <td>302</td>\n",
       "      <td>10</td>\n",
       "    </tr>\n",
       "    <tr>\n",
       "      <th>297660</th>\n",
       "      <td>21.750000</td>\n",
       "      <td>2</td>\n",
       "      <td>7</td>\n",
       "      <td>97</td>\n",
       "      <td>4</td>\n",
       "    </tr>\n",
       "    <tr>\n",
       "      <th>297661</th>\n",
       "      <td>17.000000</td>\n",
       "      <td>1</td>\n",
       "      <td>17</td>\n",
       "      <td>17</td>\n",
       "      <td>1</td>\n",
       "    </tr>\n",
       "  </tbody>\n",
       "</table>\n",
       "<p>297662 rows × 5 columns</p>\n",
       "</div>"
      ],
      "text/plain": [
       "        CONT_HOUR_OF_DAY  CONT_DAY_OF_WEEK  CONT_DAY_OF_MONTH  \\\n",
       "0              15.000000                 5                  8   \n",
       "1              19.000000                 4                 10   \n",
       "2               0.833333                 2                  8   \n",
       "3              16.000000                 5                  8   \n",
       "4              20.500000                 0                 26   \n",
       "...                  ...               ...                ...   \n",
       "297657         17.000000                 6                  9   \n",
       "297658         18.000000                 0                 19   \n",
       "297659         18.000000                 5                 29   \n",
       "297660         21.750000                 2                  7   \n",
       "297661         17.000000                 1                 17   \n",
       "\n",
       "        CONT_DAY_OF_YEAR  CONT_MONTH_OF_YEAR  \n",
       "0                    220                   8  \n",
       "1                    191                   7  \n",
       "2                    189                   7  \n",
       "3                    220                   8  \n",
       "4                    299                  10  \n",
       "...                  ...                 ...  \n",
       "297657               160                   6  \n",
       "297658                19                   1  \n",
       "297659               302                  10  \n",
       "297660                97                   4  \n",
       "297661                17                   1  \n",
       "\n",
       "[297662 rows x 5 columns]"
      ]
     },
     "execution_count": 79,
     "metadata": {},
     "output_type": "execute_result"
    }
   ],
   "source": [
    "df_fires[['CONT_HOUR_OF_DAY', 'CONT_DAY_OF_WEEK', 'CONT_DAY_OF_MONTH', 'CONT_DAY_OF_YEAR', 'CONT_MONTH_OF_YEAR']]"
   ]
  },
  {
   "cell_type": "code",
   "execution_count": 80,
   "id": "1593a18c",
   "metadata": {},
   "outputs": [],
   "source": [
    "hour_per_day = 24\n",
    "day_per_week = 7\n",
    "day_per_month = 30.5 # approximation\n",
    "day_per_year = 365.25 # approximation\n",
    "month_per_year = 12"
   ]
  },
  {
   "cell_type": "code",
   "execution_count": 81,
   "id": "6011a6d3",
   "metadata": {},
   "outputs": [],
   "source": [
    "# cyclical transformations:\n",
    "\n",
    "# DISCOVERY DATES:\n",
    "\n",
    "# DAY\n",
    "df_fires['DISC_HOUR_OF_DAY_SIN'] = np.sin(2*np.pi*df_fires['DISC_HOUR_OF_DAY']/hour_per_day)\n",
    "df_fires['DISC_HOUR_OF_DAY_COS'] = np.cos(2*np.pi*df_fires['DISC_HOUR_OF_DAY']/hour_per_day)\n",
    "# WEEK\n",
    "df_fires['DISC_DAY_OF_WEEK_SIN'] = np.sin(2*np.pi*df_fires['DISC_DAY_OF_WEEK']/day_per_week)\n",
    "df_fires['DISC_DAY_OF_WEEK_COS'] = np.cos(2*np.pi*df_fires['DISC_DAY_OF_WEEK']/day_per_week)\n",
    "# MONTH\n",
    "df_fires['DISC_DAY_OF_MONTH_SIN'] = np.sin(2*np.pi*df_fires['DISC_DAY_OF_MONTH']/day_per_month)\n",
    "df_fires['DISC_DAY_OF_MONTH_COS'] = np.cos(2*np.pi*df_fires['DISC_DAY_OF_MONTH']/day_per_month)\n",
    "# YEAR\n",
    "df_fires['DISC_DAY_OF_YEAR_SIN'] = np.sin(2*np.pi*df_fires['DISC_DAY_OF_YEAR']/day_per_year)\n",
    "df_fires['DISC_DAY_OF_YEAR_COS'] = np.cos(2*np.pi*df_fires['DISC_DAY_OF_YEAR']/day_per_year)\n",
    "df_fires['DISC_MONTH_OF_YEAR_SIN'] = np.sin(2*np.pi*df_fires['DISC_MONTH_OF_YEAR']/month_per_year)\n",
    "df_fires['DISC_MONTH_OF_YEAR_COS'] = np.cos(2*np.pi*df_fires['DISC_MONTH_OF_YEAR']/month_per_year)"
   ]
  },
  {
   "cell_type": "code",
   "execution_count": 82,
   "id": "fb2008f5",
   "metadata": {},
   "outputs": [],
   "source": [
    "# CONTAINED DATES:\n",
    "\n",
    "# DAY\n",
    "df_fires['CONT_HOUR_OF_DAY_SIN'] = np.sin(2*np.pi*df_fires['CONT_HOUR_OF_DAY']/hour_per_day)\n",
    "df_fires['CONT_HOUR_OF_DAY_COS'] = np.cos(2*np.pi*df_fires['CONT_HOUR_OF_DAY']/hour_per_day)\n",
    "# WEEK\n",
    "df_fires['CONT_DAY_OF_WEEK_SIN'] = np.sin(2*np.pi*df_fires['CONT_DAY_OF_WEEK']/day_per_week)\n",
    "df_fires['CONT_DAY_OF_WEEK_COS'] = np.cos(2*np.pi*df_fires['CONT_DAY_OF_WEEK']/day_per_week)\n",
    "# MONTH\n",
    "df_fires['CONT_DAY_OF_MONTH_SIN'] = np.sin(2*np.pi*df_fires['CONT_DAY_OF_MONTH']/day_per_month)\n",
    "df_fires['CONT_DAY_OF_MONTH_COS'] = np.cos(2*np.pi*df_fires['CONT_DAY_OF_MONTH']/day_per_month)\n",
    "# YEAR\n",
    "df_fires['CONT_DAY_OF_YEAR_SIN'] = np.sin(2*np.pi*df_fires['CONT_DAY_OF_YEAR']/day_per_year)\n",
    "df_fires['CONT_DAY_OF_YEAR_COS'] = np.cos(2*np.pi*df_fires['CONT_DAY_OF_YEAR']/day_per_year)\n",
    "df_fires['CONT_MONTH_OF_YEAR_SIN'] = np.sin(2*np.pi*df_fires['CONT_MONTH_OF_YEAR']/month_per_year)\n",
    "df_fires['CONT_MONTH_OF_YEAR_COS'] = np.cos(2*np.pi*df_fires['CONT_MONTH_OF_YEAR']/month_per_year)"
   ]
  },
  {
   "cell_type": "code",
   "execution_count": 83,
   "id": "01f90db6",
   "metadata": {},
   "outputs": [],
   "source": [
    "df_fires['DISC_DATE_FRM'] = df_fires['DISCOVERY_DATE'].apply(lambda date:date.year + date.month/month_per_year + date.day/day_per_year + date.hour/(hour_per_day*day_per_year) if date == date else np.nan)"
   ]
  },
  {
   "cell_type": "code",
   "execution_count": 84,
   "id": "291b9179",
   "metadata": {},
   "outputs": [],
   "source": [
    "df_fires['CONT_DATE_FRM'] = df_fires['CONT_DATE'].apply(lambda date:date.year + date.month/month_per_year + date.day/day_per_year + date.hour/(hour_per_day*day_per_year) if date == date else np.nan)"
   ]
  },
  {
   "cell_type": "markdown",
   "id": "9bb50ea4",
   "metadata": {},
   "source": [
    "## Feature Selection (again)"
   ]
  },
  {
   "cell_type": "code",
   "execution_count": 85,
   "id": "414acf24",
   "metadata": {},
   "outputs": [],
   "source": [
    "# Feature selection : time features\n",
    "time_features = ['HOUR_OF_DAY', 'DAY_OF_WEEK', 'DAY_OF_MONTH', 'DAY_OF_YEAR', 'MONTH_OF_YEAR', \n",
    "                 'HOUR_OF_DAY_SIN', 'HOUR_OF_DAY_COS', 'DAY_OF_WEEK_SIN', 'DAY_OF_WEEK_COS', 'DAY_OF_MONTH_SIN',\n",
    "                'DAY_OF_MONTH_COS', 'DAY_OF_YEAR_SIN', 'DAY_OF_YEAR_COS', 'MONTH_OF_YEAR_SIN', 'MONTH_OF_YEAR_COS',\n",
    "                'DATE_FRM']\n",
    "disc_features = ['DISC_' + feature for feature in time_features]\n",
    "cont_features = ['CONT_' + feature for feature in time_features]\n",
    "commun_features = ['FIRE_YEAR', 'DELTA_TIME_HOUR']"
   ]
  },
  {
   "cell_type": "code",
   "execution_count": 86,
   "id": "6363a2d6",
   "metadata": {},
   "outputs": [],
   "source": [
    "X = df_fires[disc_features + cont_features + commun_features].dropna().reset_index(drop=True)\n",
    "y = df_fires.iloc[X.index]['STAT_CAUSE_CODE']\n",
    "X_train, X_test, y_train, y_test = train_test_split(X, y, test_size=0.25)"
   ]
  },
  {
   "cell_type": "code",
   "execution_count": 87,
   "id": "d18c6fef",
   "metadata": {},
   "outputs": [
    {
     "data": {
      "text/html": [
       "<div>\n",
       "<style scoped>\n",
       "    .dataframe tbody tr th:only-of-type {\n",
       "        vertical-align: middle;\n",
       "    }\n",
       "\n",
       "    .dataframe tbody tr th {\n",
       "        vertical-align: top;\n",
       "    }\n",
       "\n",
       "    .dataframe thead th {\n",
       "        text-align: right;\n",
       "    }\n",
       "</style>\n",
       "<table border=\"1\" class=\"dataframe\">\n",
       "  <thead>\n",
       "    <tr style=\"text-align: right;\">\n",
       "      <th></th>\n",
       "      <th>DISC_HOUR_OF_DAY</th>\n",
       "      <th>DISC_DAY_OF_WEEK</th>\n",
       "      <th>DISC_DAY_OF_MONTH</th>\n",
       "      <th>DISC_DAY_OF_YEAR</th>\n",
       "      <th>DISC_MONTH_OF_YEAR</th>\n",
       "      <th>DISC_HOUR_OF_DAY_SIN</th>\n",
       "      <th>DISC_HOUR_OF_DAY_COS</th>\n",
       "      <th>DISC_DAY_OF_WEEK_SIN</th>\n",
       "      <th>DISC_DAY_OF_WEEK_COS</th>\n",
       "      <th>DISC_DAY_OF_MONTH_SIN</th>\n",
       "      <th>...</th>\n",
       "      <th>CONT_DAY_OF_WEEK_COS</th>\n",
       "      <th>CONT_DAY_OF_MONTH_SIN</th>\n",
       "      <th>CONT_DAY_OF_MONTH_COS</th>\n",
       "      <th>CONT_DAY_OF_YEAR_SIN</th>\n",
       "      <th>CONT_DAY_OF_YEAR_COS</th>\n",
       "      <th>CONT_MONTH_OF_YEAR_SIN</th>\n",
       "      <th>CONT_MONTH_OF_YEAR_COS</th>\n",
       "      <th>CONT_DATE_FRM</th>\n",
       "      <th>FIRE_YEAR</th>\n",
       "      <th>DELTA_TIME_HOUR</th>\n",
       "    </tr>\n",
       "  </thead>\n",
       "  <tbody>\n",
       "    <tr>\n",
       "      <th>127888</th>\n",
       "      <td>13.633333</td>\n",
       "      <td>1</td>\n",
       "      <td>4</td>\n",
       "      <td>308</td>\n",
       "      <td>11</td>\n",
       "      <td>-0.414693</td>\n",
       "      <td>-0.909961</td>\n",
       "      <td>0.781831</td>\n",
       "      <td>0.623490</td>\n",
       "      <td>0.733885</td>\n",
       "      <td>...</td>\n",
       "      <td>0.623490</td>\n",
       "      <td>0.733885</td>\n",
       "      <td>0.679273</td>\n",
       "      <td>-0.833183</td>\n",
       "      <td>0.552997</td>\n",
       "      <td>-0.500000</td>\n",
       "      <td>0.866025</td>\n",
       "      <td>2014.927618</td>\n",
       "      <td>2014</td>\n",
       "      <td>0.233333</td>\n",
       "    </tr>\n",
       "    <tr>\n",
       "      <th>86126</th>\n",
       "      <td>15.733333</td>\n",
       "      <td>4</td>\n",
       "      <td>19</td>\n",
       "      <td>200</td>\n",
       "      <td>7</td>\n",
       "      <td>-0.829038</td>\n",
       "      <td>-0.559193</td>\n",
       "      <td>-0.433884</td>\n",
       "      <td>-0.900969</td>\n",
       "      <td>-0.697944</td>\n",
       "      <td>...</td>\n",
       "      <td>-0.900969</td>\n",
       "      <td>-0.697944</td>\n",
       "      <td>-0.716152</td>\n",
       "      <td>-0.294462</td>\n",
       "      <td>-0.955663</td>\n",
       "      <td>-0.500000</td>\n",
       "      <td>-0.866025</td>\n",
       "      <td>2002.635352</td>\n",
       "      <td>2002</td>\n",
       "      <td>0.000000</td>\n",
       "    </tr>\n",
       "    <tr>\n",
       "      <th>172621</th>\n",
       "      <td>14.916667</td>\n",
       "      <td>1</td>\n",
       "      <td>18</td>\n",
       "      <td>231</td>\n",
       "      <td>8</td>\n",
       "      <td>-0.691513</td>\n",
       "      <td>-0.722364</td>\n",
       "      <td>0.781831</td>\n",
       "      <td>0.623490</td>\n",
       "      <td>-0.536696</td>\n",
       "      <td>...</td>\n",
       "      <td>0.623490</td>\n",
       "      <td>-0.536696</td>\n",
       "      <td>-0.843776</td>\n",
       "      <td>-0.739392</td>\n",
       "      <td>-0.673275</td>\n",
       "      <td>-0.866025</td>\n",
       "      <td>-0.500000</td>\n",
       "      <td>1992.715948</td>\n",
       "      <td>1992</td>\n",
       "      <td>0.666667</td>\n",
       "    </tr>\n",
       "    <tr>\n",
       "      <th>49094</th>\n",
       "      <td>12.516667</td>\n",
       "      <td>0</td>\n",
       "      <td>8</td>\n",
       "      <td>189</td>\n",
       "      <td>7</td>\n",
       "      <td>-0.134851</td>\n",
       "      <td>-0.990866</td>\n",
       "      <td>0.000000</td>\n",
       "      <td>1.000000</td>\n",
       "      <td>0.997018</td>\n",
       "      <td>...</td>\n",
       "      <td>1.000000</td>\n",
       "      <td>0.997018</td>\n",
       "      <td>-0.077175</td>\n",
       "      <td>-0.109446</td>\n",
       "      <td>-0.993993</td>\n",
       "      <td>-0.500000</td>\n",
       "      <td>-0.866025</td>\n",
       "      <td>2013.605236</td>\n",
       "      <td>2013</td>\n",
       "      <td>8.050000</td>\n",
       "    </tr>\n",
       "    <tr>\n",
       "      <th>242918</th>\n",
       "      <td>15.416667</td>\n",
       "      <td>0</td>\n",
       "      <td>28</td>\n",
       "      <td>118</td>\n",
       "      <td>4</td>\n",
       "      <td>-0.779884</td>\n",
       "      <td>-0.625923</td>\n",
       "      <td>0.000000</td>\n",
       "      <td>1.000000</td>\n",
       "      <td>-0.492548</td>\n",
       "      <td>...</td>\n",
       "      <td>1.000000</td>\n",
       "      <td>-0.492548</td>\n",
       "      <td>0.870285</td>\n",
       "      <td>0.896456</td>\n",
       "      <td>-0.443132</td>\n",
       "      <td>0.866025</td>\n",
       "      <td>-0.500000</td>\n",
       "      <td>2003.409993</td>\n",
       "      <td>2003</td>\n",
       "      <td>0.000000</td>\n",
       "    </tr>\n",
       "  </tbody>\n",
       "</table>\n",
       "<p>5 rows × 34 columns</p>\n",
       "</div>"
      ],
      "text/plain": [
       "        DISC_HOUR_OF_DAY  DISC_DAY_OF_WEEK  DISC_DAY_OF_MONTH  \\\n",
       "127888         13.633333                 1                  4   \n",
       "86126          15.733333                 4                 19   \n",
       "172621         14.916667                 1                 18   \n",
       "49094          12.516667                 0                  8   \n",
       "242918         15.416667                 0                 28   \n",
       "\n",
       "        DISC_DAY_OF_YEAR  DISC_MONTH_OF_YEAR  DISC_HOUR_OF_DAY_SIN  \\\n",
       "127888               308                  11             -0.414693   \n",
       "86126                200                   7             -0.829038   \n",
       "172621               231                   8             -0.691513   \n",
       "49094                189                   7             -0.134851   \n",
       "242918               118                   4             -0.779884   \n",
       "\n",
       "        DISC_HOUR_OF_DAY_COS  DISC_DAY_OF_WEEK_SIN  DISC_DAY_OF_WEEK_COS  \\\n",
       "127888             -0.909961              0.781831              0.623490   \n",
       "86126              -0.559193             -0.433884             -0.900969   \n",
       "172621             -0.722364              0.781831              0.623490   \n",
       "49094              -0.990866              0.000000              1.000000   \n",
       "242918             -0.625923              0.000000              1.000000   \n",
       "\n",
       "        DISC_DAY_OF_MONTH_SIN  ...  CONT_DAY_OF_WEEK_COS  \\\n",
       "127888               0.733885  ...              0.623490   \n",
       "86126               -0.697944  ...             -0.900969   \n",
       "172621              -0.536696  ...              0.623490   \n",
       "49094                0.997018  ...              1.000000   \n",
       "242918              -0.492548  ...              1.000000   \n",
       "\n",
       "        CONT_DAY_OF_MONTH_SIN  CONT_DAY_OF_MONTH_COS  CONT_DAY_OF_YEAR_SIN  \\\n",
       "127888               0.733885               0.679273             -0.833183   \n",
       "86126               -0.697944              -0.716152             -0.294462   \n",
       "172621              -0.536696              -0.843776             -0.739392   \n",
       "49094                0.997018              -0.077175             -0.109446   \n",
       "242918              -0.492548               0.870285              0.896456   \n",
       "\n",
       "        CONT_DAY_OF_YEAR_COS  CONT_MONTH_OF_YEAR_SIN  CONT_MONTH_OF_YEAR_COS  \\\n",
       "127888              0.552997               -0.500000                0.866025   \n",
       "86126              -0.955663               -0.500000               -0.866025   \n",
       "172621             -0.673275               -0.866025               -0.500000   \n",
       "49094              -0.993993               -0.500000               -0.866025   \n",
       "242918             -0.443132                0.866025               -0.500000   \n",
       "\n",
       "        CONT_DATE_FRM  FIRE_YEAR  DELTA_TIME_HOUR  \n",
       "127888    2014.927618       2014         0.233333  \n",
       "86126     2002.635352       2002         0.000000  \n",
       "172621    1992.715948       1992         0.666667  \n",
       "49094     2013.605236       2013         8.050000  \n",
       "242918    2003.409993       2003         0.000000  \n",
       "\n",
       "[5 rows x 34 columns]"
      ]
     },
     "execution_count": 87,
     "metadata": {},
     "output_type": "execute_result"
    }
   ],
   "source": [
    "X_train.head()"
   ]
  },
  {
   "cell_type": "code",
   "execution_count": 88,
   "id": "4355622e",
   "metadata": {},
   "outputs": [],
   "source": [
    "from sklearn.ensemble import RandomForestClassifier"
   ]
  },
  {
   "cell_type": "code",
   "execution_count": 89,
   "id": "a70fd400",
   "metadata": {},
   "outputs": [],
   "source": [
    "rf = RandomForestClassifier(n_estimators=10)\n",
    "rf.fit(X_train, y_train)\n",
    "feature_importances = sorted(list(zip(X_train.columns, rf.feature_importances_)), key=lambda x: -x[1])"
   ]
  },
  {
   "cell_type": "code",
   "execution_count": 90,
   "id": "db315e0d",
   "metadata": {},
   "outputs": [],
   "source": [
    "columns = list(list(zip(*feature_importances))[0])\n",
    "importances = list(list(zip(*feature_importances))[1])"
   ]
  },
  {
   "cell_type": "code",
   "execution_count": 91,
   "id": "218a105f",
   "metadata": {},
   "outputs": [
    {
     "data": {
      "image/png": "[encoded data removed]",
      "text/plain": [
       "<Figure size 1440x1440 with 1 Axes>"
      ]
     },
     "metadata": {
      "needs_background": "light"
     },
     "output_type": "display_data"
    }
   ],
   "source": [
    "plt.figure(figsize=(20,20))\n",
    "sns.barplot(x=columns, y=importances)\n",
    "plt.xticks(rotation = 45) \n",
    "plt.title(\"Time Features importance\")\n",
    "plt.show()"
   ]
  },
  {
   "cell_type": "markdown",
   "id": "7ddbaea3",
   "metadata": {},
   "source": [
    "Following this results we have concluded that the most important features are :\n",
    "DELTA_TIME_HOUR, DISC_HOUR_OF_DAY_SIN, DISC_HOUR_OF_DAY_COS, CONT_HOUR_OF_DAY_COS, CONT_HOUR_OF_DAY_SIN and DISC_DATE_FRM.\n",
    "We prefered to keep the cos and sin versions of the features, to get the cyclic attributes.\n",
    "We can drop the rest of the time features to clean the data frame."
   ]
  },
  {
   "cell_type": "code",
   "execution_count": 92,
   "id": "0ec145b8",
   "metadata": {},
   "outputs": [],
   "source": [
    "#final_time_features = ['DELTA_TIME_HOUR', 'DISC_HOUR_OF_DAY_SIN', 'DISC_HOUR_OF_DAY_COS', 'CONT_HOUR_OF_DAY_COS', 'CONT_HOUR_OF_DAY_SIN', 'DISC_DATE_FRM']\n",
    "#final_time_features = ['DISC_DAY_OF_YEAR', 'DELTA_TIME_HOUR', 'DISC_DATE_FRM', 'CONT_DATE_FRM', 'DISC_HOUR_OF_DAY_SIN', 'DISC_HOUR_OF_DAY_COS']\n",
    "final_time_features = ['DELTA_TIME_HOUR', 'DISC_DATE_FRM', 'CONT_DATE_FRM', 'DISC_DAY_OF_YEAR', 'DISC_HOUR_OF_DAY_SIN', 'DISC_HOUR_OF_DAY_COS', 'CONT_HOUR_OF_DAY_COS', 'CONT_HOUR_OF_DAY_SIN']"
   ]
  },
  {
   "cell_type": "code",
   "execution_count": 93,
   "id": "d9a69627",
   "metadata": {},
   "outputs": [
    {
     "data": {
      "image/png": "[encoded data removed]",
      "text/plain": [
       "<Figure size 1440x1440 with 1 Axes>"
      ]
     },
     "metadata": {
      "needs_background": "light"
     },
     "output_type": "display_data"
    }
   ],
   "source": [
    "# Feature selection : other features\n",
    "non_time_features = ['FIRE_SIZE', 'FIRE_SIZE_CLASS', 'LATITUDE', 'LONGITUDE',\n",
    "                'REGION', 'FREQUENCIES','FIRE_PRONE']\n",
    "x = df_fires[non_time_features]\n",
    "y = df_fires.iloc[x.index]['STAT_CAUSE_CODE']\n",
    "X_train, X_test, y_train, y_test = train_test_split(x, y, test_size=0.25)\n",
    "rf = RandomForestClassifier(random_state=6)\n",
    "rf.fit(X_train, y_train)\n",
    "feature_importances = sorted(list(zip(X_train.columns, rf.feature_importances_)), key=lambda x: -x[1])\n",
    "columns = list(list(zip(*feature_importances))[0])\n",
    "importances = list(list(zip(*feature_importances))[1])\n",
    "plt.figure(figsize=(20,20))\n",
    "sns.barplot(x=columns, y=importances)\n",
    "plt.xticks(rotation = 45) \n",
    "plt.show()"
   ]
  },
  {
   "cell_type": "code",
   "execution_count": 94,
   "id": "cf9af2fa",
   "metadata": {},
   "outputs": [
    {
     "data": {
      "image/png": "[encoded data removed]",
      "text/plain": [
       "<Figure size 1440x1440 with 1 Axes>"
      ]
     },
     "metadata": {
      "needs_background": "light"
     },
     "output_type": "display_data"
    }
   ],
   "source": [
    "# Feature selection : other features\n",
    "non_time_features = ['FIRE_SIZE', 'FIRE_SIZE_CLASS',\n",
    "                'REGION', 'FREQUENCIES','FIRE_PRONE']\n",
    "x = df_fires[non_time_features].dropna()\n",
    "y = df_fires.iloc[x.index]['STAT_CAUSE_CODE']\n",
    "X_train, X_test, y_train, y_test = train_test_split(x, y, test_size=0.25)\n",
    "rf = RandomForestClassifier(random_state=6)\n",
    "rf.fit(X_train, y_train)\n",
    "feature_importances = sorted(list(zip(X_train.columns, rf.feature_importances_)), key=lambda x: -x[1])\n",
    "columns = list(list(zip(*feature_importances))[0])\n",
    "importances = list(list(zip(*feature_importances))[1])\n",
    "plt.figure(figsize=(20,20))\n",
    "sns.barplot(x=columns, y=importances)\n",
    "plt.xticks(rotation = 45) \n",
    "plt.title(\"Geographic Features importance\")\n",
    "plt.show()"
   ]
  },
  {
   "cell_type": "code",
   "execution_count": 95,
   "id": "3bae492d",
   "metadata": {},
   "outputs": [],
   "source": [
    "# final_geography_features = ['FREQUENCIES', 'FIRE_SIZE', 'FIRE_PRONE', 'REGION']"
   ]
  },
  {
   "cell_type": "code",
   "execution_count": 96,
   "id": "b581dab8",
   "metadata": {},
   "outputs": [],
   "source": [
    "final_geography_features = ['LATITUDE', 'LONGITUDE', 'FIRE_SIZE', 'FIRE_PRONE']"
   ]
  },
  {
   "cell_type": "markdown",
   "id": "d79677ae",
   "metadata": {},
   "source": [
    "## Model "
   ]
  },
  {
   "cell_type": "code",
   "execution_count": 97,
   "id": "e30b7b81",
   "metadata": {},
   "outputs": [],
   "source": [
    "PREDICT_COLUMN_NAME = 'STAT_CAUSE_CODE'\n",
    "df_model = df_fires[final_time_features+final_geography_features+ weather_feature +[PREDICT_COLUMN_NAME]]\n",
    "x_train, x_test, y_train, y_test = train_test_split(df_model[final_time_features+final_geography_features],\n",
    "                                                    df_model[PREDICT_COLUMN_NAME], test_size=0.3)"
   ]
  },
  {
   "cell_type": "code",
   "execution_count": 98,
   "id": "6e9958d2",
   "metadata": {},
   "outputs": [
    {
     "data": {
      "text/html": [
       "<div>\n",
       "<style scoped>\n",
       "    .dataframe tbody tr th:only-of-type {\n",
       "        vertical-align: middle;\n",
       "    }\n",
       "\n",
       "    .dataframe tbody tr th {\n",
       "        vertical-align: top;\n",
       "    }\n",
       "\n",
       "    .dataframe thead th {\n",
       "        text-align: right;\n",
       "    }\n",
       "</style>\n",
       "<table border=\"1\" class=\"dataframe\">\n",
       "  <thead>\n",
       "    <tr style=\"text-align: right;\">\n",
       "      <th></th>\n",
       "      <th>DELTA_TIME_HOUR</th>\n",
       "      <th>DISC_DATE_FRM</th>\n",
       "      <th>CONT_DATE_FRM</th>\n",
       "      <th>DISC_DAY_OF_YEAR</th>\n",
       "      <th>DISC_HOUR_OF_DAY_SIN</th>\n",
       "      <th>DISC_HOUR_OF_DAY_COS</th>\n",
       "      <th>CONT_HOUR_OF_DAY_COS</th>\n",
       "      <th>CONT_HOUR_OF_DAY_SIN</th>\n",
       "      <th>LATITUDE</th>\n",
       "      <th>LONGITUDE</th>\n",
       "      <th>FIRE_SIZE</th>\n",
       "      <th>FIRE_PRONE</th>\n",
       "      <th>STORM</th>\n",
       "      <th>STAT_CAUSE_CODE</th>\n",
       "    </tr>\n",
       "  </thead>\n",
       "  <tbody>\n",
       "    <tr>\n",
       "      <th>0</th>\n",
       "      <td>44.000000</td>\n",
       "      <td>1998.683094</td>\n",
       "      <td>1998.688569</td>\n",
       "      <td>218</td>\n",
       "      <td>-0.965926</td>\n",
       "      <td>0.258819</td>\n",
       "      <td>-7.071068e-01</td>\n",
       "      <td>-0.707107</td>\n",
       "      <td>44.913889</td>\n",
       "      <td>-116.605556</td>\n",
       "      <td>5.0</td>\n",
       "      <td>5</td>\n",
       "      <td>False</td>\n",
       "      <td>1.0</td>\n",
       "    </tr>\n",
       "    <tr>\n",
       "      <th>1</th>\n",
       "      <td>2.016667</td>\n",
       "      <td>1998.610712</td>\n",
       "      <td>1998.610712</td>\n",
       "      <td>191</td>\n",
       "      <td>-0.964787</td>\n",
       "      <td>-0.263031</td>\n",
       "      <td>2.588190e-01</td>\n",
       "      <td>-0.965926</td>\n",
       "      <td>42.690200</td>\n",
       "      <td>-113.034200</td>\n",
       "      <td>7.0</td>\n",
       "      <td>5</td>\n",
       "      <td>True</td>\n",
       "      <td>1.0</td>\n",
       "    </tr>\n",
       "    <tr>\n",
       "      <th>2</th>\n",
       "      <td>4.050000</td>\n",
       "      <td>1998.602498</td>\n",
       "      <td>1998.605236</td>\n",
       "      <td>188</td>\n",
       "      <td>-0.746057</td>\n",
       "      <td>0.665882</td>\n",
       "      <td>9.762960e-01</td>\n",
       "      <td>0.216440</td>\n",
       "      <td>42.869600</td>\n",
       "      <td>-115.841800</td>\n",
       "      <td>5.0</td>\n",
       "      <td>5</td>\n",
       "      <td>True</td>\n",
       "      <td>10.0</td>\n",
       "    </tr>\n",
       "    <tr>\n",
       "      <th>3</th>\n",
       "      <td>27.150000</td>\n",
       "      <td>1998.685832</td>\n",
       "      <td>1998.688569</td>\n",
       "      <td>219</td>\n",
       "      <td>-0.220697</td>\n",
       "      <td>-0.975342</td>\n",
       "      <td>-5.000000e-01</td>\n",
       "      <td>-0.866025</td>\n",
       "      <td>45.366667</td>\n",
       "      <td>-113.966667</td>\n",
       "      <td>4.0</td>\n",
       "      <td>5</td>\n",
       "      <td>False</td>\n",
       "      <td>1.0</td>\n",
       "    </tr>\n",
       "    <tr>\n",
       "      <th>4</th>\n",
       "      <td>2.000000</td>\n",
       "      <td>1998.904517</td>\n",
       "      <td>1998.904517</td>\n",
       "      <td>299</td>\n",
       "      <td>-0.991445</td>\n",
       "      <td>0.130526</td>\n",
       "      <td>6.087614e-01</td>\n",
       "      <td>-0.793353</td>\n",
       "      <td>44.567222</td>\n",
       "      <td>-117.028056</td>\n",
       "      <td>3.0</td>\n",
       "      <td>5</td>\n",
       "      <td>False</td>\n",
       "      <td>9.0</td>\n",
       "    </tr>\n",
       "    <tr>\n",
       "      <th>...</th>\n",
       "      <td>...</td>\n",
       "      <td>...</td>\n",
       "      <td>...</td>\n",
       "      <td>...</td>\n",
       "      <td>...</td>\n",
       "      <td>...</td>\n",
       "      <td>...</td>\n",
       "      <td>...</td>\n",
       "      <td>...</td>\n",
       "      <td>...</td>\n",
       "      <td>...</td>\n",
       "      <td>...</td>\n",
       "      <td>...</td>\n",
       "      <td>...</td>\n",
       "    </tr>\n",
       "    <tr>\n",
       "      <th>297657</th>\n",
       "      <td>2.000000</td>\n",
       "      <td>2013.524641</td>\n",
       "      <td>2013.524641</td>\n",
       "      <td>160</td>\n",
       "      <td>-0.707107</td>\n",
       "      <td>-0.707107</td>\n",
       "      <td>-2.588190e-01</td>\n",
       "      <td>-0.965926</td>\n",
       "      <td>18.009444</td>\n",
       "      <td>-67.099444</td>\n",
       "      <td>26.2</td>\n",
       "      <td>4</td>\n",
       "      <td>False</td>\n",
       "      <td>7.0</td>\n",
       "    </tr>\n",
       "    <tr>\n",
       "      <th>297658</th>\n",
       "      <td>27.500000</td>\n",
       "      <td>2015.132615</td>\n",
       "      <td>2015.135352</td>\n",
       "      <td>18</td>\n",
       "      <td>-0.608761</td>\n",
       "      <td>-0.793353</td>\n",
       "      <td>-1.836970e-16</td>\n",
       "      <td>-1.000000</td>\n",
       "      <td>36.117800</td>\n",
       "      <td>-92.544400</td>\n",
       "      <td>1350.0</td>\n",
       "      <td>2</td>\n",
       "      <td>False</td>\n",
       "      <td>7.0</td>\n",
       "    </tr>\n",
       "    <tr>\n",
       "      <th>297659</th>\n",
       "      <td>2.500000</td>\n",
       "      <td>1994.912731</td>\n",
       "      <td>1994.912731</td>\n",
       "      <td>302</td>\n",
       "      <td>-0.793353</td>\n",
       "      <td>-0.608761</td>\n",
       "      <td>-1.836970e-16</td>\n",
       "      <td>-1.000000</td>\n",
       "      <td>41.575000</td>\n",
       "      <td>-78.836667</td>\n",
       "      <td>5.0</td>\n",
       "      <td>1</td>\n",
       "      <td>False</td>\n",
       "      <td>9.0</td>\n",
       "    </tr>\n",
       "    <tr>\n",
       "      <th>297660</th>\n",
       "      <td>79.600000</td>\n",
       "      <td>2010.344285</td>\n",
       "      <td>2010.352498</td>\n",
       "      <td>94</td>\n",
       "      <td>-0.533615</td>\n",
       "      <td>-0.845728</td>\n",
       "      <td>8.314696e-01</td>\n",
       "      <td>-0.555570</td>\n",
       "      <td>36.358333</td>\n",
       "      <td>-84.302778</td>\n",
       "      <td>1200.0</td>\n",
       "      <td>4</td>\n",
       "      <td>False</td>\n",
       "      <td>13.0</td>\n",
       "    </tr>\n",
       "    <tr>\n",
       "      <th>297661</th>\n",
       "      <td>1.000000</td>\n",
       "      <td>1995.129877</td>\n",
       "      <td>1995.129877</td>\n",
       "      <td>17</td>\n",
       "      <td>-0.866025</td>\n",
       "      <td>-0.500000</td>\n",
       "      <td>-2.588190e-01</td>\n",
       "      <td>-0.965926</td>\n",
       "      <td>38.423890</td>\n",
       "      <td>-76.070140</td>\n",
       "      <td>8.0</td>\n",
       "      <td>2</td>\n",
       "      <td>False</td>\n",
       "      <td>7.0</td>\n",
       "    </tr>\n",
       "  </tbody>\n",
       "</table>\n",
       "<p>297662 rows × 14 columns</p>\n",
       "</div>"
      ],
      "text/plain": [
       "        DELTA_TIME_HOUR  DISC_DATE_FRM  CONT_DATE_FRM  DISC_DAY_OF_YEAR  \\\n",
       "0             44.000000    1998.683094    1998.688569               218   \n",
       "1              2.016667    1998.610712    1998.610712               191   \n",
       "2              4.050000    1998.602498    1998.605236               188   \n",
       "3             27.150000    1998.685832    1998.688569               219   \n",
       "4              2.000000    1998.904517    1998.904517               299   \n",
       "...                 ...            ...            ...               ...   \n",
       "297657         2.000000    2013.524641    2013.524641               160   \n",
       "297658        27.500000    2015.132615    2015.135352                18   \n",
       "297659         2.500000    1994.912731    1994.912731               302   \n",
       "297660        79.600000    2010.344285    2010.352498                94   \n",
       "297661         1.000000    1995.129877    1995.129877                17   \n",
       "\n",
       "        DISC_HOUR_OF_DAY_SIN  DISC_HOUR_OF_DAY_COS  CONT_HOUR_OF_DAY_COS  \\\n",
       "0                  -0.965926              0.258819         -7.071068e-01   \n",
       "1                  -0.964787             -0.263031          2.588190e-01   \n",
       "2                  -0.746057              0.665882          9.762960e-01   \n",
       "3                  -0.220697             -0.975342         -5.000000e-01   \n",
       "4                  -0.991445              0.130526          6.087614e-01   \n",
       "...                      ...                   ...                   ...   \n",
       "297657             -0.707107             -0.707107         -2.588190e-01   \n",
       "297658             -0.608761             -0.793353         -1.836970e-16   \n",
       "297659             -0.793353             -0.608761         -1.836970e-16   \n",
       "297660             -0.533615             -0.845728          8.314696e-01   \n",
       "297661             -0.866025             -0.500000         -2.588190e-01   \n",
       "\n",
       "        CONT_HOUR_OF_DAY_SIN   LATITUDE   LONGITUDE  FIRE_SIZE  FIRE_PRONE  \\\n",
       "0                  -0.707107  44.913889 -116.605556        5.0           5   \n",
       "1                  -0.965926  42.690200 -113.034200        7.0           5   \n",
       "2                   0.216440  42.869600 -115.841800        5.0           5   \n",
       "3                  -0.866025  45.366667 -113.966667        4.0           5   \n",
       "4                  -0.793353  44.567222 -117.028056        3.0           5   \n",
       "...                      ...        ...         ...        ...         ...   \n",
       "297657             -0.965926  18.009444  -67.099444       26.2           4   \n",
       "297658             -1.000000  36.117800  -92.544400     1350.0           2   \n",
       "297659             -1.000000  41.575000  -78.836667        5.0           1   \n",
       "297660             -0.555570  36.358333  -84.302778     1200.0           4   \n",
       "297661             -0.965926  38.423890  -76.070140        8.0           2   \n",
       "\n",
       "        STORM  STAT_CAUSE_CODE  \n",
       "0       False              1.0  \n",
       "1        True              1.0  \n",
       "2        True             10.0  \n",
       "3       False              1.0  \n",
       "4       False              9.0  \n",
       "...       ...              ...  \n",
       "297657  False              7.0  \n",
       "297658  False              7.0  \n",
       "297659  False              9.0  \n",
       "297660  False             13.0  \n",
       "297661  False              7.0  \n",
       "\n",
       "[297662 rows x 14 columns]"
      ]
     },
     "execution_count": 98,
     "metadata": {},
     "output_type": "execute_result"
    }
   ],
   "source": [
    "df_model"
   ]
  },
  {
   "cell_type": "code",
   "execution_count": 99,
   "id": "5c83ce94",
   "metadata": {},
   "outputs": [
    {
     "data": {
      "text/plain": [
       "DELTA_TIME_HOUR         float64\n",
       "DISC_DATE_FRM           float64\n",
       "CONT_DATE_FRM           float64\n",
       "DISC_DAY_OF_YEAR          int64\n",
       "DISC_HOUR_OF_DAY_SIN    float64\n",
       "DISC_HOUR_OF_DAY_COS    float64\n",
       "CONT_HOUR_OF_DAY_COS    float64\n",
       "CONT_HOUR_OF_DAY_SIN    float64\n",
       "LATITUDE                float64\n",
       "LONGITUDE               float64\n",
       "FIRE_SIZE               float64\n",
       "FIRE_PRONE                int64\n",
       "STORM                      bool\n",
       "STAT_CAUSE_CODE         float64\n",
       "dtype: object"
      ]
     },
     "execution_count": 99,
     "metadata": {},
     "output_type": "execute_result"
    }
   ],
   "source": [
    "df_model.dtypes"
   ]
  },
  {
   "cell_type": "code",
   "execution_count": 100,
   "id": "21cf7134",
   "metadata": {},
   "outputs": [],
   "source": [
    "# Create a Gaussian Classifier\n",
    "clf=RandomForestClassifier(n_estimators=60)\n",
    "\n",
    "#Train the model using the training sets y_pred=clf.predict(X_test)\n",
    "clf.fit(x_train,y_train)\n",
    "\n",
    "y_pred=clf.predict(x_test)"
   ]
  },
  {
   "cell_type": "code",
   "execution_count": 101,
   "id": "91f9e384",
   "metadata": {},
   "outputs": [
    {
     "data": {
      "text/plain": [
       "0.5661561795289584"
      ]
     },
     "execution_count": 101,
     "metadata": {},
     "output_type": "execute_result"
    }
   ],
   "source": [
    "from sklearn.metrics import f1_score\n",
    "\n",
    "# F1 METRIC\n",
    "f1_score(y_test, y_pred, average='weighted')"
   ]
  },
  {
   "cell_type": "code",
   "execution_count": 102,
   "id": "56e8f7e9",
   "metadata": {},
   "outputs": [
    {
     "data": {
      "text/plain": [
       "array([ 1., 10.,  9.,  5., 11.,  3.,  2.,  8.,  6.,  4.,  7., 13., 12.])"
      ]
     },
     "execution_count": 102,
     "metadata": {},
     "output_type": "execute_result"
    }
   ],
   "source": [
    "df_model[PREDICT_COLUMN_NAME].unique()"
   ]
  },
  {
   "cell_type": "code",
   "execution_count": 103,
   "id": "2dc92e1e",
   "metadata": {},
   "outputs": [],
   "source": [
    "sorted_descr = df[['STAT_CAUSE_DESCR', PREDICT_COLUMN_NAME]].drop_duplicates().sort_values(by=PREDICT_COLUMN_NAME)['STAT_CAUSE_DESCR']"
   ]
  },
  {
   "cell_type": "code",
   "execution_count": 104,
   "id": "142c5529",
   "metadata": {},
   "outputs": [
    {
     "data": {
      "image/png": "[encoded data removed]",
      "text/plain": [
       "<Figure size 1152x504 with 2 Axes>"
      ]
     },
     "metadata": {
      "needs_background": "light"
     },
     "output_type": "display_data"
    }
   ],
   "source": [
    "from sklearn.metrics import confusion_matrix\n",
    "matrix = confusion_matrix(y_test, y_pred)\n",
    "matrix = matrix.astype('float') / matrix.sum(axis=1)[:, np.newaxis]\n",
    "\n",
    "# Build the plot\n",
    "plt.figure(figsize=(16,7))\n",
    "sns.set(font_scale=1.4)\n",
    "sns.heatmap(matrix, annot=True, annot_kws={'size':10},\n",
    "            cmap=plt.cm.Greens, linewidths=0.2)\n",
    "\n",
    "# Add labels to the plot\n",
    "tick_marks = np.arange(len(sorted_descr))\n",
    "tick_marks2 = tick_marks + 0.5\n",
    "plt.xticks(tick_marks, sorted_descr, rotation=25)\n",
    "plt.yticks(tick_marks2, sorted_descr, rotation=0)\n",
    "plt.xlabel('Predicted label')\n",
    "plt.ylabel('True label')\n",
    "plt.title('Confusion Matrix for Random Forest Model')\n",
    "plt.show()"
   ]
  }
 ],
 "metadata": {
  "kernelspec": {
   "display_name": "Python 3 (ipykernel)",
   "language": "python",
   "name": "python3"
  },
  "language_info": {
   "codemirror_mode": {
    "name": "ipython",
    "version": 3
   },
   "file_extension": ".py",
   "mimetype": "text/x-python",
   "name": "python",
   "nbconvert_exporter": "python",
   "pygments_lexer": "ipython3",
   "version": "3.9.7"
  }
 },
 "nbformat": 4,
 "nbformat_minor": 5
}
